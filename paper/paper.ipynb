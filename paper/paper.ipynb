{
 "cells": [
  {
   "cell_type": "code",
   "execution_count": null,
   "id": "1b7bdbad-9853-4710-9c59-6506721506ae",
   "metadata": {},
   "outputs": [],
   "source": [
    "I. Intro\n",
    "II. Related work\n",
    "III. Methods\n",
    "- attention method\n",
    "    - mixture\n",
    "    - product of experts\n",
    "    - lstm attention\n",
    "- data augmentation\n",
    "- interpretability\n",
    "- benchmark models\n",
    "    - frame averaging\n",
    "    - lstm+cnn\n",
    "    - 3d-cnn\n",
    "IV. Experiments\n",
    "- datasets\n",
    "- efficiency comparisons\n",
    "- interpretability\n",
    "V. Summary and outlook"
   ]
  },
  {
   "cell_type": "markdown",
   "id": "13019394-e8c3-47a1-bfa6-f48968343661",
   "metadata": {},
   "source": [
    "# Introduction"
   ]
  },
  {
   "cell_type": "markdown",
   "id": "dacb7976-f7b1-4b26-94ec-11f34588dc65",
   "metadata": {},
   "source": [
    "# Related Work"
   ]
  },
  {
   "cell_type": "markdown",
   "id": "3905c41b-72a2-4fc5-8532-d1031f511538",
   "metadata": {},
   "source": [
    "### Sample efficieincy deep learning medical imaging"
   ]
  },
  {
   "cell_type": "markdown",
   "id": "827acfc9-35a0-4afb-97db-180814e2fe55",
   "metadata": {},
   "source": [
    "### Video Classification"
   ]
  },
  {
   "cell_type": "markdown",
   "id": "37baf9f9-b49a-4deb-a803-b265a036c93b",
   "metadata": {},
   "source": [
    "### Attention"
   ]
  },
  {
   "cell_type": "markdown",
   "id": "d17cd453-bf1c-4d09-8f8b-cfc7de7fb4e4",
   "metadata": {},
   "source": [
    "### Multiple Instantce Learning\n",
    "```\n",
    "@inproceedings{ilse2018attention,\n",
    "  title={Attention-based deep multiple instance learning},\n",
    "  author={Ilse, Maximilian and Tomczak, Jakub and Welling, Max},\n",
    "  booktitle={International conference on machine learning},\n",
    "  pages={2127--2136},\n",
    "  year={2018},\n",
    "  organization={PMLR}\n",
    "}\n",
    "```"
   ]
  },
  {
   "cell_type": "markdown",
   "id": "085d7e28-d3dc-4a3e-bbb8-7a6cd80f1da0",
   "metadata": {},
   "source": [
    "### Product of experts"
   ]
  },
  {
   "cell_type": "markdown",
   "id": "d144d5e0-f697-4442-856c-44b2d0816641",
   "metadata": {},
   "source": [
    "```\n",
    "@article{hinton2002training,\n",
    "  title={Training products of experts by minimizing contrastive divergence},\n",
    "  author={Hinton, Geoffrey E},\n",
    "  journal={Neural computation},\n",
    "  volume={14},\n",
    "  number={8},\n",
    "  pages={1771--1800},\n",
    "  year={2002},\n",
    "  publisher={MIT Press}\n",
    "}\n",
    "\n",
    "```"
   ]
  },
  {
   "cell_type": "markdown",
   "id": "0bc90ffa-0fcb-4c0e-a77f-cdff90edf3c3",
   "metadata": {},
   "source": [
    "### PDA classification"
   ]
  },
  {
   "cell_type": "markdown",
   "id": "2a90bff0-88cc-4b97-8e66-274940ef42ea",
   "metadata": {},
   "source": [
    "# Methods"
   ]
  },
  {
   "cell_type": "markdown",
   "id": "6cfcdcce-ee13-4483-90b5-b11605c43233",
   "metadata": {},
   "source": [
    "### permutation invariant frame aggregation"
   ]
  },
  {
   "cell_type": "markdown",
   "id": "c49e64c8-55fd-4371-a667-aba169be2198",
   "metadata": {},
   "source": [
    "### frame data augmentation"
   ]
  },
  {
   "cell_type": "markdown",
   "id": "ea99197c-d4eb-4e30-914a-62c253b91d2b",
   "metadata": {},
   "source": [
    "### interpretability"
   ]
  },
  {
   "cell_type": "markdown",
   "id": "648619e9-194c-445c-ab4d-9e25e8ec41f1",
   "metadata": {},
   "source": [
    "### benchmark models"
   ]
  },
  {
   "cell_type": "markdown",
   "id": "a136a46b-c2fd-4bfa-96db-56a27181b0ae",
   "metadata": {},
   "source": [
    "# Experiments"
   ]
  },
  {
   "cell_type": "markdown",
   "id": "6d34c348-279c-4499-9de9-05a4b01be4c6",
   "metadata": {},
   "source": [
    "# Summary and Outlook"
   ]
  },
  {
   "cell_type": "code",
   "execution_count": null,
   "id": "6cf13839-5f3c-43fe-a86b-f6e5a27762d6",
   "metadata": {},
   "outputs": [],
   "source": []
  }
 ],
 "metadata": {
  "kernelspec": {
   "display_name": "PDA",
   "language": "python",
   "name": "pda"
  },
  "language_info": {
   "codemirror_mode": {
    "name": "ipython",
    "version": 3
   },
   "file_extension": ".py",
   "mimetype": "text/x-python",
   "name": "python",
   "nbconvert_exporter": "python",
   "pygments_lexer": "ipython3",
   "version": "3.9.12"
  }
 },
 "nbformat": 4,
 "nbformat_minor": 5
}
