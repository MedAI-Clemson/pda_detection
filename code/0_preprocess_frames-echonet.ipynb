{
 "cells": [
  {
   "cell_type": "code",
   "execution_count": 1,
   "metadata": {
    "id": "qo3Bj6VzUxwE"
   },
   "outputs": [],
   "source": [
    "import os\n",
    "import matplotlib.pyplot as plt\n",
    "import numpy as np\n",
    "import pandas as pd\n",
    "import cv2\n",
    "import json\n",
    "import glob\n",
    "\n",
    "import torch\n",
    "import torch.nn as nn\n",
    "import torchvision\n",
    "import torchvision.transforms as transforms\n",
    "import torchvision.transforms.functional as TF"
   ]
  },
  {
   "cell_type": "code",
   "execution_count": 2,
   "metadata": {},
   "outputs": [],
   "source": [
    "echonet_dir = '/zfs/wficai/Data/echonet_data/EchoNet-Dynamic/'\n",
    "frame_export_dir = '/zfs/wficai/Data/echonet_data/frames/'\n",
    "split_csv_export_dir = '/zfs/wficai/Data/echonet_data/'\n",
    "os.chdir(echonet_dir)\n",
    "d = pd.read_csv('FileList.csv')"
   ]
  },
  {
   "cell_type": "code",
   "execution_count": 3,
   "metadata": {},
   "outputs": [],
   "source": [
    "res_x = 112\n",
    "res_y = 112"
   ]
  },
  {
   "cell_type": "code",
   "execution_count": 4,
   "metadata": {},
   "outputs": [],
   "source": [
    "d['vid_path'] = d.FileName.apply(lambda x: f\"{echonet_dir}/Videos/{x}.avi\")"
   ]
  },
  {
   "cell_type": "code",
   "execution_count": 5,
   "metadata": {},
   "outputs": [
    {
     "data": {
      "text/html": [
       "<div>\n",
       "<style scoped>\n",
       "    .dataframe tbody tr th:only-of-type {\n",
       "        vertical-align: middle;\n",
       "    }\n",
       "\n",
       "    .dataframe tbody tr th {\n",
       "        vertical-align: top;\n",
       "    }\n",
       "\n",
       "    .dataframe thead th {\n",
       "        text-align: right;\n",
       "    }\n",
       "</style>\n",
       "<table border=\"1\" class=\"dataframe\">\n",
       "  <thead>\n",
       "    <tr style=\"text-align: right;\">\n",
       "      <th></th>\n",
       "      <th>FileName</th>\n",
       "      <th>EF</th>\n",
       "      <th>ESV</th>\n",
       "      <th>EDV</th>\n",
       "      <th>FrameHeight</th>\n",
       "      <th>FrameWidth</th>\n",
       "      <th>FPS</th>\n",
       "      <th>NumberOfFrames</th>\n",
       "      <th>Split</th>\n",
       "      <th>vid_path</th>\n",
       "    </tr>\n",
       "  </thead>\n",
       "  <tbody>\n",
       "    <tr>\n",
       "      <th>0</th>\n",
       "      <td>0X100009310A3BD7FC</td>\n",
       "      <td>78.498406</td>\n",
       "      <td>14.881368</td>\n",
       "      <td>69.210534</td>\n",
       "      <td>112</td>\n",
       "      <td>112</td>\n",
       "      <td>50</td>\n",
       "      <td>174</td>\n",
       "      <td>VAL</td>\n",
       "      <td>/zfs/wficai/Data/echonet_data/EchoNet-Dynamic/...</td>\n",
       "    </tr>\n",
       "    <tr>\n",
       "      <th>1</th>\n",
       "      <td>0X1002E8FBACD08477</td>\n",
       "      <td>59.101988</td>\n",
       "      <td>40.383876</td>\n",
       "      <td>98.742884</td>\n",
       "      <td>112</td>\n",
       "      <td>112</td>\n",
       "      <td>50</td>\n",
       "      <td>215</td>\n",
       "      <td>TRAIN</td>\n",
       "      <td>/zfs/wficai/Data/echonet_data/EchoNet-Dynamic/...</td>\n",
       "    </tr>\n",
       "    <tr>\n",
       "      <th>2</th>\n",
       "      <td>0X1005D03EED19C65B</td>\n",
       "      <td>62.363798</td>\n",
       "      <td>14.267784</td>\n",
       "      <td>37.909734</td>\n",
       "      <td>112</td>\n",
       "      <td>112</td>\n",
       "      <td>50</td>\n",
       "      <td>104</td>\n",
       "      <td>TRAIN</td>\n",
       "      <td>/zfs/wficai/Data/echonet_data/EchoNet-Dynamic/...</td>\n",
       "    </tr>\n",
       "    <tr>\n",
       "      <th>3</th>\n",
       "      <td>0X10075961BC11C88E</td>\n",
       "      <td>54.545097</td>\n",
       "      <td>33.143084</td>\n",
       "      <td>72.914210</td>\n",
       "      <td>112</td>\n",
       "      <td>112</td>\n",
       "      <td>55</td>\n",
       "      <td>122</td>\n",
       "      <td>TRAIN</td>\n",
       "      <td>/zfs/wficai/Data/echonet_data/EchoNet-Dynamic/...</td>\n",
       "    </tr>\n",
       "    <tr>\n",
       "      <th>4</th>\n",
       "      <td>0X10094BA0A028EAC3</td>\n",
       "      <td>24.887742</td>\n",
       "      <td>127.581945</td>\n",
       "      <td>169.855024</td>\n",
       "      <td>112</td>\n",
       "      <td>112</td>\n",
       "      <td>52</td>\n",
       "      <td>207</td>\n",
       "      <td>VAL</td>\n",
       "      <td>/zfs/wficai/Data/echonet_data/EchoNet-Dynamic/...</td>\n",
       "    </tr>\n",
       "  </tbody>\n",
       "</table>\n",
       "</div>"
      ],
      "text/plain": [
       "             FileName         EF         ESV         EDV  FrameHeight  \\\n",
       "0  0X100009310A3BD7FC  78.498406   14.881368   69.210534          112   \n",
       "1  0X1002E8FBACD08477  59.101988   40.383876   98.742884          112   \n",
       "2  0X1005D03EED19C65B  62.363798   14.267784   37.909734          112   \n",
       "3  0X10075961BC11C88E  54.545097   33.143084   72.914210          112   \n",
       "4  0X10094BA0A028EAC3  24.887742  127.581945  169.855024          112   \n",
       "\n",
       "   FrameWidth  FPS  NumberOfFrames  Split  \\\n",
       "0         112   50             174    VAL   \n",
       "1         112   50             215  TRAIN   \n",
       "2         112   50             104  TRAIN   \n",
       "3         112   55             122  TRAIN   \n",
       "4         112   52             207    VAL   \n",
       "\n",
       "                                            vid_path  \n",
       "0  /zfs/wficai/Data/echonet_data/EchoNet-Dynamic/...  \n",
       "1  /zfs/wficai/Data/echonet_data/EchoNet-Dynamic/...  \n",
       "2  /zfs/wficai/Data/echonet_data/EchoNet-Dynamic/...  \n",
       "3  /zfs/wficai/Data/echonet_data/EchoNet-Dynamic/...  \n",
       "4  /zfs/wficai/Data/echonet_data/EchoNet-Dynamic/...  "
      ]
     },
     "execution_count": 5,
     "metadata": {},
     "output_type": "execute_result"
    }
   ],
   "source": [
    "d.head()"
   ]
  },
  {
   "cell_type": "code",
   "execution_count": 16,
   "metadata": {},
   "outputs": [
    {
     "data": {
      "text/plain": [
       "123.84948384000015"
      ]
     },
     "execution_count": 16,
     "metadata": {},
     "output_type": "execute_result"
    }
   ],
   "source": [
    "# standardize ESV and EDV\n",
    "quantile_90 = pd.concat([d.ESV, d.EDV]).quantile(0.90)\n",
    "quantile_90"
   ]
  },
  {
   "cell_type": "code",
   "execution_count": 17,
   "metadata": {},
   "outputs": [],
   "source": [
    "d['ESV_scaled'] = d['ESV']/quantile_90\n",
    "d['EDV_scaled'] = d['EDV']/quantile_90"
   ]
  },
  {
   "cell_type": "code",
   "execution_count": 23,
   "metadata": {},
   "outputs": [],
   "source": [
    "for s in ('TRAIN', 'VAL', 'TEST'):\n",
    "    d.query(\"Split==@s\").to_csv(f\"{split_csv_export_dir}/{s}.csv\", index=None)"
   ]
  },
  {
   "cell_type": "markdown",
   "metadata": {},
   "source": [
    "# Preprocess frames"
   ]
  },
  {
   "cell_type": "code",
   "execution_count": 7,
   "metadata": {
    "id": "k5ybPq5SVMrn"
   },
   "outputs": [],
   "source": [
    "def preproc(frames):\n",
    "\n",
    "    frames = frames.permute(0,3,1,2)\n",
    "    \n",
    "    #Resize\n",
    "    splitFrames = torch.split(frames, 10)\n",
    "    resizedFrames = []\n",
    "    aspectRatio = (frames.shape[3])/(frames.shape[2])\n",
    "    for f in splitFrames:\n",
    "        f = TF.resize(f, res_y)\n",
    "        f = TF.center_crop(f, (res_x, res_y))\n",
    "        \n",
    "        resizedFrames.append(f)\n",
    "\n",
    "    resizedFrames = torch.concat(resizedFrames)\n",
    "    \n",
    "    return resizedFrames"
   ]
  },
  {
   "cell_type": "code",
   "execution_count": 8,
   "metadata": {
    "id": "2pXmjo0oVPD9"
   },
   "outputs": [
    {
     "name": "stdout",
     "output_type": "stream",
     "text": [
      "Converting video 10030 of 10030.                                                                    \r"
     ]
    }
   ],
   "source": [
    "frame_list = []\n",
    "for ix, row in d.iterrows():\n",
    "    print(\" \"*100, end='\\r')\n",
    "    print(f\"Converting video {ix+1} of {len(d)}.\", end=\"\\r\")\n",
    "    \n",
    "    frames, _, _ =  torchvision.io.read_video(row['vid_path'], pts_unit = 'sec')\n",
    "    frames = preproc(frames)\n",
    "    \n",
    "    # save individual frames\n",
    "    for ix, f in enumerate(frames):\n",
    "        filename = f\"{frame_export_dir}{row['FileName']}_frame{str(ix).zfill(4)}.jpg\"\n",
    "        frame_list.append({'filename': row['FileName'], 'frame': ix, 'jpg_path': filename})\n",
    "        torchvision.io.write_jpeg(f, filename)      "
   ]
  },
  {
   "cell_type": "code",
   "execution_count": 10,
   "metadata": {},
   "outputs": [],
   "source": [
    "df_frames = pd.DataFrame(frame_list)\n",
    "df_frames = df_frames.rename(columns={'filename': 'FileName'})\n",
    "df_frames.to_csv(f\"{split_csv_export_dir}/frames.csv\", index=None)"
   ]
  },
  {
   "cell_type": "code",
   "execution_count": 11,
   "metadata": {},
   "outputs": [
    {
     "data": {
      "text/html": [
       "<div>\n",
       "<style scoped>\n",
       "    .dataframe tbody tr th:only-of-type {\n",
       "        vertical-align: middle;\n",
       "    }\n",
       "\n",
       "    .dataframe tbody tr th {\n",
       "        vertical-align: top;\n",
       "    }\n",
       "\n",
       "    .dataframe thead th {\n",
       "        text-align: right;\n",
       "    }\n",
       "</style>\n",
       "<table border=\"1\" class=\"dataframe\">\n",
       "  <thead>\n",
       "    <tr style=\"text-align: right;\">\n",
       "      <th></th>\n",
       "      <th>FileName</th>\n",
       "      <th>frame</th>\n",
       "      <th>jpg_path</th>\n",
       "    </tr>\n",
       "  </thead>\n",
       "  <tbody>\n",
       "    <tr>\n",
       "      <th>0</th>\n",
       "      <td>0X100009310A3BD7FC</td>\n",
       "      <td>0</td>\n",
       "      <td>/zfs/wficai/Data/echonet_data/frames/0X1000093...</td>\n",
       "    </tr>\n",
       "    <tr>\n",
       "      <th>1</th>\n",
       "      <td>0X100009310A3BD7FC</td>\n",
       "      <td>1</td>\n",
       "      <td>/zfs/wficai/Data/echonet_data/frames/0X1000093...</td>\n",
       "    </tr>\n",
       "    <tr>\n",
       "      <th>2</th>\n",
       "      <td>0X100009310A3BD7FC</td>\n",
       "      <td>2</td>\n",
       "      <td>/zfs/wficai/Data/echonet_data/frames/0X1000093...</td>\n",
       "    </tr>\n",
       "    <tr>\n",
       "      <th>3</th>\n",
       "      <td>0X100009310A3BD7FC</td>\n",
       "      <td>3</td>\n",
       "      <td>/zfs/wficai/Data/echonet_data/frames/0X1000093...</td>\n",
       "    </tr>\n",
       "    <tr>\n",
       "      <th>4</th>\n",
       "      <td>0X100009310A3BD7FC</td>\n",
       "      <td>4</td>\n",
       "      <td>/zfs/wficai/Data/echonet_data/frames/0X1000093...</td>\n",
       "    </tr>\n",
       "    <tr>\n",
       "      <th>...</th>\n",
       "      <td>...</td>\n",
       "      <td>...</td>\n",
       "      <td>...</td>\n",
       "    </tr>\n",
       "    <tr>\n",
       "      <th>1770631</th>\n",
       "      <td>0X5515B0BD077BE68A</td>\n",
       "      <td>121</td>\n",
       "      <td>/zfs/wficai/Data/echonet_data/frames/0X5515B0B...</td>\n",
       "    </tr>\n",
       "    <tr>\n",
       "      <th>1770632</th>\n",
       "      <td>0X5515B0BD077BE68A</td>\n",
       "      <td>122</td>\n",
       "      <td>/zfs/wficai/Data/echonet_data/frames/0X5515B0B...</td>\n",
       "    </tr>\n",
       "    <tr>\n",
       "      <th>1770633</th>\n",
       "      <td>0X5515B0BD077BE68A</td>\n",
       "      <td>123</td>\n",
       "      <td>/zfs/wficai/Data/echonet_data/frames/0X5515B0B...</td>\n",
       "    </tr>\n",
       "    <tr>\n",
       "      <th>1770634</th>\n",
       "      <td>0X5515B0BD077BE68A</td>\n",
       "      <td>124</td>\n",
       "      <td>/zfs/wficai/Data/echonet_data/frames/0X5515B0B...</td>\n",
       "    </tr>\n",
       "    <tr>\n",
       "      <th>1770635</th>\n",
       "      <td>0X5515B0BD077BE68A</td>\n",
       "      <td>125</td>\n",
       "      <td>/zfs/wficai/Data/echonet_data/frames/0X5515B0B...</td>\n",
       "    </tr>\n",
       "  </tbody>\n",
       "</table>\n",
       "<p>1770636 rows × 3 columns</p>\n",
       "</div>"
      ],
      "text/plain": [
       "                   FileName  frame  \\\n",
       "0        0X100009310A3BD7FC      0   \n",
       "1        0X100009310A3BD7FC      1   \n",
       "2        0X100009310A3BD7FC      2   \n",
       "3        0X100009310A3BD7FC      3   \n",
       "4        0X100009310A3BD7FC      4   \n",
       "...                     ...    ...   \n",
       "1770631  0X5515B0BD077BE68A    121   \n",
       "1770632  0X5515B0BD077BE68A    122   \n",
       "1770633  0X5515B0BD077BE68A    123   \n",
       "1770634  0X5515B0BD077BE68A    124   \n",
       "1770635  0X5515B0BD077BE68A    125   \n",
       "\n",
       "                                                  jpg_path  \n",
       "0        /zfs/wficai/Data/echonet_data/frames/0X1000093...  \n",
       "1        /zfs/wficai/Data/echonet_data/frames/0X1000093...  \n",
       "2        /zfs/wficai/Data/echonet_data/frames/0X1000093...  \n",
       "3        /zfs/wficai/Data/echonet_data/frames/0X1000093...  \n",
       "4        /zfs/wficai/Data/echonet_data/frames/0X1000093...  \n",
       "...                                                    ...  \n",
       "1770631  /zfs/wficai/Data/echonet_data/frames/0X5515B0B...  \n",
       "1770632  /zfs/wficai/Data/echonet_data/frames/0X5515B0B...  \n",
       "1770633  /zfs/wficai/Data/echonet_data/frames/0X5515B0B...  \n",
       "1770634  /zfs/wficai/Data/echonet_data/frames/0X5515B0B...  \n",
       "1770635  /zfs/wficai/Data/echonet_data/frames/0X5515B0B...  \n",
       "\n",
       "[1770636 rows x 3 columns]"
      ]
     },
     "execution_count": 11,
     "metadata": {},
     "output_type": "execute_result"
    }
   ],
   "source": [
    "df_frames"
   ]
  },
  {
   "cell_type": "code",
   "execution_count": null,
   "metadata": {},
   "outputs": [],
   "source": []
  }
 ],
 "metadata": {
  "colab": {
   "name": "Preprocessing Frame Generator",
   "provenance": []
  },
  "kernelspec": {
   "display_name": "PDA",
   "language": "python",
   "name": "pda"
  },
  "language_info": {
   "codemirror_mode": {
    "name": "ipython",
    "version": 3
   },
   "file_extension": ".py",
   "mimetype": "text/x-python",
   "name": "python",
   "nbconvert_exporter": "python",
   "pygments_lexer": "ipython3",
   "version": "3.9.12"
  }
 },
 "nbformat": 4,
 "nbformat_minor": 4
}
