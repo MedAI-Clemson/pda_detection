{
 "cells": [
  {
   "cell_type": "code",
   "execution_count": 4,
   "metadata": {},
   "outputs": [],
   "source": [
    "import json\n",
    "import pandas as pd\n",
    "import glob"
   ]
  },
  {
   "cell_type": "code",
   "execution_count": 5,
   "metadata": {},
   "outputs": [],
   "source": [
    "data_dir = \"/project/dane2/wficai/pda/external_validation/Boston/frames\"\n",
    "study_csv = \"data_resources/study_id_to_pda_status_mapping.csv\"\n",
    "labelbox_csv = \"data_resources/ground_truth.csv\""
   ]
  },
  {
   "cell_type": "markdown",
   "metadata": {},
   "source": [
    "# Labeled View and Mode data for filtering"
   ]
  },
  {
   "cell_type": "code",
   "execution_count": 6,
   "metadata": {},
   "outputs": [
    {
     "data": {
      "text/html": [
       "<div>\n",
       "<style scoped>\n",
       "    .dataframe tbody tr th:only-of-type {\n",
       "        vertical-align: middle;\n",
       "    }\n",
       "\n",
       "    .dataframe tbody tr th {\n",
       "        vertical-align: top;\n",
       "    }\n",
       "\n",
       "    .dataframe thead th {\n",
       "        text-align: right;\n",
       "    }\n",
       "</style>\n",
       "<table border=\"1\" class=\"dataframe\">\n",
       "  <thead>\n",
       "    <tr style=\"text-align: right;\">\n",
       "      <th></th>\n",
       "      <th>clip_id</th>\n",
       "      <th>anatomical_view</th>\n",
       "      <th>imaging_modality</th>\n",
       "    </tr>\n",
       "  </thead>\n",
       "  <tbody>\n",
       "    <tr>\n",
       "      <th>0</th>\n",
       "      <td>1_100_1.2.840.11348449676493461455641392115705</td>\n",
       "      <td>non_pda_view</td>\n",
       "      <td>NaN</td>\n",
       "    </tr>\n",
       "    <tr>\n",
       "      <th>1</th>\n",
       "      <td>1_100_1.2.840.24572707487245121949231819213812</td>\n",
       "      <td>non_pda_view</td>\n",
       "      <td>NaN</td>\n",
       "    </tr>\n",
       "    <tr>\n",
       "      <th>2</th>\n",
       "      <td>1_100_1.2.840.25823283352704988781894431829478</td>\n",
       "      <td>non_pda_view</td>\n",
       "      <td>NaN</td>\n",
       "    </tr>\n",
       "    <tr>\n",
       "      <th>3</th>\n",
       "      <td>1_100_1.2.840.85458994400069811464357653232227</td>\n",
       "      <td>non_pda_view</td>\n",
       "      <td>NaN</td>\n",
       "    </tr>\n",
       "    <tr>\n",
       "      <th>4</th>\n",
       "      <td>1_100_1.2.840.91191565485023629653170076312991</td>\n",
       "      <td>non_pda_view</td>\n",
       "      <td>NaN</td>\n",
       "    </tr>\n",
       "    <tr>\n",
       "      <th>...</th>\n",
       "      <td>...</td>\n",
       "      <td>...</td>\n",
       "      <td>...</td>\n",
       "    </tr>\n",
       "    <tr>\n",
       "      <th>2179</th>\n",
       "      <td>1_9_1.2.840.87814992980701538212818673097911</td>\n",
       "      <td>pda_related_view</td>\n",
       "      <td>color_doppler</td>\n",
       "    </tr>\n",
       "    <tr>\n",
       "      <th>2180</th>\n",
       "      <td>1_9_1.2.840.91191565485023629653170076312991</td>\n",
       "      <td>non_pda_view</td>\n",
       "      <td>NaN</td>\n",
       "    </tr>\n",
       "    <tr>\n",
       "      <th>2181</th>\n",
       "      <td>1_9_1.2.840.94689438369083512870257995817850</td>\n",
       "      <td>non_pda_view</td>\n",
       "      <td>NaN</td>\n",
       "    </tr>\n",
       "    <tr>\n",
       "      <th>2182</th>\n",
       "      <td>1_9_1.2.840.98762134419995893455563586563363</td>\n",
       "      <td>non_pda_view</td>\n",
       "      <td>NaN</td>\n",
       "    </tr>\n",
       "    <tr>\n",
       "      <th>2183</th>\n",
       "      <td>1_9_1.2.840.99810563647194059285337754442311</td>\n",
       "      <td>non_pda_view</td>\n",
       "      <td>NaN</td>\n",
       "    </tr>\n",
       "  </tbody>\n",
       "</table>\n",
       "<p>2184 rows × 3 columns</p>\n",
       "</div>"
      ],
      "text/plain": [
       "                                             clip_id   anatomical_view  \\\n",
       "0     1_100_1.2.840.11348449676493461455641392115705      non_pda_view   \n",
       "1     1_100_1.2.840.24572707487245121949231819213812      non_pda_view   \n",
       "2     1_100_1.2.840.25823283352704988781894431829478      non_pda_view   \n",
       "3     1_100_1.2.840.85458994400069811464357653232227      non_pda_view   \n",
       "4     1_100_1.2.840.91191565485023629653170076312991      non_pda_view   \n",
       "...                                              ...               ...   \n",
       "2179    1_9_1.2.840.87814992980701538212818673097911  pda_related_view   \n",
       "2180    1_9_1.2.840.91191565485023629653170076312991      non_pda_view   \n",
       "2181    1_9_1.2.840.94689438369083512870257995817850      non_pda_view   \n",
       "2182    1_9_1.2.840.98762134419995893455563586563363      non_pda_view   \n",
       "2183    1_9_1.2.840.99810563647194059285337754442311      non_pda_view   \n",
       "\n",
       "     imaging_modality  \n",
       "0                 NaN  \n",
       "1                 NaN  \n",
       "2                 NaN  \n",
       "3                 NaN  \n",
       "4                 NaN  \n",
       "...               ...  \n",
       "2179    color_doppler  \n",
       "2180              NaN  \n",
       "2181              NaN  \n",
       "2182              NaN  \n",
       "2183              NaN  \n",
       "\n",
       "[2184 rows x 3 columns]"
      ]
     },
     "execution_count": 6,
     "metadata": {},
     "output_type": "execute_result"
    }
   ],
   "source": [
    "df_vm = pd.read_csv(labelbox_csv)\n",
    "\n",
    "# rename \"global_key\" column to \"clip_id\"\n",
    "df_vm = df_vm.rename(columns={\"global_key\": \"clip_id\"})\n",
    "\n",
    "# only include clip_id, anatomical_view, and imaging_modality columns\n",
    "df_vm = df_vm[[\"clip_id\", \"anatomical_view\", \"imaging_modality\"]]\n",
    "\n",
    "# # filter to only include \"color_doppler\" and \"color_compare\" imaging_modalities\n",
    "# df_vm = df_vm[df_vm[\"imaging_modality\"].isin({\"color_doppler\", \"color_compare\"})]\n",
    "\n",
    "df_vm"
   ]
  },
  {
   "cell_type": "markdown",
   "metadata": {},
   "source": [
    "# PDA Status data"
   ]
  },
  {
   "cell_type": "code",
   "execution_count": 7,
   "metadata": {},
   "outputs": [
    {
     "data": {
      "text/html": [
       "<div>\n",
       "<style scoped>\n",
       "    .dataframe tbody tr th:only-of-type {\n",
       "        vertical-align: middle;\n",
       "    }\n",
       "\n",
       "    .dataframe tbody tr th {\n",
       "        vertical-align: top;\n",
       "    }\n",
       "\n",
       "    .dataframe thead th {\n",
       "        text-align: right;\n",
       "    }\n",
       "</style>\n",
       "<table border=\"1\" class=\"dataframe\">\n",
       "  <thead>\n",
       "    <tr style=\"text-align: right;\">\n",
       "      <th></th>\n",
       "      <th>has_pda</th>\n",
       "      <th>study_id</th>\n",
       "    </tr>\n",
       "  </thead>\n",
       "  <tbody>\n",
       "    <tr>\n",
       "      <th>0</th>\n",
       "      <td>1</td>\n",
       "      <td>1.2.840.36739489188022575661183006720752</td>\n",
       "    </tr>\n",
       "    <tr>\n",
       "      <th>1</th>\n",
       "      <td>1</td>\n",
       "      <td>1.2.840.59459975202128111902049599635364</td>\n",
       "    </tr>\n",
       "    <tr>\n",
       "      <th>2</th>\n",
       "      <td>1</td>\n",
       "      <td>1.2.840.27479349261379474174666099986067</td>\n",
       "    </tr>\n",
       "    <tr>\n",
       "      <th>3</th>\n",
       "      <td>1</td>\n",
       "      <td>1.2.840.85458994400069811464357653232227</td>\n",
       "    </tr>\n",
       "    <tr>\n",
       "      <th>4</th>\n",
       "      <td>1</td>\n",
       "      <td>1.2.840.58026814883990290449038193782372</td>\n",
       "    </tr>\n",
       "  </tbody>\n",
       "</table>\n",
       "</div>"
      ],
      "text/plain": [
       "   has_pda                                  study_id\n",
       "0        1  1.2.840.36739489188022575661183006720752\n",
       "1        1  1.2.840.59459975202128111902049599635364\n",
       "2        1  1.2.840.27479349261379474174666099986067\n",
       "3        1  1.2.840.85458994400069811464357653232227\n",
       "4        1  1.2.840.58026814883990290449038193782372"
      ]
     },
     "execution_count": 7,
     "metadata": {},
     "output_type": "execute_result"
    }
   ],
   "source": [
    "df_study = pd.read_csv(study_csv)[['has_pda', 'Hashed_Study_UID']]\n",
    "\n",
    "df_study.columns = ['has_pda', 'study_id']\n",
    "df_study.head()"
   ]
  },
  {
   "cell_type": "code",
   "execution_count": 8,
   "metadata": {},
   "outputs": [
    {
     "data": {
      "text/plain": [
       "1    64\n",
       "0    56\n",
       "Name: has_pda, dtype: int64"
      ]
     },
     "execution_count": 8,
     "metadata": {},
     "output_type": "execute_result"
    }
   ],
   "source": [
    "df_study.has_pda.value_counts()"
   ]
  },
  {
   "cell_type": "code",
   "execution_count": 9,
   "metadata": {},
   "outputs": [],
   "source": [
    "# create a dictionary mapping from study_id to has_pda\n",
    "study_id_to_pda = dict(zip(df_study.study_id, df_study.has_pda))"
   ]
  },
  {
   "cell_type": "markdown",
   "metadata": {},
   "source": [
    "## Create csv containing all frames"
   ]
  },
  {
   "cell_type": "code",
   "execution_count": 10,
   "metadata": {},
   "outputs": [
    {
     "data": {
      "text/plain": [
       "['/project/dane2/wficai/pda/external_validation/Boston/frames/1.2.840.10008274105826202655205768128764/1_103_1.2.840.10008274105826202655205768128764/frame_0001.jpg',\n",
       " '/project/dane2/wficai/pda/external_validation/Boston/frames/1.2.840.10008274105826202655205768128764/1_103_1.2.840.10008274105826202655205768128764/frame_0002.jpg',\n",
       " '/project/dane2/wficai/pda/external_validation/Boston/frames/1.2.840.10008274105826202655205768128764/1_103_1.2.840.10008274105826202655205768128764/frame_0003.jpg',\n",
       " '/project/dane2/wficai/pda/external_validation/Boston/frames/1.2.840.10008274105826202655205768128764/1_103_1.2.840.10008274105826202655205768128764/frame_0004.jpg',\n",
       " '/project/dane2/wficai/pda/external_validation/Boston/frames/1.2.840.10008274105826202655205768128764/1_103_1.2.840.10008274105826202655205768128764/frame_0005.jpg']"
      ]
     },
     "execution_count": 10,
     "metadata": {},
     "output_type": "execute_result"
    }
   ],
   "source": [
    "# use glob to get all jpg files in the data directory\n",
    "jpg_files = glob.glob(f\"{data_dir}/**/*.jpg\", recursive=True)\n",
    "\n",
    "jpg_files[:5]"
   ]
  },
  {
   "cell_type": "code",
   "execution_count": 11,
   "metadata": {},
   "outputs": [
    {
     "data": {
      "text/html": [
       "<div>\n",
       "<style scoped>\n",
       "    .dataframe tbody tr th:only-of-type {\n",
       "        vertical-align: middle;\n",
       "    }\n",
       "\n",
       "    .dataframe tbody tr th {\n",
       "        vertical-align: top;\n",
       "    }\n",
       "\n",
       "    .dataframe thead th {\n",
       "        text-align: right;\n",
       "    }\n",
       "</style>\n",
       "<table border=\"1\" class=\"dataframe\">\n",
       "  <thead>\n",
       "    <tr style=\"text-align: right;\">\n",
       "      <th></th>\n",
       "      <th>study_id</th>\n",
       "      <th>clip_id</th>\n",
       "      <th>patient_type</th>\n",
       "      <th>Split</th>\n",
       "      <th>png_path</th>\n",
       "    </tr>\n",
       "  </thead>\n",
       "  <tbody>\n",
       "    <tr>\n",
       "      <th>0</th>\n",
       "      <td>1.2.840.10008274105826202655205768128764</td>\n",
       "      <td>1_103_1.2.840.10008274105826202655205768128764</td>\n",
       "      <td>pda</td>\n",
       "      <td>TEST</td>\n",
       "      <td>/project/dane2/wficai/pda/external_validation/...</td>\n",
       "    </tr>\n",
       "    <tr>\n",
       "      <th>1</th>\n",
       "      <td>1.2.840.10008274105826202655205768128764</td>\n",
       "      <td>1_103_1.2.840.10008274105826202655205768128764</td>\n",
       "      <td>pda</td>\n",
       "      <td>TEST</td>\n",
       "      <td>/project/dane2/wficai/pda/external_validation/...</td>\n",
       "    </tr>\n",
       "    <tr>\n",
       "      <th>2</th>\n",
       "      <td>1.2.840.10008274105826202655205768128764</td>\n",
       "      <td>1_103_1.2.840.10008274105826202655205768128764</td>\n",
       "      <td>pda</td>\n",
       "      <td>TEST</td>\n",
       "      <td>/project/dane2/wficai/pda/external_validation/...</td>\n",
       "    </tr>\n",
       "    <tr>\n",
       "      <th>3</th>\n",
       "      <td>1.2.840.10008274105826202655205768128764</td>\n",
       "      <td>1_103_1.2.840.10008274105826202655205768128764</td>\n",
       "      <td>pda</td>\n",
       "      <td>TEST</td>\n",
       "      <td>/project/dane2/wficai/pda/external_validation/...</td>\n",
       "    </tr>\n",
       "    <tr>\n",
       "      <th>4</th>\n",
       "      <td>1.2.840.10008274105826202655205768128764</td>\n",
       "      <td>1_103_1.2.840.10008274105826202655205768128764</td>\n",
       "      <td>pda</td>\n",
       "      <td>TEST</td>\n",
       "      <td>/project/dane2/wficai/pda/external_validation/...</td>\n",
       "    </tr>\n",
       "    <tr>\n",
       "      <th>...</th>\n",
       "      <td>...</td>\n",
       "      <td>...</td>\n",
       "      <td>...</td>\n",
       "      <td>...</td>\n",
       "      <td>...</td>\n",
       "    </tr>\n",
       "    <tr>\n",
       "      <th>237936</th>\n",
       "      <td>1.2.840.99810563647194059285337754442311</td>\n",
       "      <td>1_9_1.2.840.99810563647194059285337754442311</td>\n",
       "      <td>pda</td>\n",
       "      <td>TEST</td>\n",
       "      <td>/project/dane2/wficai/pda/external_validation/...</td>\n",
       "    </tr>\n",
       "    <tr>\n",
       "      <th>237937</th>\n",
       "      <td>1.2.840.99810563647194059285337754442311</td>\n",
       "      <td>1_9_1.2.840.99810563647194059285337754442311</td>\n",
       "      <td>pda</td>\n",
       "      <td>TEST</td>\n",
       "      <td>/project/dane2/wficai/pda/external_validation/...</td>\n",
       "    </tr>\n",
       "    <tr>\n",
       "      <th>237938</th>\n",
       "      <td>1.2.840.99810563647194059285337754442311</td>\n",
       "      <td>1_9_1.2.840.99810563647194059285337754442311</td>\n",
       "      <td>pda</td>\n",
       "      <td>TEST</td>\n",
       "      <td>/project/dane2/wficai/pda/external_validation/...</td>\n",
       "    </tr>\n",
       "    <tr>\n",
       "      <th>237939</th>\n",
       "      <td>1.2.840.99810563647194059285337754442311</td>\n",
       "      <td>1_9_1.2.840.99810563647194059285337754442311</td>\n",
       "      <td>pda</td>\n",
       "      <td>TEST</td>\n",
       "      <td>/project/dane2/wficai/pda/external_validation/...</td>\n",
       "    </tr>\n",
       "    <tr>\n",
       "      <th>237940</th>\n",
       "      <td>1.2.840.99810563647194059285337754442311</td>\n",
       "      <td>1_9_1.2.840.99810563647194059285337754442311</td>\n",
       "      <td>pda</td>\n",
       "      <td>TEST</td>\n",
       "      <td>/project/dane2/wficai/pda/external_validation/...</td>\n",
       "    </tr>\n",
       "  </tbody>\n",
       "</table>\n",
       "<p>237941 rows × 5 columns</p>\n",
       "</div>"
      ],
      "text/plain": [
       "                                        study_id  \\\n",
       "0       1.2.840.10008274105826202655205768128764   \n",
       "1       1.2.840.10008274105826202655205768128764   \n",
       "2       1.2.840.10008274105826202655205768128764   \n",
       "3       1.2.840.10008274105826202655205768128764   \n",
       "4       1.2.840.10008274105826202655205768128764   \n",
       "...                                          ...   \n",
       "237936  1.2.840.99810563647194059285337754442311   \n",
       "237937  1.2.840.99810563647194059285337754442311   \n",
       "237938  1.2.840.99810563647194059285337754442311   \n",
       "237939  1.2.840.99810563647194059285337754442311   \n",
       "237940  1.2.840.99810563647194059285337754442311   \n",
       "\n",
       "                                               clip_id patient_type Split  \\\n",
       "0       1_103_1.2.840.10008274105826202655205768128764          pda  TEST   \n",
       "1       1_103_1.2.840.10008274105826202655205768128764          pda  TEST   \n",
       "2       1_103_1.2.840.10008274105826202655205768128764          pda  TEST   \n",
       "3       1_103_1.2.840.10008274105826202655205768128764          pda  TEST   \n",
       "4       1_103_1.2.840.10008274105826202655205768128764          pda  TEST   \n",
       "...                                                ...          ...   ...   \n",
       "237936    1_9_1.2.840.99810563647194059285337754442311          pda  TEST   \n",
       "237937    1_9_1.2.840.99810563647194059285337754442311          pda  TEST   \n",
       "237938    1_9_1.2.840.99810563647194059285337754442311          pda  TEST   \n",
       "237939    1_9_1.2.840.99810563647194059285337754442311          pda  TEST   \n",
       "237940    1_9_1.2.840.99810563647194059285337754442311          pda  TEST   \n",
       "\n",
       "                                                 png_path  \n",
       "0       /project/dane2/wficai/pda/external_validation/...  \n",
       "1       /project/dane2/wficai/pda/external_validation/...  \n",
       "2       /project/dane2/wficai/pda/external_validation/...  \n",
       "3       /project/dane2/wficai/pda/external_validation/...  \n",
       "4       /project/dane2/wficai/pda/external_validation/...  \n",
       "...                                                   ...  \n",
       "237936  /project/dane2/wficai/pda/external_validation/...  \n",
       "237937  /project/dane2/wficai/pda/external_validation/...  \n",
       "237938  /project/dane2/wficai/pda/external_validation/...  \n",
       "237939  /project/dane2/wficai/pda/external_validation/...  \n",
       "237940  /project/dane2/wficai/pda/external_validation/...  \n",
       "\n",
       "[237941 rows x 5 columns]"
      ]
     },
     "execution_count": 11,
     "metadata": {},
     "output_type": "execute_result"
    }
   ],
   "source": [
    "# build the dataframe from the file paths\n",
    "def extract_record(file_path):\n",
    "    split = file_path.split(\"/\")\n",
    "    condition_dict = {0: \"nopda\", 1: \"pda\"}\n",
    "\n",
    "    split_dict = dict(\n",
    "        Train = \"TRAIN\",\n",
    "        Train_pdaFiltered = \"TRAIN_PDAFILTERED\",\n",
    "        Test = \"TEST\",\n",
    "        Val = \"VAL\"\n",
    "    )\n",
    "\n",
    "    record = dict(\n",
    "        study_id = split[-3],\n",
    "        clip_id = split[-2],\n",
    "        patient_type = condition_dict[study_id_to_pda[split[-3]]],\n",
    "        Split = split_dict[\"Test\"],\n",
    "        png_path = file_path\n",
    "    )\n",
    "\n",
    "    return record\n",
    "\n",
    "df_frames = pd.DataFrame([extract_record(f) for f in jpg_files])\n",
    "df_frames"
   ]
  },
  {
   "cell_type": "markdown",
   "metadata": {},
   "source": [
    "# Merge the label data"
   ]
  },
  {
   "cell_type": "code",
   "execution_count": 12,
   "metadata": {},
   "outputs": [
    {
     "data": {
      "text/html": [
       "<div>\n",
       "<style scoped>\n",
       "    .dataframe tbody tr th:only-of-type {\n",
       "        vertical-align: middle;\n",
       "    }\n",
       "\n",
       "    .dataframe tbody tr th {\n",
       "        vertical-align: top;\n",
       "    }\n",
       "\n",
       "    .dataframe thead th {\n",
       "        text-align: right;\n",
       "    }\n",
       "</style>\n",
       "<table border=\"1\" class=\"dataframe\">\n",
       "  <thead>\n",
       "    <tr style=\"text-align: right;\">\n",
       "      <th></th>\n",
       "      <th>clip_id</th>\n",
       "      <th>anatomical_view</th>\n",
       "      <th>imaging_modality</th>\n",
       "      <th>study_id</th>\n",
       "      <th>patient_type</th>\n",
       "      <th>Split</th>\n",
       "      <th>png_path</th>\n",
       "    </tr>\n",
       "  </thead>\n",
       "  <tbody>\n",
       "    <tr>\n",
       "      <th>0</th>\n",
       "      <td>1_100_1.2.840.11348449676493461455641392115705</td>\n",
       "      <td>non_pda_view</td>\n",
       "      <td>NaN</td>\n",
       "      <td>1.2.840.11348449676493461455641392115705</td>\n",
       "      <td>nopda</td>\n",
       "      <td>TEST</td>\n",
       "      <td>/project/dane2/wficai/pda/external_validation/...</td>\n",
       "    </tr>\n",
       "    <tr>\n",
       "      <th>1</th>\n",
       "      <td>1_100_1.2.840.11348449676493461455641392115705</td>\n",
       "      <td>non_pda_view</td>\n",
       "      <td>NaN</td>\n",
       "      <td>1.2.840.11348449676493461455641392115705</td>\n",
       "      <td>nopda</td>\n",
       "      <td>TEST</td>\n",
       "      <td>/project/dane2/wficai/pda/external_validation/...</td>\n",
       "    </tr>\n",
       "    <tr>\n",
       "      <th>2</th>\n",
       "      <td>1_100_1.2.840.11348449676493461455641392115705</td>\n",
       "      <td>non_pda_view</td>\n",
       "      <td>NaN</td>\n",
       "      <td>1.2.840.11348449676493461455641392115705</td>\n",
       "      <td>nopda</td>\n",
       "      <td>TEST</td>\n",
       "      <td>/project/dane2/wficai/pda/external_validation/...</td>\n",
       "    </tr>\n",
       "    <tr>\n",
       "      <th>3</th>\n",
       "      <td>1_100_1.2.840.11348449676493461455641392115705</td>\n",
       "      <td>non_pda_view</td>\n",
       "      <td>NaN</td>\n",
       "      <td>1.2.840.11348449676493461455641392115705</td>\n",
       "      <td>nopda</td>\n",
       "      <td>TEST</td>\n",
       "      <td>/project/dane2/wficai/pda/external_validation/...</td>\n",
       "    </tr>\n",
       "    <tr>\n",
       "      <th>4</th>\n",
       "      <td>1_100_1.2.840.11348449676493461455641392115705</td>\n",
       "      <td>non_pda_view</td>\n",
       "      <td>NaN</td>\n",
       "      <td>1.2.840.11348449676493461455641392115705</td>\n",
       "      <td>nopda</td>\n",
       "      <td>TEST</td>\n",
       "      <td>/project/dane2/wficai/pda/external_validation/...</td>\n",
       "    </tr>\n",
       "  </tbody>\n",
       "</table>\n",
       "</div>"
      ],
      "text/plain": [
       "                                          clip_id anatomical_view  \\\n",
       "0  1_100_1.2.840.11348449676493461455641392115705    non_pda_view   \n",
       "1  1_100_1.2.840.11348449676493461455641392115705    non_pda_view   \n",
       "2  1_100_1.2.840.11348449676493461455641392115705    non_pda_view   \n",
       "3  1_100_1.2.840.11348449676493461455641392115705    non_pda_view   \n",
       "4  1_100_1.2.840.11348449676493461455641392115705    non_pda_view   \n",
       "\n",
       "  imaging_modality                                  study_id patient_type  \\\n",
       "0              NaN  1.2.840.11348449676493461455641392115705        nopda   \n",
       "1              NaN  1.2.840.11348449676493461455641392115705        nopda   \n",
       "2              NaN  1.2.840.11348449676493461455641392115705        nopda   \n",
       "3              NaN  1.2.840.11348449676493461455641392115705        nopda   \n",
       "4              NaN  1.2.840.11348449676493461455641392115705        nopda   \n",
       "\n",
       "  Split                                           png_path  \n",
       "0  TEST  /project/dane2/wficai/pda/external_validation/...  \n",
       "1  TEST  /project/dane2/wficai/pda/external_validation/...  \n",
       "2  TEST  /project/dane2/wficai/pda/external_validation/...  \n",
       "3  TEST  /project/dane2/wficai/pda/external_validation/...  \n",
       "4  TEST  /project/dane2/wficai/pda/external_validation/...  "
      ]
     },
     "execution_count": 12,
     "metadata": {},
     "output_type": "execute_result"
    }
   ],
   "source": [
    "df_merged = df_vm.merge(df_frames, on=\"clip_id\", how=\"inner\")\n",
    "df_merged.head()"
   ]
  },
  {
   "cell_type": "code",
   "execution_count": 13,
   "metadata": {},
   "outputs": [
    {
     "data": {
      "text/plain": [
       "non_pda_view        189379\n",
       "pda_related_view     25093\n",
       "pda_view             23469\n",
       "Name: anatomical_view, dtype: int64"
      ]
     },
     "execution_count": 13,
     "metadata": {},
     "output_type": "execute_result"
    }
   ],
   "source": [
    "df_merged.anatomical_view.value_counts()"
   ]
  },
  {
   "cell_type": "code",
   "execution_count": 14,
   "metadata": {},
   "outputs": [
    {
     "data": {
      "text/plain": [
       "color_compare    23984\n",
       "color_doppler    13750\n",
       "grayscale        10774\n",
       "sepia               54\n",
       "Name: imaging_modality, dtype: int64"
      ]
     },
     "execution_count": 14,
     "metadata": {},
     "output_type": "execute_result"
    }
   ],
   "source": [
    "df_merged.imaging_modality.value_counts()"
   ]
  },
  {
   "cell_type": "code",
   "execution_count": 15,
   "metadata": {},
   "outputs": [
    {
     "data": {
      "text/plain": [
       "115"
      ]
     },
     "execution_count": 15,
     "metadata": {},
     "output_type": "execute_result"
    }
   ],
   "source": [
    "df_merged.study_id.nunique()"
   ]
  },
  {
   "cell_type": "code",
   "execution_count": 16,
   "metadata": {},
   "outputs": [],
   "source": [
    "# number of clips per study\n",
    "df_numclips = df_merged.groupby(\"study_id\", as_index=False).clip_id.nunique()\n",
    "\n",
    "# rename clip_id to num_clips\n",
    "df_numclips = df_numclips.rename(columns={\"clip_id\": \"num_clips\"})\n",
    "\n",
    "df_numclips.to_csv(\"data_resources/num_clips_per_study.csv\", index=False)"
   ]
  },
  {
   "cell_type": "code",
   "execution_count": 17,
   "metadata": {},
   "outputs": [
    {
     "data": {
      "text/plain": [
       "{'1.2.840.26595384206698375655240022415660',\n",
       " '1.2.840.60754225459836956382043835511575',\n",
       " '1.2.840.91321638748569760616789524179261',\n",
       " '1.2.840.94708146669374965808973852599351',\n",
       " '1.2.840.97991357500518621499961722121851'}"
      ]
     },
     "execution_count": 17,
     "metadata": {},
     "output_type": "execute_result"
    }
   ],
   "source": [
    "# load the full list of study ids and examine the lost studies\n",
    "all_studies = set(pd.read_csv(\"data_resources/anonymous_project_ids.csv\", header=None).loc[:,0])\n",
    "all_studies - set(df_merged.study_id)\n",
    "\n",
    "# all of these had no videos"
   ]
  },
  {
   "cell_type": "code",
   "execution_count": 18,
   "metadata": {},
   "outputs": [
    {
     "data": {
      "text/plain": [
       "pda_related_view    19281\n",
       "pda_view            18453\n",
       "Name: anatomical_view, dtype: int64"
      ]
     },
     "execution_count": 18,
     "metadata": {},
     "output_type": "execute_result"
    }
   ],
   "source": [
    "# filter out clips that are not a relevant anatomical view or imaging modality\n",
    "df_merged_filtered = df_merged[df_merged[\"anatomical_view\"].isin({\"pda_view\", \"pda_related_view\"}) &\n",
    "                               df_merged[\"imaging_modality\"].isin({\"color_doppler\", \"color_compare\"})]\n",
    "\n",
    "df_merged_filtered.anatomical_view.value_counts()"
   ]
  },
  {
   "cell_type": "code",
   "execution_count": 19,
   "metadata": {},
   "outputs": [
    {
     "data": {
      "text/plain": [
       "color_compare    23984\n",
       "color_doppler    13750\n",
       "Name: imaging_modality, dtype: int64"
      ]
     },
     "execution_count": 19,
     "metadata": {},
     "output_type": "execute_result"
    }
   ],
   "source": [
    "df_merged_filtered.imaging_modality.value_counts()"
   ]
  },
  {
   "cell_type": "code",
   "execution_count": 20,
   "metadata": {},
   "outputs": [],
   "source": [
    "# save the file\n",
    "df_merged_filtered.to_csv(f\"{data_dir}/boston_frames.csv\", index=False)"
   ]
  },
  {
   "cell_type": "code",
   "execution_count": 21,
   "metadata": {},
   "outputs": [
    {
     "data": {
      "text/plain": [
       "Index(['clip_id', 'anatomical_view', 'imaging_modality', 'study_id',\n",
       "       'patient_type', 'Split', 'png_path'],\n",
       "      dtype='object')"
      ]
     },
     "execution_count": 21,
     "metadata": {},
     "output_type": "execute_result"
    }
   ],
   "source": [
    "df_merged_filtered.columns"
   ]
  },
  {
   "cell_type": "code",
   "execution_count": 22,
   "metadata": {},
   "outputs": [
    {
     "data": {
      "text/plain": [
       "patient_type\n",
       "nopda    25\n",
       "pda      43\n",
       "Name: study_id, dtype: int64"
      ]
     },
     "execution_count": 22,
     "metadata": {},
     "output_type": "execute_result"
    }
   ],
   "source": [
    "df_merged_filtered.groupby('patient_type').study_id.nunique()"
   ]
  },
  {
   "cell_type": "code",
   "execution_count": 23,
   "metadata": {},
   "outputs": [
    {
     "data": {
      "text/plain": [
       "1    64\n",
       "0    56\n",
       "Name: has_pda, dtype: int64"
      ]
     },
     "execution_count": 23,
     "metadata": {},
     "output_type": "execute_result"
    }
   ],
   "source": [
    "df_study.has_pda.value_counts()"
   ]
  },
  {
   "cell_type": "code",
   "execution_count": 24,
   "metadata": {},
   "outputs": [
    {
     "data": {
      "text/plain": [
       "patient_type\n",
       "nopda    54\n",
       "pda      61\n",
       "Name: study_id, dtype: int64"
      ]
     },
     "execution_count": 24,
     "metadata": {},
     "output_type": "execute_result"
    }
   ],
   "source": [
    "case_counts = df_merged.groupby('patient_type').study_id.nunique()\n",
    "case_counts"
   ]
  },
  {
   "cell_type": "code",
   "execution_count": 25,
   "metadata": {},
   "outputs": [
    {
     "data": {
      "text/plain": [
       "patient_type\n",
       "nopda    25\n",
       "pda      43\n",
       "Name: study_id, dtype: int64"
      ]
     },
     "execution_count": 25,
     "metadata": {},
     "output_type": "execute_result"
    }
   ],
   "source": [
    "case_counts_filtered = df_merged_filtered.groupby('patient_type').study_id.nunique()\n",
    "case_counts_filtered"
   ]
  },
  {
   "cell_type": "code",
   "execution_count": 29,
   "metadata": {},
   "outputs": [
    {
     "data": {
      "text/plain": [
       "patient_type\n",
       "nopda    124\n",
       "pda      170\n",
       "Name: clip_id, dtype: int64"
      ]
     },
     "execution_count": 29,
     "metadata": {},
     "output_type": "execute_result"
    }
   ],
   "source": [
    "# number of clips by pateint type\n",
    "df_merged_filtered.groupby('patient_type').clip_id.nunique()"
   ]
  },
  {
   "cell_type": "code",
   "execution_count": 26,
   "metadata": {},
   "outputs": [
    {
     "data": {
      "text/plain": [
       "patient_type\n",
       "nopda    29\n",
       "pda      18\n",
       "Name: study_id, dtype: int64"
      ]
     },
     "execution_count": 26,
     "metadata": {},
     "output_type": "execute_result"
    }
   ],
   "source": [
    "# number of cases lost from filtering to PDA/PDA-related and Color/Color-compare\n",
    "case_counts - case_counts_filtered"
   ]
  },
  {
   "cell_type": "code",
   "execution_count": 27,
   "metadata": {},
   "outputs": [
    {
     "data": {
      "text/plain": [
       "patient_type\n",
       "nopda    0.537037\n",
       "pda      0.295082\n",
       "Name: study_id, dtype: float64"
      ]
     },
     "execution_count": 27,
     "metadata": {},
     "output_type": "execute_result"
    }
   ],
   "source": [
    "# percent of cases lost from filtering to PDA/PDA-related and Color/Color-compare\n",
    "(case_counts - case_counts_filtered) / case_counts"
   ]
  },
  {
   "cell_type": "code",
   "execution_count": 28,
   "metadata": {},
   "outputs": [
    {
     "name": "stdout",
     "output_type": "stream",
     "text": [
      "nopda\n",
      "29\n",
      "['1.2.840.84002470499053283543609265219828', '1.2.840.29087821537513420828502041121163', '1.2.840.33124713069181157712639256930551', '1.2.840.69098020689821592844678554432486', '1.2.840.35412864504535983470948300452134', '1.2.840.50306364364537300025742392045750', '1.2.840.49710080439991270883856486540767', '1.2.840.39750729294416064079599818390141', '1.2.840.57897923621531947579919907476535', '1.2.840.32855709290993807630403066995188', '1.2.840.33945255176679040104276525087404', '1.2.840.40018499378290661054803104073436', '1.2.840.10472209319244886281629301110259', '1.2.840.36160138704975197646181797455316', '1.2.840.12899775971724433627705526634095', '1.2.840.87316487902102827221149309547093', '1.2.840.23072791691187263025871063465686', '1.2.840.52547442026877166430097988637699', '1.2.840.50624933167155463546068355260985', '1.2.840.32173852505293724842363809519660', '1.2.840.49216492365852693001558640730638', '1.2.840.66154620674410818733891486147076', '1.2.840.84588521759269100765941541612287', '1.2.840.98109321418880981259406571688903', '1.2.840.30389585917105768399842980003674', '1.2.840.10877999450739478129487488205920', '1.2.840.42860061717587320252862651102486', '1.2.840.34182179667695384651439054461157', '1.2.840.68727462295186834879681926766969']\n",
      "pda\n",
      "18\n",
      "['1.2.840.54997166204916837963487368101055', '1.2.840.24133516507304120233305413206375', '1.2.840.62100034444828337369467016482695', '1.2.840.27479349261379474174666099986067', '1.2.840.48923017916804047245902342157455', '1.2.840.62507418993524623501848576381009', '1.2.840.36664765703251747885644612794368', '1.2.840.31815824696113539704949011438571', '1.2.840.15754782012413161051229839856766', '1.2.840.10376170710094975253541830568798', '1.2.840.48592490298957441856935599039054', '1.2.840.81598631822572938425085545075126', '1.2.840.70103238168544384137392495156870', '1.2.840.16708323910722513751344786983047', '1.2.840.90645833251355251034805385923458', '1.2.840.84048886125569526208149177117986', '1.2.840.10218869316856972560906669299223', '1.2.840.43601655444934231710975954951272']\n"
     ]
    }
   ],
   "source": [
    "for pt in ['nopda', 'pda']:\n",
    "    dm = set(df_merged[df_merged.patient_type==pt].study_id.unique())\n",
    "    dmf = set(df_merged_filtered[df_merged_filtered.patient_type==pt].study_id.unique())\n",
    "    ls = list(dm - dmf)\n",
    "    print(pt)\n",
    "    print(len(ls))\n",
    "    print(ls)"
   ]
  },
  {
   "cell_type": "code",
   "execution_count": null,
   "metadata": {},
   "outputs": [],
   "source": []
  }
 ],
 "metadata": {
  "kernelspec": {
   "display_name": "Python 3",
   "language": "python",
   "name": "python3"
  },
  "language_info": {
   "codemirror_mode": {
    "name": "ipython",
    "version": 3
   },
   "file_extension": ".py",
   "mimetype": "text/x-python",
   "name": "python",
   "nbconvert_exporter": "python",
   "pygments_lexer": "ipython3",
   "version": "3.9.12"
  }
 },
 "nbformat": 4,
 "nbformat_minor": 4
}
