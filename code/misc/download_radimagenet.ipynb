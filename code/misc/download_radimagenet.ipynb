{
 "cells": [
  {
   "cell_type": "code",
   "execution_count": 1,
   "id": "e3d1243c-267e-424e-bf00-00e3dc505669",
   "metadata": {},
   "outputs": [],
   "source": [
    "from pydrive.auth import GoogleAuth\n",
    "from pydrive.drive import GoogleDrive"
   ]
  },
  {
   "cell_type": "code",
   "execution_count": 3,
   "id": "41f57c51-bdaf-4ccc-a2ba-8dc08614ada9",
   "metadata": {},
   "outputs": [
    {
     "name": "stdout",
     "output_type": "stream",
     "text": [
      "Go to the following link in your browser:\n",
      "\n",
      "    https://accounts.google.com/o/oauth2/auth?client_id=944550259018-dt0tir5htq777rujf2qgbno4vd3nn2s3.apps.googleusercontent.com&redirect_uri=urn%3Aietf%3Awg%3Aoauth%3A2.0%3Aoob&scope=https%3A%2F%2Fwww.googleapis.com%2Fauth%2Fdrive&access_type=offline&response_type=code\n",
      "\n"
     ]
    },
    {
     "name": "stdin",
     "output_type": "stream",
     "text": [
      "Enter verification code:  4/1AdQt8qgz4_H9DjRg160p9QGgaOtlHXGZYMStAJlHHqbgfw04_vd_YI-d5VY\n"
     ]
    },
    {
     "name": "stdout",
     "output_type": "stream",
     "text": [
      "Authentication successful.\n"
     ]
    }
   ],
   "source": [
    "gauth = GoogleAuth()\n",
    "gauth.CommandLineAuth() # Creates local webserver and auto handles authentication."
   ]
  },
  {
   "cell_type": "code",
   "execution_count": 4,
   "id": "41ff5c99-5fcb-477a-830e-33513e203240",
   "metadata": {},
   "outputs": [],
   "source": [
    "drive = GoogleDrive(gauth)"
   ]
  },
  {
   "cell_type": "code",
   "execution_count": 5,
   "id": "f50ec9b0-8d62-4976-89fc-db9c79afb572",
   "metadata": {},
   "outputs": [
    {
     "data": {
      "text/plain": [
       "{'id': '1nQhybYZ7EBA886LaaR1vWm7BqKGEiHEf',\n",
       " 'kind': 'drive#file',\n",
       " 'etag': '\"MTY2MjU2NjEzNjI0Mg\"',\n",
       " 'selfLink': 'https://www.googleapis.com/drive/v2/files/1nQhybYZ7EBA886LaaR1vWm7BqKGEiHEf',\n",
       " 'webContentLink': 'https://drive.google.com/uc?id=1nQhybYZ7EBA886LaaR1vWm7BqKGEiHEf&export=download',\n",
       " 'alternateLink': 'https://drive.google.com/file/d/1nQhybYZ7EBA886LaaR1vWm7BqKGEiHEf/view?usp=drivesdk',\n",
       " 'embedLink': 'https://drive.google.com/file/d/1nQhybYZ7EBA886LaaR1vWm7BqKGEiHEf/preview?usp=drivesdk',\n",
       " 'iconLink': 'https://drive-thirdparty.googleusercontent.com/16/type/application/x-gzip',\n",
       " 'title': 'rin2d.tar.gz',\n",
       " 'mimeType': 'application/x-gzip',\n",
       " 'labels': {'starred': False,\n",
       "  'hidden': False,\n",
       "  'trashed': False,\n",
       "  'restricted': False,\n",
       "  'viewed': True},\n",
       " 'copyRequiresWriterPermission': False,\n",
       " 'createdDate': '2022-07-20T02:03:22.983Z',\n",
       " 'modifiedDate': '2022-09-07T15:55:36.242Z',\n",
       " 'lastViewedByMeDate': '2022-09-06T15:03:13.363Z',\n",
       " 'markedViewedByMeDate': '1970-01-01T00:00:00.000Z',\n",
       " 'sharedWithMeDate': '2022-09-06T11:02:26.913Z',\n",
       " 'version': '362',\n",
       " 'sharingUser': {'kind': 'drive#user',\n",
       "  'displayName': 'Timothy Deyer',\n",
       "  'picture': {'url': 'https://lh3.googleusercontent.com/a/default-user=s64'},\n",
       "  'isAuthenticatedUser': False,\n",
       "  'permissionId': '12781749170892147638',\n",
       "  'emailAddress': 'twdeyer@radimagenet.com'},\n",
       " 'parents': [],\n",
       " 'downloadUrl': 'https://www.googleapis.com/drive/v2/files/1nQhybYZ7EBA886LaaR1vWm7BqKGEiHEf?alt=media&source=downloadUrl',\n",
       " 'userPermission': {'kind': 'drive#permission',\n",
       "  'etag': '\"zYbusLYNQOTzq94cUsb6-u3jZsQ\"',\n",
       "  'id': 'me',\n",
       "  'selfLink': 'https://www.googleapis.com/drive/v2/files/1nQhybYZ7EBA886LaaR1vWm7BqKGEiHEf/permissions/me',\n",
       "  'role': 'reader',\n",
       "  'type': 'user',\n",
       "  'pendingOwner': False},\n",
       " 'originalFilename': 'rin2d.tar.gz',\n",
       " 'fileExtension': 'gz',\n",
       " 'md5Checksum': '036b87ebf760013004d16cbeb78dc7be',\n",
       " 'fileSize': '58790864532',\n",
       " 'quotaBytesUsed': '58790864532',\n",
       " 'ownerNames': ['Timothy Deyer'],\n",
       " 'owners': [{'kind': 'drive#user',\n",
       "   'displayName': 'Timothy Deyer',\n",
       "   'picture': {'url': 'https://lh3.googleusercontent.com/a/default-user=s64'},\n",
       "   'isAuthenticatedUser': False,\n",
       "   'permissionId': '12781749170892147638',\n",
       "   'emailAddress': 'twdeyer@radimagenet.com'}],\n",
       " 'lastModifyingUserName': 'Timothy Deyer',\n",
       " 'lastModifyingUser': {'kind': 'drive#user',\n",
       "  'displayName': 'Timothy Deyer',\n",
       "  'picture': {'url': 'https://lh3.googleusercontent.com/a/default-user=s64'},\n",
       "  'isAuthenticatedUser': False,\n",
       "  'permissionId': '12781749170892147638',\n",
       "  'emailAddress': 'twdeyer@radimagenet.com'},\n",
       " 'capabilities': {'canCopy': True, 'canEdit': False},\n",
       " 'editable': False,\n",
       " 'copyable': True,\n",
       " 'writersCanShare': True,\n",
       " 'shared': True,\n",
       " 'explicitlyTrashed': False,\n",
       " 'appDataContents': False,\n",
       " 'headRevisionId': '0B_z1XYZhdDE2SXh5QlFvdWZZalp1M0NxTEExaEQ1Z1RsL25rPQ',\n",
       " 'spaces': ['drive']}"
      ]
     },
     "execution_count": 5,
     "metadata": {},
     "output_type": "execute_result"
    }
   ],
   "source": [
    "file = drive.CreateFile({'id': '1nQhybYZ7EBA886LaaR1vWm7BqKGEiHEf'})\n",
    "\n",
    "# Fetches all basic metadata fields, including file size, last modified etc.\n",
    "file.FetchMetadata()\n",
    "file.metadata"
   ]
  },
  {
   "cell_type": "code",
   "execution_count": 6,
   "id": "40e7a381-9fbc-4c72-b410-a43e99da37ac",
   "metadata": {},
   "outputs": [],
   "source": [
    "file.GetContentFile('/zfs/wficai/radimagenet/radimagenet.tar.gz')"
   ]
  },
  {
   "cell_type": "code",
   "execution_count": null,
   "id": "dc9e06eb-0222-45c7-8482-b0fd2ce8fddf",
   "metadata": {},
   "outputs": [],
   "source": []
  }
 ],
 "metadata": {
  "kernelspec": {
   "display_name": "PDA",
   "language": "python",
   "name": "pda"
  },
  "language_info": {
   "codemirror_mode": {
    "name": "ipython",
    "version": 3
   },
   "file_extension": ".py",
   "mimetype": "text/x-python",
   "name": "python",
   "nbconvert_exporter": "python",
   "pygments_lexer": "ipython3",
   "version": "3.9.12"
  }
 },
 "nbformat": 4,
 "nbformat_minor": 5
}
