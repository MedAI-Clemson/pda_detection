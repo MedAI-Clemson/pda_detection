{
 "cells": [
  {
   "cell_type": "code",
   "execution_count": 1,
   "id": "daaa341c-0948-46ae-8454-8e47c62cf06f",
   "metadata": {},
   "outputs": [],
   "source": [
    "%load_ext autoreload\n",
    "%autoreload 1\n",
    "%config InlineBackend.print_figure_kwargs={'facecolor' : \"w\"}"
   ]
  },
  {
   "cell_type": "code",
   "execution_count": 2,
   "id": "db27084b-c3c0-4e7a-bc00-dab2262def34",
   "metadata": {},
   "outputs": [],
   "source": [
    "import pandas as pd\n",
    "import numpy as np\n",
    "from torch.utils.data import DataLoader\n",
    "import timm\n",
    "from timm import optim, scheduler\n",
    "import torch\n",
    "from torchvision import transforms as tfm\n",
    "from sklearn import metrics as skmet\n",
    "import matplotlib.pyplot as plt\n",
    "import json\n",
    "import transforms as my_transforms\n",
    "\n",
    "%aimport dataset\n",
    "%aimport models\n",
    "VideoClassifier = models.VideoClassifier\n",
    "VideoData = dataset.VideoData"
   ]
  },
  {
   "cell_type": "code",
   "execution_count": 3,
   "id": "7af05b89-c3b2-4d84-8f4a-ab907f26fe8b",
   "metadata": {},
   "outputs": [],
   "source": [
    "# artifact_folder = '/zfs/wficai/pda/model_run_artifacts/aihub_results_SAVE/'\n",
    "artifact_folder = '/zfs/wficai/pda/model_run_artifacts/20220818_no2d_224x224'\n",
    "# artifact_folder = '/zfs/wficai/pda/model_run_artifacts/20220818_all_224x224'\n",
    "\n",
    "with open(artifact_folder + '/config_video.json', 'r') as f: \n",
    "    cfg = json.load(f)\n",
    "\n",
    "# put all config variables in scope to avoid the need to laboriously index cfg\n",
    "for k, v in cfg.items():\n",
    "    v = f\"'{v}'\" if type(v)==str else v\n",
    "    exec(f\"{k}={v}\")"
   ]
  },
  {
   "cell_type": "code",
   "execution_count": 4,
   "id": "2a8168f5-8efb-4cb6-a39f-a31dc61f6414",
   "metadata": {},
   "outputs": [],
   "source": [
    "# optionally override the view/mode filters\n",
    "bs_test = 4\n",
    "num_workers = 2\n",
    "device = torch.device('cuda:0')\n",
    "view_filter = ['pdaView', 'pdaRelatedView']\n",
    "mode_filter = ['color', 'color_compare']"
   ]
  },
  {
   "cell_type": "code",
   "execution_count": 5,
   "id": "c46042a3-6018-4497-ae4a-a40317232777",
   "metadata": {},
   "outputs": [],
   "source": [
    "tfms = my_transforms.VideoTransforms(res)\n",
    "tfms_test = tfms.get_transforms(transforms['test'])"
   ]
  },
  {
   "cell_type": "code",
   "execution_count": 6,
   "id": "5bd114bb-8654-42da-875d-0bb19d74fb79",
   "metadata": {},
   "outputs": [
    {
     "name": "stdout",
     "output_type": "stream",
     "text": [
      "Number of frames after filtering: 11046\n"
     ]
    }
   ],
   "source": [
    "df_train = pd.read_csv(f'{artifact_folder}/{out_paths[\"train\"]}')\n",
    "d_train = VideoData(df_train, transforms = tfms_test, mode_filter = mode_filter, view_filter = view_filter)\n",
    "df_test = pd.read_csv(f'{artifact_folder}/{out_paths[\"test\"]}')\n",
    "d_test = VideoData(df_test, transforms = tfms_test, mode_filter = mode_filter, view_filter = view_filter)\n",
    "dl_test = DataLoader(d_test, batch_size=bs_test, num_workers=num_workers, collate_fn = VideoData.collate)\n",
    "\n",
    "print(\"Number of frames after filtering:\", len(d_test.data))"
   ]
  },
  {
   "cell_type": "markdown",
   "id": "232da102-1d84-4f71-9695-64fa224c7b61",
   "metadata": {},
   "source": [
    "# Counts "
   ]
  },
  {
   "cell_type": "code",
   "execution_count": 7,
   "id": "52696e36-1f73-4fbc-9331-6a1393526791",
   "metadata": {},
   "outputs": [],
   "source": [
    "df = pd.concat([d_test.data, d_train.data])"
   ]
  },
  {
   "cell_type": "markdown",
   "id": "2b994a43-b7b7-40b5-963b-cc7e791e4f27",
   "metadata": {},
   "source": [
    "### number of patients"
   ]
  },
  {
   "cell_type": "code",
   "execution_count": 8,
   "id": "acd999d7-4e8f-4e40-87a5-cdb75c8d1ccd",
   "metadata": {},
   "outputs": [
    {
     "data": {
      "text/plain": [
       "57"
      ]
     },
     "execution_count": 8,
     "metadata": {},
     "output_type": "execute_result"
    }
   ],
   "source": [
    "df.patient_id.nunique()"
   ]
  },
  {
   "cell_type": "code",
   "execution_count": 9,
   "id": "2a236313-edc5-4bb8-892d-8f628f7748c8",
   "metadata": {},
   "outputs": [
    {
     "data": {
      "text/plain": [
       "(27, 20, 5)"
      ]
     },
     "execution_count": 9,
     "metadata": {},
     "output_type": "execute_result"
    }
   ],
   "source": [
    "train_pids_nopda = df_train.query('patient_type==\"nopda\"').patient_id.unique().tolist()\n",
    "train_pids_pda = df_train.query('patient_type==\"pda\"').patient_id.unique().tolist()\n",
    "train_pids_both = set(train_pids_nopda).intersection(set(train_pids_pda))\n",
    "len(train_pids_nopda), len(train_pids_pda), len(train_pids_both)"
   ]
  },
  {
   "cell_type": "code",
   "execution_count": 10,
   "id": "507f5d3b-c810-4ee1-a36e-d8591617156a",
   "metadata": {},
   "outputs": [
    {
     "data": {
      "text/plain": [
       "57"
      ]
     },
     "execution_count": 10,
     "metadata": {},
     "output_type": "execute_result"
    }
   ],
   "source": [
    "len(set(df_train.patient_id.unique().tolist()).union(set(df_test.patient_id.unique().tolist())))"
   ]
  },
  {
   "cell_type": "code",
   "execution_count": 11,
   "id": "6dc4ea49-1ee2-4cb2-adc6-6b9fe34ab89b",
   "metadata": {},
   "outputs": [
    {
     "data": {
      "text/plain": [
       "(12, 5, 2)"
      ]
     },
     "execution_count": 11,
     "metadata": {},
     "output_type": "execute_result"
    }
   ],
   "source": [
    "test_pids_nopda = df_test.query('patient_type==\"nopda\"').patient_id.unique().tolist()\n",
    "test_pids_pda = df_test.query('patient_type==\"pda\"').patient_id.unique().tolist()\n",
    "test_pids_both = set(test_pids_nopda).intersection(set(test_pids_pda))\n",
    "len(test_pids_nopda), len(test_pids_pda), len(test_pids_both)"
   ]
  },
  {
   "cell_type": "markdown",
   "id": "5d5bc8f2-a86e-49a5-bf7b-00fa9e69960c",
   "metadata": {},
   "source": [
    "### number of clips"
   ]
  },
  {
   "cell_type": "code",
   "execution_count": 12,
   "id": "7d1af818-8f77-4320-923c-612287b3c63f",
   "metadata": {},
   "outputs": [
    {
     "data": {
      "text/plain": [
       "patient_type\n",
       "pda      321\n",
       "nopda    236\n",
       "dtype: int64"
      ]
     },
     "metadata": {},
     "output_type": "display_data"
    },
    {
     "name": "stdout",
     "output_type": "stream",
     "text": [
      "557\n"
     ]
    },
    {
     "data": {
      "text/plain": [
       "patient_type\n",
       "pda      0.576302\n",
       "nopda    0.423698\n",
       "dtype: float64"
      ]
     },
     "metadata": {},
     "output_type": "display_data"
    }
   ],
   "source": [
    "# in total\n",
    "num_strata = df.groupby(['patient_type', 'external_id'], as_index=False).size().value_counts('patient_type')\n",
    "display(num_strata)\n",
    "print(num_strata.sum())\n",
    "\n",
    "display(num_strata / num_strata.sum())"
   ]
  },
  {
   "cell_type": "code",
   "execution_count": 13,
   "id": "18a14a3d-d9f0-4186-baac-f026367ddb94",
   "metadata": {},
   "outputs": [
    {
     "data": {
      "text/plain": [
       "patient_type\n",
       "pda      290\n",
       "nopda    164\n",
       "dtype: int64"
      ]
     },
     "metadata": {},
     "output_type": "display_data"
    },
    {
     "name": "stdout",
     "output_type": "stream",
     "text": [
      "454\n"
     ]
    },
    {
     "data": {
      "text/plain": [
       "patient_type\n",
       "pda      0.638767\n",
       "nopda    0.361233\n",
       "dtype: float64"
      ]
     },
     "metadata": {},
     "output_type": "display_data"
    }
   ],
   "source": [
    "# in training\n",
    "num_strata = d_train.data.groupby(['patient_type', 'external_id'], as_index=False).size().value_counts('patient_type')\n",
    "display(num_strata)\n",
    "print(num_strata.sum())\n",
    "\n",
    "display(num_strata / num_strata.sum())"
   ]
  },
  {
   "cell_type": "code",
   "execution_count": 14,
   "id": "459255d0-89e2-458a-9e02-4409cc05b87d",
   "metadata": {},
   "outputs": [
    {
     "data": {
      "text/plain": [
       "patient_type\n",
       "nopda    72\n",
       "pda      31\n",
       "dtype: int64"
      ]
     },
     "metadata": {},
     "output_type": "display_data"
    },
    {
     "name": "stdout",
     "output_type": "stream",
     "text": [
      "103\n"
     ]
    },
    {
     "data": {
      "text/plain": [
       "patient_type\n",
       "nopda    0.699029\n",
       "pda      0.300971\n",
       "dtype: float64"
      ]
     },
     "metadata": {},
     "output_type": "display_data"
    }
   ],
   "source": [
    "# in test\n",
    "num_strata = d_test.data.groupby(['patient_type', 'external_id'], as_index=False).size().value_counts('patient_type')\n",
    "display(num_strata)\n",
    "print(num_strata.sum())\n",
    "\n",
    "display(num_strata / num_strata.sum())"
   ]
  },
  {
   "cell_type": "markdown",
   "id": "d513a1e9-41f1-4351-9449-96f2ca6fa01a",
   "metadata": {},
   "source": [
    "# Performance"
   ]
  },
  {
   "cell_type": "code",
   "execution_count": 28,
   "id": "11cf8802-9c07-4c6c-878c-d12f4666c3b3",
   "metadata": {},
   "outputs": [
    {
     "data": {
      "text/plain": [
       "<All keys matched successfully>"
      ]
     },
     "execution_count": 28,
     "metadata": {},
     "output_type": "execute_result"
    }
   ],
   "source": [
    "# create frame model\n",
    "m_frames = timm.create_model(model, num_classes=num_classes, in_chans=3, drop_rate=dropout)\n",
    "_ = m_frames.to(device)\n",
    "\n",
    "# create video model\n",
    "m = VideoClassifier(m_frames, prod_expert=True)\n",
    "\n",
    "# load checkpoint\n",
    "m.load_state_dict(torch.load(f\"{artifact_folder}/model_checkpoint_video.ckpt\"))"
   ]
  },
  {
   "cell_type": "code",
   "execution_count": 29,
   "id": "ea487d86-f77a-48be-951d-00d36196096d",
   "metadata": {},
   "outputs": [],
   "source": [
    "# example of getting frame classifications\n",
    "m_frames_trained = m.get_frame_classifier()"
   ]
  },
  {
   "cell_type": "code",
   "execution_count": 30,
   "id": "926f6dd1-3c45-4e6e-8db5-04568e55e161",
   "metadata": {},
   "outputs": [
    {
     "name": "stdout",
     "output_type": "stream",
     "text": [
      "Batch 26\r"
     ]
    }
   ],
   "source": [
    "loss_function = torch.functional.F.binary_cross_entropy_with_logits\n",
    "\n",
    "target_ls = []\n",
    "output_ls = []\n",
    "study_ls = []\n",
    "mask_ls = []\n",
    "externalid_ls = []\n",
    "view_ls = []\n",
    "mode_ls = []\n",
    "losses = []\n",
    "attn_ls = []\n",
    "\n",
    "for ix, batch in enumerate(dl_test):\n",
    "    print(f\"Batch {ix+1}\", end = \"\\r\")\n",
    "    vid = batch['video'].to(device)\n",
    "    mask = batch['mask'].to(device)\n",
    "    targets = batch['trg_type'].to(device).type(torch.float32)\n",
    "    \n",
    "    target_ls.append(targets.cpu().numpy())\n",
    "    view_ls.append(batch['trg_view'].numpy())\n",
    "    mode_ls.append(batch['trg_mode'].numpy())\n",
    "    study_ls += batch['study']\n",
    "    mask_ls.append(batch['mask'].numpy())\n",
    "    externalid_ls += batch['external_id']\n",
    "\n",
    "    with torch.no_grad():\n",
    "        outputs, attn = m(vid, mask)\n",
    "        output_ls.append(outputs.cpu().numpy())\n",
    "        attn_ls.append(attn.cpu().numpy())\n",
    "        loss = loss_function(outputs, targets)\n",
    "        losses.append(loss.detach().item())"
   ]
  },
  {
   "cell_type": "code",
   "execution_count": 31,
   "id": "26e49e76-b38a-4f34-97b6-25c78b76d73c",
   "metadata": {},
   "outputs": [
    {
     "data": {
      "text/html": [
       "<div>\n",
       "<style scoped>\n",
       "    .dataframe tbody tr th:only-of-type {\n",
       "        vertical-align: middle;\n",
       "    }\n",
       "\n",
       "    .dataframe tbody tr th {\n",
       "        vertical-align: top;\n",
       "    }\n",
       "\n",
       "    .dataframe thead th {\n",
       "        text-align: right;\n",
       "    }\n",
       "</style>\n",
       "<table border=\"1\" class=\"dataframe\">\n",
       "  <thead>\n",
       "    <tr style=\"text-align: right;\">\n",
       "      <th></th>\n",
       "      <th>study</th>\n",
       "      <th>external_id</th>\n",
       "      <th>predicted</th>\n",
       "      <th>target</th>\n",
       "      <th>mode</th>\n",
       "      <th>view</th>\n",
       "    </tr>\n",
       "  </thead>\n",
       "  <tbody>\n",
       "    <tr>\n",
       "      <th>0</th>\n",
       "      <td>study24</td>\n",
       "      <td>study24_dicom98</td>\n",
       "      <td>0.001858</td>\n",
       "      <td>0.0</td>\n",
       "      <td>color_compare</td>\n",
       "      <td>pdaRelatedView</td>\n",
       "    </tr>\n",
       "    <tr>\n",
       "      <th>1</th>\n",
       "      <td>study24</td>\n",
       "      <td>study24_dicom117</td>\n",
       "      <td>0.006257</td>\n",
       "      <td>0.0</td>\n",
       "      <td>color</td>\n",
       "      <td>pdaView</td>\n",
       "    </tr>\n",
       "    <tr>\n",
       "      <th>2</th>\n",
       "      <td>study24</td>\n",
       "      <td>study24_dicom110</td>\n",
       "      <td>0.007584</td>\n",
       "      <td>0.0</td>\n",
       "      <td>color_compare</td>\n",
       "      <td>pdaRelatedView</td>\n",
       "    </tr>\n",
       "    <tr>\n",
       "      <th>3</th>\n",
       "      <td>study18</td>\n",
       "      <td>study18_dicom63</td>\n",
       "      <td>0.241542</td>\n",
       "      <td>0.0</td>\n",
       "      <td>color_compare</td>\n",
       "      <td>pdaRelatedView</td>\n",
       "    </tr>\n",
       "    <tr>\n",
       "      <th>4</th>\n",
       "      <td>study18</td>\n",
       "      <td>study18_dicom41</td>\n",
       "      <td>0.044291</td>\n",
       "      <td>0.0</td>\n",
       "      <td>color</td>\n",
       "      <td>pdaRelatedView</td>\n",
       "    </tr>\n",
       "    <tr>\n",
       "      <th>5</th>\n",
       "      <td>study30</td>\n",
       "      <td>study30_dicom77</td>\n",
       "      <td>0.150368</td>\n",
       "      <td>0.0</td>\n",
       "      <td>color_compare</td>\n",
       "      <td>pdaRelatedView</td>\n",
       "    </tr>\n",
       "    <tr>\n",
       "      <th>6</th>\n",
       "      <td>study30</td>\n",
       "      <td>study30_dicom66</td>\n",
       "      <td>0.034186</td>\n",
       "      <td>0.0</td>\n",
       "      <td>color_compare</td>\n",
       "      <td>pdaRelatedView</td>\n",
       "    </tr>\n",
       "    <tr>\n",
       "      <th>7</th>\n",
       "      <td>study62</td>\n",
       "      <td>study62_dicom54</td>\n",
       "      <td>0.326956</td>\n",
       "      <td>0.0</td>\n",
       "      <td>color_compare</td>\n",
       "      <td>pdaRelatedView</td>\n",
       "    </tr>\n",
       "    <tr>\n",
       "      <th>8</th>\n",
       "      <td>study62</td>\n",
       "      <td>study62_dicom34</td>\n",
       "      <td>0.030951</td>\n",
       "      <td>0.0</td>\n",
       "      <td>color</td>\n",
       "      <td>pdaRelatedView</td>\n",
       "    </tr>\n",
       "    <tr>\n",
       "      <th>9</th>\n",
       "      <td>study62</td>\n",
       "      <td>study62_dicom58</td>\n",
       "      <td>0.132728</td>\n",
       "      <td>0.0</td>\n",
       "      <td>color_compare</td>\n",
       "      <td>pdaView</td>\n",
       "    </tr>\n",
       "    <tr>\n",
       "      <th>10</th>\n",
       "      <td>study69</td>\n",
       "      <td>study69_dicom88</td>\n",
       "      <td>0.007961</td>\n",
       "      <td>0.0</td>\n",
       "      <td>color</td>\n",
       "      <td>pdaRelatedView</td>\n",
       "    </tr>\n",
       "    <tr>\n",
       "      <th>11</th>\n",
       "      <td>study69</td>\n",
       "      <td>study69_dicom94</td>\n",
       "      <td>0.197255</td>\n",
       "      <td>0.0</td>\n",
       "      <td>color</td>\n",
       "      <td>pdaView</td>\n",
       "    </tr>\n",
       "    <tr>\n",
       "      <th>12</th>\n",
       "      <td>study69</td>\n",
       "      <td>study69_dicom90</td>\n",
       "      <td>0.019384</td>\n",
       "      <td>0.0</td>\n",
       "      <td>color</td>\n",
       "      <td>pdaRelatedView</td>\n",
       "    </tr>\n",
       "    <tr>\n",
       "      <th>13</th>\n",
       "      <td>study69</td>\n",
       "      <td>study69_dicom107</td>\n",
       "      <td>0.054021</td>\n",
       "      <td>0.0</td>\n",
       "      <td>color</td>\n",
       "      <td>pdaRelatedView</td>\n",
       "    </tr>\n",
       "    <tr>\n",
       "      <th>14</th>\n",
       "      <td>study14</td>\n",
       "      <td>study14_dicom37</td>\n",
       "      <td>0.444029</td>\n",
       "      <td>0.0</td>\n",
       "      <td>color_compare</td>\n",
       "      <td>pdaView</td>\n",
       "    </tr>\n",
       "    <tr>\n",
       "      <th>15</th>\n",
       "      <td>study14</td>\n",
       "      <td>study14_dicom3</td>\n",
       "      <td>0.028616</td>\n",
       "      <td>0.0</td>\n",
       "      <td>color</td>\n",
       "      <td>pdaRelatedView</td>\n",
       "    </tr>\n",
       "    <tr>\n",
       "      <th>16</th>\n",
       "      <td>study27</td>\n",
       "      <td>study27_dicom62</td>\n",
       "      <td>0.014132</td>\n",
       "      <td>0.0</td>\n",
       "      <td>color</td>\n",
       "      <td>pdaView</td>\n",
       "    </tr>\n",
       "    <tr>\n",
       "      <th>17</th>\n",
       "      <td>study27</td>\n",
       "      <td>study27_dicom15</td>\n",
       "      <td>0.044978</td>\n",
       "      <td>0.0</td>\n",
       "      <td>color_compare</td>\n",
       "      <td>pdaRelatedView</td>\n",
       "    </tr>\n",
       "    <tr>\n",
       "      <th>18</th>\n",
       "      <td>study27</td>\n",
       "      <td>study27_dicom57</td>\n",
       "      <td>0.015357</td>\n",
       "      <td>0.0</td>\n",
       "      <td>color</td>\n",
       "      <td>pdaRelatedView</td>\n",
       "    </tr>\n",
       "    <tr>\n",
       "      <th>19</th>\n",
       "      <td>study41</td>\n",
       "      <td>study41_dicom39</td>\n",
       "      <td>0.036363</td>\n",
       "      <td>0.0</td>\n",
       "      <td>color</td>\n",
       "      <td>pdaRelatedView</td>\n",
       "    </tr>\n",
       "  </tbody>\n",
       "</table>\n",
       "</div>"
      ],
      "text/plain": [
       "      study       external_id  predicted  target           mode  \\\n",
       "0   study24   study24_dicom98   0.001858     0.0  color_compare   \n",
       "1   study24  study24_dicom117   0.006257     0.0          color   \n",
       "2   study24  study24_dicom110   0.007584     0.0  color_compare   \n",
       "3   study18   study18_dicom63   0.241542     0.0  color_compare   \n",
       "4   study18   study18_dicom41   0.044291     0.0          color   \n",
       "5   study30   study30_dicom77   0.150368     0.0  color_compare   \n",
       "6   study30   study30_dicom66   0.034186     0.0  color_compare   \n",
       "7   study62   study62_dicom54   0.326956     0.0  color_compare   \n",
       "8   study62   study62_dicom34   0.030951     0.0          color   \n",
       "9   study62   study62_dicom58   0.132728     0.0  color_compare   \n",
       "10  study69   study69_dicom88   0.007961     0.0          color   \n",
       "11  study69   study69_dicom94   0.197255     0.0          color   \n",
       "12  study69   study69_dicom90   0.019384     0.0          color   \n",
       "13  study69  study69_dicom107   0.054021     0.0          color   \n",
       "14  study14   study14_dicom37   0.444029     0.0  color_compare   \n",
       "15  study14    study14_dicom3   0.028616     0.0          color   \n",
       "16  study27   study27_dicom62   0.014132     0.0          color   \n",
       "17  study27   study27_dicom15   0.044978     0.0  color_compare   \n",
       "18  study27   study27_dicom57   0.015357     0.0          color   \n",
       "19  study41   study41_dicom39   0.036363     0.0          color   \n",
       "\n",
       "              view  \n",
       "0   pdaRelatedView  \n",
       "1          pdaView  \n",
       "2   pdaRelatedView  \n",
       "3   pdaRelatedView  \n",
       "4   pdaRelatedView  \n",
       "5   pdaRelatedView  \n",
       "6   pdaRelatedView  \n",
       "7   pdaRelatedView  \n",
       "8   pdaRelatedView  \n",
       "9          pdaView  \n",
       "10  pdaRelatedView  \n",
       "11         pdaView  \n",
       "12  pdaRelatedView  \n",
       "13  pdaRelatedView  \n",
       "14         pdaView  \n",
       "15  pdaRelatedView  \n",
       "16         pdaView  \n",
       "17  pdaRelatedView  \n",
       "18  pdaRelatedView  \n",
       "19  pdaRelatedView  "
      ]
     },
     "execution_count": 31,
     "metadata": {},
     "output_type": "execute_result"
    }
   ],
   "source": [
    "df_results = pd.DataFrame(dict(\n",
    "    study = study_ls,\n",
    "    external_id = externalid_ls,\n",
    "    predicted = np.concatenate(output_ls).squeeze(),\n",
    "    target = np.concatenate(target_ls), \n",
    "    mode = np.concatenate(mode_ls),\n",
    "    view = np.concatenate(view_ls)\n",
    "))\n",
    "\n",
    "df_results['mode'] = df_results['mode'].map(VideoData.inv_mode_map)\n",
    "df_results.view = df_results.view.map(VideoData.inv_view_map)\n",
    "\n",
    "df_results.head(20)"
   ]
  },
  {
   "cell_type": "code",
   "execution_count": 32,
   "id": "9d0192d3-c53f-4e8e-bf7b-656a2270813c",
   "metadata": {},
   "outputs": [],
   "source": [
    "def compute_metrics(y_true, y_pred, thresh=0.5):\n",
    "    mets = dict()\n",
    "    \n",
    "    y_pred_cls = (y_pred>thresh).astype(int)\n",
    "    \n",
    "    mets['num_samples'] = len(y_true)\n",
    "    mets['roc_auc'] = skmet.roc_auc_score(y_true, y_pred)\n",
    "    mets['average_precision'] = skmet.average_precision_score(y_true, y_pred)\n",
    "    mets['accuracy'] = skmet.accuracy_score(y_true, y_pred_cls)\n",
    "    mets['sensitivity'] = skmet.recall_score(y_true, y_pred_cls)\n",
    "    mets['specificity'] = skmet.recall_score(y_true, y_pred_cls, pos_label=0)\n",
    "    \n",
    "    return mets"
   ]
  },
  {
   "cell_type": "markdown",
   "id": "1b112b57-1b83-43f3-8fd3-1b24381cb1cd",
   "metadata": {},
   "source": [
    "# Clip-level results"
   ]
  },
  {
   "cell_type": "code",
   "execution_count": 33,
   "id": "d0111d9a-2051-4af3-832d-b1a8702f2d98",
   "metadata": {},
   "outputs": [
    {
     "data": {
      "text/plain": [
       "{'num_samples': 103,\n",
       " 'roc_auc': 0.9274193548387097,\n",
       " 'average_precision': 0.9379338790873211,\n",
       " 'accuracy': 0.9514563106796117,\n",
       " 'sensitivity': 0.8709677419354839,\n",
       " 'specificity': 0.9861111111111112}"
      ]
     },
     "execution_count": 33,
     "metadata": {},
     "output_type": "execute_result"
    }
   ],
   "source": [
    "compute_metrics(df_results.target, df_results.predicted)"
   ]
  },
  {
   "cell_type": "code",
   "execution_count": 34,
   "id": "cfd71340-60fd-4463-8e1c-98320b0eba8f",
   "metadata": {},
   "outputs": [
    {
     "data": {
      "text/html": [
       "<div>\n",
       "<style scoped>\n",
       "    .dataframe tbody tr th:only-of-type {\n",
       "        vertical-align: middle;\n",
       "    }\n",
       "\n",
       "    .dataframe tbody tr th {\n",
       "        vertical-align: top;\n",
       "    }\n",
       "\n",
       "    .dataframe thead th {\n",
       "        text-align: right;\n",
       "    }\n",
       "</style>\n",
       "<table border=\"1\" class=\"dataframe\">\n",
       "  <thead>\n",
       "    <tr style=\"text-align: right;\">\n",
       "      <th></th>\n",
       "      <th></th>\n",
       "      <th>num_samples</th>\n",
       "      <th>roc_auc</th>\n",
       "      <th>average_precision</th>\n",
       "      <th>accuracy</th>\n",
       "      <th>sensitivity</th>\n",
       "      <th>specificity</th>\n",
       "    </tr>\n",
       "    <tr>\n",
       "      <th>view</th>\n",
       "      <th>mode</th>\n",
       "      <th></th>\n",
       "      <th></th>\n",
       "      <th></th>\n",
       "      <th></th>\n",
       "      <th></th>\n",
       "      <th></th>\n",
       "    </tr>\n",
       "  </thead>\n",
       "  <tbody>\n",
       "    <tr>\n",
       "      <th rowspan=\"2\" valign=\"top\">pdaRelatedView</th>\n",
       "      <th>color</th>\n",
       "      <td>21</td>\n",
       "      <td>0.666667</td>\n",
       "      <td>0.714286</td>\n",
       "      <td>0.952381</td>\n",
       "      <td>0.666667</td>\n",
       "      <td>1.000000</td>\n",
       "    </tr>\n",
       "    <tr>\n",
       "      <th>color_compare</th>\n",
       "      <td>31</td>\n",
       "      <td>0.972826</td>\n",
       "      <td>0.951923</td>\n",
       "      <td>0.967742</td>\n",
       "      <td>0.875000</td>\n",
       "      <td>1.000000</td>\n",
       "    </tr>\n",
       "    <tr>\n",
       "      <th rowspan=\"2\" valign=\"top\">pdaView</th>\n",
       "      <th>color</th>\n",
       "      <td>18</td>\n",
       "      <td>1.000000</td>\n",
       "      <td>1.000000</td>\n",
       "      <td>0.944444</td>\n",
       "      <td>1.000000</td>\n",
       "      <td>0.923077</td>\n",
       "    </tr>\n",
       "    <tr>\n",
       "      <th>color_compare</th>\n",
       "      <td>33</td>\n",
       "      <td>0.929630</td>\n",
       "      <td>0.959192</td>\n",
       "      <td>0.939394</td>\n",
       "      <td>0.866667</td>\n",
       "      <td>1.000000</td>\n",
       "    </tr>\n",
       "  </tbody>\n",
       "</table>\n",
       "</div>"
      ],
      "text/plain": [
       "                              num_samples   roc_auc  average_precision  \\\n",
       "view           mode                                                      \n",
       "pdaRelatedView color                   21  0.666667           0.714286   \n",
       "               color_compare           31  0.972826           0.951923   \n",
       "pdaView        color                   18  1.000000           1.000000   \n",
       "               color_compare           33  0.929630           0.959192   \n",
       "\n",
       "                              accuracy  sensitivity  specificity  \n",
       "view           mode                                               \n",
       "pdaRelatedView color          0.952381     0.666667     1.000000  \n",
       "               color_compare  0.967742     0.875000     1.000000  \n",
       "pdaView        color          0.944444     1.000000     0.923077  \n",
       "               color_compare  0.939394     0.866667     1.000000  "
      ]
     },
     "execution_count": 34,
     "metadata": {},
     "output_type": "execute_result"
    }
   ],
   "source": [
    "grouped_results = df_results.groupby(['view', 'mode']).apply(lambda dat: compute_metrics(dat.target, dat.predicted))\n",
    "grouped_results = pd.DataFrame(grouped_results.tolist(), index=grouped_results.index)\n",
    "grouped_results"
   ]
  },
  {
   "cell_type": "markdown",
   "id": "a25499ef-798a-45ae-b604-5fd351f33927",
   "metadata": {},
   "source": [
    "# ROC Curve"
   ]
  },
  {
   "cell_type": "code",
   "execution_count": 35,
   "id": "d60141ee-ccea-4a7f-9ac4-971d57a8e873",
   "metadata": {},
   "outputs": [],
   "source": [
    "from sklearn.metrics import roc_curve, roc_auc_score"
   ]
  },
  {
   "cell_type": "code",
   "execution_count": 36,
   "id": "1762be1e-ca23-4343-80b7-da72050d1d2e",
   "metadata": {},
   "outputs": [],
   "source": [
    "# scores for full set\n",
    "fpr, tpr, _ = roc_curve(df_results.target, df_results.predicted)\n",
    "auc = roc_auc_score(df_results.target, df_results.predicted)"
   ]
  },
  {
   "cell_type": "code",
   "execution_count": 37,
   "id": "f94fd00b-bfdd-41fc-818e-6bc6eb09545d",
   "metadata": {},
   "outputs": [],
   "source": [
    "# scores for pda view\n",
    "df_results_pda = df_results.query('view==\"pdaView\"')\n",
    "fpr_pda, tpr_pda, _ = roc_curve(df_results_pda.target, df_results_pda.predicted)\n",
    "auc_pda= roc_auc_score(df_results_pda.target, df_results_pda.predicted)"
   ]
  },
  {
   "cell_type": "code",
   "execution_count": 38,
   "id": "7b693e0c-58bb-401c-8342-621b8ec2fed9",
   "metadata": {},
   "outputs": [],
   "source": [
    "# scores for pda-related view\n",
    "df_results_pdarel = df_results.query('view==\"pdaRelatedView\"')\n",
    "fpr_pdarel, tpr_pdarel, _ = roc_curve(df_results_pdarel.target, df_results_pdarel.predicted)\n",
    "auc_pdarel = roc_auc_score(df_results_pdarel.target, df_results_pdarel.predicted)"
   ]
  },
  {
   "cell_type": "code",
   "execution_count": 39,
   "id": "c6302c9a-a358-4d8d-8828-f7cb9ab388ab",
   "metadata": {},
   "outputs": [
    {
     "data": {
      "image/png": "[encoded data removed]",
      "text/plain": [
       "<Figure size 700x700 with 1 Axes>"
      ]
     },
     "metadata": {},
     "output_type": "display_data"
    }
   ],
   "source": [
    "plt.rcParams['font.size'] = 18\n",
    "plt.gcf().set_size_inches(7,7)\n",
    "plt.plot(fpr, tpr, 'k', label=f'all (AUC={auc:0.2f})', linewidth=3)\n",
    "plt.plot(fpr_pda, tpr_pda, 'r', label=f'PDA View (AUC={auc_pda:0.2f})', linewidth=2, alpha=0.5)\n",
    "plt.plot(fpr_pdarel, tpr_pdarel, 'b', label=f'PDA-related View (AUC={auc_pdarel:0.2f})', linewidth=2, alpha=0.5)\n",
    "plt.plot(fpr, fpr, 'k:', label='baseline (AUC=0.50)')\n",
    "plt.grid()\n",
    "plt.gca().set_aspect(1)\n",
    "plt.xlabel(\"1-specificity\")\n",
    "plt.ylabel(\"sensitivity\")\n",
    "plt.legend(loc=4)\n",
    "plt.tight_layout()\n",
    "plt.savefig('roc_auc_curve_videos.png', dpi=500)"
   ]
  },
  {
   "cell_type": "code",
   "execution_count": 40,
   "id": "cade647f-ec3e-4ebf-a06f-e1d6f97aebe8",
   "metadata": {},
   "outputs": [
    {
     "data": {
      "image/png": "[encoded data removed]",
      "text/plain": [
       "<Figure size 700x700 with 1 Axes>"
      ]
     },
     "metadata": {},
     "output_type": "display_data"
    }
   ],
   "source": [
    "plt.rcParams['font.size'] = 18\n",
    "plt.gcf().set_size_inches(7,7)\n",
    "plt.plot(fpr, tpr, 'k', label=f'all (AUC={auc:0.2f})', linewidth=3)\n",
    "plt.plot(fpr, fpr, 'k:', label='baseline (AUC=0.50)')\n",
    "plt.grid()\n",
    "plt.gca().set_aspect(1)\n",
    "plt.xlabel(\"1-specificity\")\n",
    "plt.ylabel(\"sensitivity\")\n",
    "plt.legend(loc=4)\n",
    "plt.tight_layout()\n",
    "plt.savefig('roc_auc_curve_videos_all.png', dpi=500)"
   ]
  },
  {
   "cell_type": "code",
   "execution_count": null,
   "id": "e662bc26-7f00-475e-9af8-4e1c2c9d325d",
   "metadata": {},
   "outputs": [],
   "source": []
  }
 ],
 "metadata": {
  "kernelspec": {
   "display_name": "PDA",
   "language": "python",
   "name": "pda"
  },
  "language_info": {
   "codemirror_mode": {
    "name": "ipython",
    "version": 3
   },
   "file_extension": ".py",
   "mimetype": "text/x-python",
   "name": "python",
   "nbconvert_exporter": "python",
   "pygments_lexer": "ipython3",
   "version": "3.9.12"
  }
 },
 "nbformat": 4,
 "nbformat_minor": 5
}
