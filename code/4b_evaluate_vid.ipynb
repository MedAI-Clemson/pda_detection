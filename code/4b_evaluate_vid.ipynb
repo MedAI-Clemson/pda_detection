{
 "cells": [
  {
   "cell_type": "code",
   "execution_count": 1,
   "id": "daaa341c-0948-46ae-8454-8e47c62cf06f",
   "metadata": {},
   "outputs": [],
   "source": [
    "%load_ext autoreload\n",
    "%autoreload 1\n",
    "%config InlineBackend.print_figure_kwargs={'facecolor' : \"w\"}"
   ]
  },
  {
   "cell_type": "code",
   "execution_count": 2,
   "id": "db27084b-c3c0-4e7a-bc00-dab2262def34",
   "metadata": {},
   "outputs": [],
   "source": [
    "import pandas as pd\n",
    "import numpy as np\n",
    "from torch.utils.data import DataLoader\n",
    "import timm\n",
    "from timm import optim, scheduler\n",
    "import torch\n",
    "from torchvision import transforms as tfm\n",
    "from sklearn import metrics as skmet\n",
    "import matplotlib.pyplot as plt\n",
    "import json\n",
    "import transforms as my_transforms\n",
    "\n",
    "%aimport dataset\n",
    "%aimport models\n",
    "VideoClassifier = models.VideoClassifier\n",
    "VideoData = dataset.VideoData"
   ]
  },
  {
   "cell_type": "code",
   "execution_count": 3,
   "id": "7af05b89-c3b2-4d84-8f4a-ab907f26fe8b",
   "metadata": {},
   "outputs": [],
   "source": [
    "artifact_folder = '/zfs/wficai/pda/model_run_artifacts/20220818_no2d_224x224'\n",
    "# artifact_folder = '/zfs/wficai/pda/model_run_artifacts/20220818_all_224x224'\n",
    "\n",
    "with open(artifact_folder + '/config_video.json', 'r') as f: \n",
    "    cfg = json.load(f)\n",
    "\n",
    "# put all config variables in scope to avoid the need to laboriously index cfg\n",
    "for k, v in cfg.items():\n",
    "    v = f\"'{v}'\" if type(v)==str else v\n",
    "    exec(f\"{k}={v}\")\n",
    "del cfg"
   ]
  },
  {
   "cell_type": "code",
   "execution_count": 4,
   "id": "2a8168f5-8efb-4cb6-a39f-a31dc61f6414",
   "metadata": {},
   "outputs": [],
   "source": [
    "# optionally override the view/mode filters\n",
    "view_filter = ['pdaView', 'pdaRelatedView']\n",
    "mode_filter = ['color', 'color_compare']"
   ]
  },
  {
   "cell_type": "code",
   "execution_count": 5,
   "id": "c46042a3-6018-4497-ae4a-a40317232777",
   "metadata": {},
   "outputs": [],
   "source": [
    "tfms = my_transforms.VideoTransforms(res)\n",
    "tfms_test = tfms.get_transforms(transforms['test'])"
   ]
  },
  {
   "cell_type": "code",
   "execution_count": 6,
   "id": "5bd114bb-8654-42da-875d-0bb19d74fb79",
   "metadata": {},
   "outputs": [
    {
     "name": "stdout",
     "output_type": "stream",
     "text": [
      "Number of frames after filtering: 14293\n"
     ]
    }
   ],
   "source": [
    "df_test = pd.read_csv(f'{artifact_folder}/{out_paths[\"test\"]}')\n",
    "d_test = VideoData(df_test, transforms = tfms_test, mode_filter = mode_filter, view_filter = view_filter)\n",
    "dl_test = DataLoader(d_test, batch_size=bs_test, num_workers=num_workers, collate_fn = VideoData.collate)\n",
    "\n",
    "print(\"Number of frames after filtering:\", len(d_test.data))"
   ]
  },
  {
   "cell_type": "code",
   "execution_count": 7,
   "id": "11cf8802-9c07-4c6c-878c-d12f4666c3b3",
   "metadata": {},
   "outputs": [
    {
     "data": {
      "text/plain": [
       "<All keys matched successfully>"
      ]
     },
     "execution_count": 7,
     "metadata": {},
     "output_type": "execute_result"
    }
   ],
   "source": [
    "# create frame model\n",
    "m_frames = timm.create_model(model, num_classes=num_classes, in_chans=3, drop_rate=dropout)\n",
    "_ = m_frames.to(device)\n",
    "\n",
    "# create video model\n",
    "m = VideoClassifier(m_frames)\n",
    "\n",
    "# load checkpoint\n",
    "m.load_state_dict(torch.load(f\"{artifact_folder}/model_checkpoint_video.ckpt\"))"
   ]
  },
  {
   "cell_type": "code",
   "execution_count": 8,
   "id": "926f6dd1-3c45-4e6e-8db5-04568e55e161",
   "metadata": {},
   "outputs": [
    {
     "name": "stdout",
     "output_type": "stream",
     "text": [
      "Batch 24\r"
     ]
    }
   ],
   "source": [
    "loss_function = torch.functional.F.binary_cross_entropy_with_logits\n",
    "\n",
    "target_ls = []\n",
    "output_ls = []\n",
    "study_ls = []\n",
    "mask_ls = []\n",
    "externalid_ls = []\n",
    "view_ls = []\n",
    "mode_ls = []\n",
    "losses = []\n",
    "attn_ls = []\n",
    "\n",
    "\n",
    "for ix, batch in enumerate(dl_test):\n",
    "    print(f\"Batch {ix+1}\", end = \"\\r\")\n",
    "    vid = batch['video'].to(device)\n",
    "    mask = batch['mask'].to(device)\n",
    "    targets = batch['trg_type'].to(device).type(torch.float32)\n",
    "    \n",
    "    target_ls.append(targets.cpu().numpy())\n",
    "    view_ls.append(batch['trg_view'].numpy())\n",
    "    mode_ls.append(batch['trg_mode'].numpy())\n",
    "    study_ls += batch['study']\n",
    "    mask_ls.append(batch['mask'].numpy())\n",
    "    externalid_ls += batch['external_id']\n",
    "\n",
    "    with torch.no_grad():\n",
    "        outputs, attn = m(vid, mask)\n",
    "        output_ls.append(outputs.cpu().numpy())\n",
    "        attn_ls.append(attn.cpu().numpy())\n",
    "        loss = loss_function(outputs.squeeze(), targets)\n",
    "        losses.append(loss.detach().item())"
   ]
  },
  {
   "cell_type": "code",
   "execution_count": 9,
   "id": "26e49e76-b38a-4f34-97b6-25c78b76d73c",
   "metadata": {},
   "outputs": [
    {
     "data": {
      "text/html": [
       "<div>\n",
       "<style scoped>\n",
       "    .dataframe tbody tr th:only-of-type {\n",
       "        vertical-align: middle;\n",
       "    }\n",
       "\n",
       "    .dataframe tbody tr th {\n",
       "        vertical-align: top;\n",
       "    }\n",
       "\n",
       "    .dataframe thead th {\n",
       "        text-align: right;\n",
       "    }\n",
       "</style>\n",
       "<table border=\"1\" class=\"dataframe\">\n",
       "  <thead>\n",
       "    <tr style=\"text-align: right;\">\n",
       "      <th></th>\n",
       "      <th>study</th>\n",
       "      <th>external_id</th>\n",
       "      <th>predicted</th>\n",
       "      <th>target</th>\n",
       "      <th>mode</th>\n",
       "      <th>view</th>\n",
       "    </tr>\n",
       "  </thead>\n",
       "  <tbody>\n",
       "    <tr>\n",
       "      <th>0</th>\n",
       "      <td>study57</td>\n",
       "      <td>study57_dicom61</td>\n",
       "      <td>0.210324</td>\n",
       "      <td>0.0</td>\n",
       "      <td>color</td>\n",
       "      <td>pdaView</td>\n",
       "    </tr>\n",
       "    <tr>\n",
       "      <th>1</th>\n",
       "      <td>study57</td>\n",
       "      <td>study57_dicom88</td>\n",
       "      <td>0.146953</td>\n",
       "      <td>0.0</td>\n",
       "      <td>color</td>\n",
       "      <td>pdaRelatedView</td>\n",
       "    </tr>\n",
       "    <tr>\n",
       "      <th>2</th>\n",
       "      <td>study57</td>\n",
       "      <td>study57_dicom101</td>\n",
       "      <td>0.308916</td>\n",
       "      <td>0.0</td>\n",
       "      <td>color</td>\n",
       "      <td>pdaRelatedView</td>\n",
       "    </tr>\n",
       "    <tr>\n",
       "      <th>3</th>\n",
       "      <td>study16</td>\n",
       "      <td>study16_dicom16</td>\n",
       "      <td>0.992087</td>\n",
       "      <td>1.0</td>\n",
       "      <td>color</td>\n",
       "      <td>pdaRelatedView</td>\n",
       "    </tr>\n",
       "    <tr>\n",
       "      <th>4</th>\n",
       "      <td>study16</td>\n",
       "      <td>study16_dicom18</td>\n",
       "      <td>0.998570</td>\n",
       "      <td>1.0</td>\n",
       "      <td>color</td>\n",
       "      <td>pdaView</td>\n",
       "    </tr>\n",
       "    <tr>\n",
       "      <th>5</th>\n",
       "      <td>study44</td>\n",
       "      <td>study44_dicom92</td>\n",
       "      <td>0.201490</td>\n",
       "      <td>0.0</td>\n",
       "      <td>color</td>\n",
       "      <td>pdaView</td>\n",
       "    </tr>\n",
       "    <tr>\n",
       "      <th>6</th>\n",
       "      <td>study44</td>\n",
       "      <td>study44_dicom68</td>\n",
       "      <td>0.205288</td>\n",
       "      <td>0.0</td>\n",
       "      <td>color</td>\n",
       "      <td>pdaRelatedView</td>\n",
       "    </tr>\n",
       "    <tr>\n",
       "      <th>7</th>\n",
       "      <td>study44</td>\n",
       "      <td>study44_dicom89</td>\n",
       "      <td>0.399560</td>\n",
       "      <td>0.0</td>\n",
       "      <td>color</td>\n",
       "      <td>pdaRelatedView</td>\n",
       "    </tr>\n",
       "    <tr>\n",
       "      <th>8</th>\n",
       "      <td>study44</td>\n",
       "      <td>study44_dicom56</td>\n",
       "      <td>0.417616</td>\n",
       "      <td>0.0</td>\n",
       "      <td>color</td>\n",
       "      <td>pdaView</td>\n",
       "    </tr>\n",
       "    <tr>\n",
       "      <th>9</th>\n",
       "      <td>study56</td>\n",
       "      <td>study56_dicom52</td>\n",
       "      <td>0.573523</td>\n",
       "      <td>0.0</td>\n",
       "      <td>color</td>\n",
       "      <td>pdaView</td>\n",
       "    </tr>\n",
       "    <tr>\n",
       "      <th>10</th>\n",
       "      <td>study56</td>\n",
       "      <td>study56_dicom27</td>\n",
       "      <td>0.614297</td>\n",
       "      <td>0.0</td>\n",
       "      <td>color</td>\n",
       "      <td>pdaRelatedView</td>\n",
       "    </tr>\n",
       "    <tr>\n",
       "      <th>11</th>\n",
       "      <td>study11</td>\n",
       "      <td>study11_dicom36</td>\n",
       "      <td>0.425668</td>\n",
       "      <td>0.0</td>\n",
       "      <td>color_compare</td>\n",
       "      <td>pdaView</td>\n",
       "    </tr>\n",
       "    <tr>\n",
       "      <th>12</th>\n",
       "      <td>study11</td>\n",
       "      <td>study11_dicom49</td>\n",
       "      <td>0.455914</td>\n",
       "      <td>0.0</td>\n",
       "      <td>color_compare</td>\n",
       "      <td>pdaView</td>\n",
       "    </tr>\n",
       "    <tr>\n",
       "      <th>13</th>\n",
       "      <td>study21</td>\n",
       "      <td>study21_dicom45</td>\n",
       "      <td>0.374599</td>\n",
       "      <td>0.0</td>\n",
       "      <td>color</td>\n",
       "      <td>pdaRelatedView</td>\n",
       "    </tr>\n",
       "    <tr>\n",
       "      <th>14</th>\n",
       "      <td>study21</td>\n",
       "      <td>study21_dicom28</td>\n",
       "      <td>0.434309</td>\n",
       "      <td>0.0</td>\n",
       "      <td>color</td>\n",
       "      <td>pdaRelatedView</td>\n",
       "    </tr>\n",
       "    <tr>\n",
       "      <th>15</th>\n",
       "      <td>study3</td>\n",
       "      <td>study3_dicom51</td>\n",
       "      <td>0.825808</td>\n",
       "      <td>0.0</td>\n",
       "      <td>color</td>\n",
       "      <td>pdaRelatedView</td>\n",
       "    </tr>\n",
       "    <tr>\n",
       "      <th>16</th>\n",
       "      <td>study3</td>\n",
       "      <td>study3_dicom47</td>\n",
       "      <td>0.757345</td>\n",
       "      <td>0.0</td>\n",
       "      <td>color</td>\n",
       "      <td>pdaRelatedView</td>\n",
       "    </tr>\n",
       "    <tr>\n",
       "      <th>17</th>\n",
       "      <td>study3</td>\n",
       "      <td>study3_dicom43</td>\n",
       "      <td>0.992595</td>\n",
       "      <td>0.0</td>\n",
       "      <td>color</td>\n",
       "      <td>pdaRelatedView</td>\n",
       "    </tr>\n",
       "    <tr>\n",
       "      <th>18</th>\n",
       "      <td>study43</td>\n",
       "      <td>study43_dicom14</td>\n",
       "      <td>0.106966</td>\n",
       "      <td>0.0</td>\n",
       "      <td>color_compare</td>\n",
       "      <td>pdaRelatedView</td>\n",
       "    </tr>\n",
       "    <tr>\n",
       "      <th>19</th>\n",
       "      <td>study43</td>\n",
       "      <td>study43_dicom24</td>\n",
       "      <td>0.294567</td>\n",
       "      <td>0.0</td>\n",
       "      <td>color_compare</td>\n",
       "      <td>pdaView</td>\n",
       "    </tr>\n",
       "  </tbody>\n",
       "</table>\n",
       "</div>"
      ],
      "text/plain": [
       "      study       external_id  predicted  target           mode  \\\n",
       "0   study57   study57_dicom61   0.210324     0.0          color   \n",
       "1   study57   study57_dicom88   0.146953     0.0          color   \n",
       "2   study57  study57_dicom101   0.308916     0.0          color   \n",
       "3   study16   study16_dicom16   0.992087     1.0          color   \n",
       "4   study16   study16_dicom18   0.998570     1.0          color   \n",
       "5   study44   study44_dicom92   0.201490     0.0          color   \n",
       "6   study44   study44_dicom68   0.205288     0.0          color   \n",
       "7   study44   study44_dicom89   0.399560     0.0          color   \n",
       "8   study44   study44_dicom56   0.417616     0.0          color   \n",
       "9   study56   study56_dicom52   0.573523     0.0          color   \n",
       "10  study56   study56_dicom27   0.614297     0.0          color   \n",
       "11  study11   study11_dicom36   0.425668     0.0  color_compare   \n",
       "12  study11   study11_dicom49   0.455914     0.0  color_compare   \n",
       "13  study21   study21_dicom45   0.374599     0.0          color   \n",
       "14  study21   study21_dicom28   0.434309     0.0          color   \n",
       "15   study3    study3_dicom51   0.825808     0.0          color   \n",
       "16   study3    study3_dicom47   0.757345     0.0          color   \n",
       "17   study3    study3_dicom43   0.992595     0.0          color   \n",
       "18  study43   study43_dicom14   0.106966     0.0  color_compare   \n",
       "19  study43   study43_dicom24   0.294567     0.0  color_compare   \n",
       "\n",
       "              view  \n",
       "0          pdaView  \n",
       "1   pdaRelatedView  \n",
       "2   pdaRelatedView  \n",
       "3   pdaRelatedView  \n",
       "4          pdaView  \n",
       "5          pdaView  \n",
       "6   pdaRelatedView  \n",
       "7   pdaRelatedView  \n",
       "8          pdaView  \n",
       "9          pdaView  \n",
       "10  pdaRelatedView  \n",
       "11         pdaView  \n",
       "12         pdaView  \n",
       "13  pdaRelatedView  \n",
       "14  pdaRelatedView  \n",
       "15  pdaRelatedView  \n",
       "16  pdaRelatedView  \n",
       "17  pdaRelatedView  \n",
       "18  pdaRelatedView  \n",
       "19         pdaView  "
      ]
     },
     "execution_count": 9,
     "metadata": {},
     "output_type": "execute_result"
    }
   ],
   "source": [
    "df_results = pd.DataFrame(dict(\n",
    "    study = study_ls,\n",
    "    external_id = externalid_ls,\n",
    "    predicted = np.concatenate(output_ls).squeeze(),\n",
    "    target = np.concatenate(target_ls), \n",
    "    mode = np.concatenate(mode_ls),\n",
    "    view = np.concatenate(view_ls)\n",
    "))\n",
    "\n",
    "df_results['mode'] = df_results['mode'].map(VideoData.inv_mode_map)\n",
    "df_results.view = df_results.view.map(VideoData.inv_view_map)\n",
    "\n",
    "df_results.head(20)"
   ]
  },
  {
   "cell_type": "code",
   "execution_count": 10,
   "id": "9d0192d3-c53f-4e8e-bf7b-656a2270813c",
   "metadata": {},
   "outputs": [],
   "source": [
    "def compute_metrics(y_true, y_pred, thresh=0.5):\n",
    "    mets = dict()\n",
    "    \n",
    "    y_pred_cls = (y_pred>thresh).astype(int)\n",
    "    \n",
    "    mets['num_samples'] = len(y_true)\n",
    "    mets['roc_auc'] = skmet.roc_auc_score(y_true, y_pred)\n",
    "    mets['average_precision'] = skmet.average_precision_score(y_true, y_pred)\n",
    "    mets['accuracy'] = skmet.accuracy_score(y_true, y_pred_cls)\n",
    "    mets['sensitivity'] = skmet.recall_score(y_true, y_pred_cls)\n",
    "    mets['specificity'] = skmet.recall_score(y_true, y_pred_cls, pos_label=0)\n",
    "    \n",
    "    return mets"
   ]
  },
  {
   "cell_type": "markdown",
   "id": "1b112b57-1b83-43f3-8fd3-1b24381cb1cd",
   "metadata": {},
   "source": [
    "# Clip-level results"
   ]
  },
  {
   "cell_type": "code",
   "execution_count": 11,
   "id": "d0111d9a-2051-4af3-832d-b1a8702f2d98",
   "metadata": {},
   "outputs": [
    {
     "data": {
      "text/plain": [
       "{'num_samples': 142,\n",
       " 'roc_auc': 0.9420731707317074,\n",
       " 'average_precision': 0.9560257572392695,\n",
       " 'accuracy': 0.8661971830985915,\n",
       " 'sensitivity': 0.9512195121951219,\n",
       " 'specificity': 0.75}"
      ]
     },
     "execution_count": 11,
     "metadata": {},
     "output_type": "execute_result"
    }
   ],
   "source": [
    "compute_metrics(df_results.target, df_results.predicted)"
   ]
  },
  {
   "cell_type": "code",
   "execution_count": 12,
   "id": "76a3b8b9-8c92-40d8-aceb-dbd35b74dc89",
   "metadata": {},
   "outputs": [],
   "source": [
    "#non pda: 0, 0.05\n",
    "#pda: 0.05, 0.1"
   ]
  },
  {
   "cell_type": "code",
   "execution_count": 13,
   "id": "cfd71340-60fd-4463-8e1c-98320b0eba8f",
   "metadata": {},
   "outputs": [
    {
     "data": {
      "text/html": [
       "<div>\n",
       "<style scoped>\n",
       "    .dataframe tbody tr th:only-of-type {\n",
       "        vertical-align: middle;\n",
       "    }\n",
       "\n",
       "    .dataframe tbody tr th {\n",
       "        vertical-align: top;\n",
       "    }\n",
       "\n",
       "    .dataframe thead th {\n",
       "        text-align: right;\n",
       "    }\n",
       "</style>\n",
       "<table border=\"1\" class=\"dataframe\">\n",
       "  <thead>\n",
       "    <tr style=\"text-align: right;\">\n",
       "      <th></th>\n",
       "      <th></th>\n",
       "      <th>num_samples</th>\n",
       "      <th>roc_auc</th>\n",
       "      <th>average_precision</th>\n",
       "      <th>accuracy</th>\n",
       "      <th>sensitivity</th>\n",
       "      <th>specificity</th>\n",
       "    </tr>\n",
       "    <tr>\n",
       "      <th>view</th>\n",
       "      <th>mode</th>\n",
       "      <th></th>\n",
       "      <th></th>\n",
       "      <th></th>\n",
       "      <th></th>\n",
       "      <th></th>\n",
       "      <th></th>\n",
       "    </tr>\n",
       "  </thead>\n",
       "  <tbody>\n",
       "    <tr>\n",
       "      <th rowspan=\"2\" valign=\"top\">pdaRelatedView</th>\n",
       "      <th>color</th>\n",
       "      <td>54</td>\n",
       "      <td>0.944444</td>\n",
       "      <td>0.902372</td>\n",
       "      <td>0.833333</td>\n",
       "      <td>1.000000</td>\n",
       "      <td>0.7</td>\n",
       "    </tr>\n",
       "    <tr>\n",
       "      <th>color_compare</th>\n",
       "      <td>27</td>\n",
       "      <td>0.929412</td>\n",
       "      <td>0.954822</td>\n",
       "      <td>0.851852</td>\n",
       "      <td>0.823529</td>\n",
       "      <td>0.9</td>\n",
       "    </tr>\n",
       "    <tr>\n",
       "      <th rowspan=\"2\" valign=\"top\">pdaView</th>\n",
       "      <th>color</th>\n",
       "      <td>24</td>\n",
       "      <td>0.964286</td>\n",
       "      <td>0.976053</td>\n",
       "      <td>0.833333</td>\n",
       "      <td>1.000000</td>\n",
       "      <td>0.6</td>\n",
       "    </tr>\n",
       "    <tr>\n",
       "      <th>color_compare</th>\n",
       "      <td>37</td>\n",
       "      <td>0.974074</td>\n",
       "      <td>0.991417</td>\n",
       "      <td>0.945946</td>\n",
       "      <td>0.962963</td>\n",
       "      <td>0.9</td>\n",
       "    </tr>\n",
       "  </tbody>\n",
       "</table>\n",
       "</div>"
      ],
      "text/plain": [
       "                              num_samples   roc_auc  average_precision  \\\n",
       "view           mode                                                      \n",
       "pdaRelatedView color                   54  0.944444           0.902372   \n",
       "               color_compare           27  0.929412           0.954822   \n",
       "pdaView        color                   24  0.964286           0.976053   \n",
       "               color_compare           37  0.974074           0.991417   \n",
       "\n",
       "                              accuracy  sensitivity  specificity  \n",
       "view           mode                                               \n",
       "pdaRelatedView color          0.833333     1.000000          0.7  \n",
       "               color_compare  0.851852     0.823529          0.9  \n",
       "pdaView        color          0.833333     1.000000          0.6  \n",
       "               color_compare  0.945946     0.962963          0.9  "
      ]
     },
     "execution_count": 13,
     "metadata": {},
     "output_type": "execute_result"
    }
   ],
   "source": [
    "grouped_results = df_results.groupby(['view', 'mode']).apply(lambda dat: compute_metrics(dat.target, dat.predicted))\n",
    "grouped_results = pd.DataFrame(grouped_results.tolist(), index=grouped_results.index)\n",
    "grouped_results"
   ]
  },
  {
   "cell_type": "markdown",
   "id": "cbecc9c2-8cec-4330-b29f-3464051fc313",
   "metadata": {},
   "source": [
    "# Attention"
   ]
  },
  {
   "cell_type": "code",
   "execution_count": 14,
   "id": "5d019582-23f8-428e-b894-f14288801eb6",
   "metadata": {},
   "outputs": [
    {
     "data": {
      "text/html": [
       "<div>\n",
       "<style scoped>\n",
       "    .dataframe tbody tr th:only-of-type {\n",
       "        vertical-align: middle;\n",
       "    }\n",
       "\n",
       "    .dataframe tbody tr th {\n",
       "        vertical-align: top;\n",
       "    }\n",
       "\n",
       "    .dataframe thead th {\n",
       "        text-align: right;\n",
       "    }\n",
       "</style>\n",
       "<table border=\"1\" class=\"dataframe\">\n",
       "  <thead>\n",
       "    <tr style=\"text-align: right;\">\n",
       "      <th></th>\n",
       "      <th>study</th>\n",
       "      <th>external_id</th>\n",
       "      <th>predicted</th>\n",
       "      <th>target</th>\n",
       "      <th>mode</th>\n",
       "      <th>view</th>\n",
       "    </tr>\n",
       "  </thead>\n",
       "  <tbody>\n",
       "  </tbody>\n",
       "</table>\n",
       "</div>"
      ],
      "text/plain": [
       "Empty DataFrame\n",
       "Columns: [study, external_id, predicted, target, mode, view]\n",
       "Index: []"
      ]
     },
     "execution_count": 14,
     "metadata": {},
     "output_type": "execute_result"
    }
   ],
   "source": [
    "df_results.query('target==1.0 and mode==\"2d\" and view==\"pdaView\"')"
   ]
  },
  {
   "cell_type": "code",
   "execution_count": 15,
   "id": "ecbe4d87-0674-456e-ab13-3500b4dea17c",
   "metadata": {},
   "outputs": [
    {
     "name": "stdout",
     "output_type": "stream",
     "text": [
      "study68_dicom62 - nopda - pdaRelatedView\n"
     ]
    }
   ],
   "source": [
    "index = 31\n",
    "batch_ix = index // bs_test\n",
    "ix_in_batch = index % bs_test\n",
    "\n",
    "mask = mask_ls[batch_ix][...,ix_in_batch]\n",
    "attn = attn_ls[batch_ix][...,ix_in_batch]\n",
    "trg_type = int(target_ls[batch_ix][ix_in_batch])\n",
    "target = VideoData.inv_type_map[trg_type]\n",
    "view = VideoData.inv_view_map[int(view_ls[batch_ix][ix_in_batch])]\n",
    "external_id = externalid_ls[index]\n",
    "\n",
    "mp4_path = df_test.loc[(df_test.external_id == external_id) & (df_test.trg_type == trg_type)].mp4_path.unique().item()\n",
    "mp4_path = mp4_path.replace('/Superior Views/', '/superior_views_h264/')\n",
    "\n",
    "print(external_id, target, view, sep=' - ')"
   ]
  },
  {
   "cell_type": "code",
   "execution_count": 16,
   "id": "3119d10d-5ff4-4b76-9f2a-208e6520862c",
   "metadata": {},
   "outputs": [
    {
     "data": {
      "text/plain": [
       "(0.0, 0.1)"
      ]
     },
     "execution_count": 16,
     "metadata": {},
     "output_type": "execute_result"
    },
    {
     "data": {
      "image/png": "[encoded data removed]",
      "text/plain": [
       "<Figure size 640x480 with 1 Axes>"
      ]
     },
     "metadata": {},
     "output_type": "display_data"
    }
   ],
   "source": [
    "plt.plot(attn[mask])\n",
    "plt.ylim(0,0.1)"
   ]
  },
  {
   "cell_type": "code",
   "execution_count": 17,
   "id": "738783f1-fe39-4bd9-9d5b-07b96b0e61fb",
   "metadata": {},
   "outputs": [],
   "source": [
    "# from IPython.display import FileLink\n",
    "# !cp $mp4_path /home/dane2/Code/pda_detection/"
   ]
  },
  {
   "cell_type": "code",
   "execution_count": null,
   "id": "bf2dde5c-f971-4515-a43c-af8dae9b318a",
   "metadata": {},
   "outputs": [],
   "source": []
  }
 ],
 "metadata": {
  "kernelspec": {
   "display_name": "PDA",
   "language": "python",
   "name": "pda"
  },
  "language_info": {
   "codemirror_mode": {
    "name": "ipython",
    "version": 3
   },
   "file_extension": ".py",
   "mimetype": "text/x-python",
   "name": "python",
   "nbconvert_exporter": "python",
   "pygments_lexer": "ipython3",
   "version": "3.9.12"
  }
 },
 "nbformat": 4,
 "nbformat_minor": 5
}
