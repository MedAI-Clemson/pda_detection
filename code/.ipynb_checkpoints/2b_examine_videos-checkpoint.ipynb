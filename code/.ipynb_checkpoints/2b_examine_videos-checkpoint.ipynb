{
 "cells": [
  {
   "cell_type": "code",
   "execution_count": 1,
   "id": "daaa341c-0948-46ae-8454-8e47c62cf06f",
   "metadata": {},
   "outputs": [],
   "source": [
    "%load_ext autoreload\n",
    "%autoreload 1\n",
    "%config InlineBackend.print_figure_kwargs={'facecolor' : \"w\"}"
   ]
  },
  {
   "cell_type": "code",
   "execution_count": 2,
   "id": "db27084b-c3c0-4e7a-bc00-dab2262def34",
   "metadata": {},
   "outputs": [],
   "source": [
    "import pandas as pd\n",
    "import numpy as np\n",
    "from sklearn.model_selection import RepeatedStratifiedKFold\n",
    "from torch.utils.data import DataLoader\n",
    "import timm\n",
    "from timm import optim, scheduler\n",
    "import torch\n",
    "from torch import nn\n",
    "from torch.optim.lr_scheduler import ExponentialLR\n",
    "from torchvision import transforms as tfm\n",
    "from sklearn import metrics as skmet\n",
    "\n",
    "%aimport dataset\n",
    "%aimport transforms\n",
    "\n",
    "VideoData = dataset.VideoData\n",
    "VideoTransforms = transforms.VideoTransforms"
   ]
  },
  {
   "cell_type": "code",
   "execution_count": 3,
   "id": "7af05b89-c3b2-4d84-8f4a-ab907f26fe8b",
   "metadata": {},
   "outputs": [],
   "source": [
    "views = ['pdaRelatedView', 'pdaView']\n",
    "modes = ['2d', 'color', 'color_compare']\n",
    "bs = 16  # batch size for training\n",
    "num_workers = 5  # number of parallel data loading workers\n",
    "res = 224 # pixel size along height and width\n",
    "device = torch.device('cpu')\n",
    "num_classes = 3"
   ]
  },
  {
   "cell_type": "code",
   "execution_count": 4,
   "id": "b998b846-33c7-4d9a-8d18-ccd66164031f",
   "metadata": {},
   "outputs": [],
   "source": [
    "transforms = VideoTransforms(224)\n",
    "tfms = transforms.get_transforms('test')"
   ]
  },
  {
   "cell_type": "code",
   "execution_count": 5,
   "id": "5bd114bb-8654-42da-875d-0bb19d74fb79",
   "metadata": {},
   "outputs": [],
   "source": [
    "df_frame = pd.read_csv('../label_data/20220822_frame.csv')\n",
    "df_video = pd.read_csv('../label_data/20220822_video.csv')\n",
    "df_study = pd.read_csv('../label_data/20220822_study.csv')\n",
    "df_patient_study = pd.read_csv('../label_data/20220822_patient_study.csv')\n",
    "df_patient = pd.read_csv('../label_data/20220822_patient.csv')"
   ]
  },
  {
   "cell_type": "code",
   "execution_count": 6,
   "id": "8e987e13-38ae-425e-a2ff-b3b07c24e97d",
   "metadata": {},
   "outputs": [
    {
     "data": {
      "text/plain": [
       "(Index(['patient_id', 'num_studies'], dtype='object'),\n",
       " Index(['patient_id', 'patient_type', 'study', 'num_videos'], dtype='object'),\n",
       " Index(['patient_type', 'study', 'num_videos', 'num_frames'], dtype='object'),\n",
       " Index(['external_id', 'patient_type', 'num_frames', 'view', 'mode',\n",
       "        'diagnosis', 'study', 'mp4_path'],\n",
       "       dtype='object'),\n",
       " Index(['patient_type', 'external_id', 'png_path'], dtype='object'))"
      ]
     },
     "execution_count": 6,
     "metadata": {},
     "output_type": "execute_result"
    }
   ],
   "source": [
    "df_patient.columns, df_patient_study.columns, df_study.columns, df_video.columns, df_frame.columns"
   ]
  },
  {
   "cell_type": "code",
   "execution_count": 7,
   "id": "f6ba8f0e-ed4d-456c-834f-2593f82a778f",
   "metadata": {},
   "outputs": [
    {
     "data": {
      "text/html": [
       "<div>\n",
       "<style scoped>\n",
       "    .dataframe tbody tr th:only-of-type {\n",
       "        vertical-align: middle;\n",
       "    }\n",
       "\n",
       "    .dataframe tbody tr th {\n",
       "        vertical-align: top;\n",
       "    }\n",
       "\n",
       "    .dataframe thead th {\n",
       "        text-align: right;\n",
       "    }\n",
       "</style>\n",
       "<table border=\"1\" class=\"dataframe\">\n",
       "  <thead>\n",
       "    <tr style=\"text-align: right;\">\n",
       "      <th></th>\n",
       "      <th>patient_id</th>\n",
       "      <th>num_studies</th>\n",
       "      <th>patient_type</th>\n",
       "      <th>study</th>\n",
       "      <th>num_videos_x</th>\n",
       "      <th>num_videos_y</th>\n",
       "      <th>num_frames_x</th>\n",
       "      <th>external_id</th>\n",
       "      <th>num_frames_y</th>\n",
       "      <th>view</th>\n",
       "      <th>mode</th>\n",
       "      <th>diagnosis</th>\n",
       "      <th>mp4_path</th>\n",
       "      <th>png_path</th>\n",
       "    </tr>\n",
       "  </thead>\n",
       "  <tbody>\n",
       "    <tr>\n",
       "      <th>0</th>\n",
       "      <td>01578f3a19fbf0f2</td>\n",
       "      <td>1</td>\n",
       "      <td>pda</td>\n",
       "      <td>study22</td>\n",
       "      <td>82</td>\n",
       "      <td>33</td>\n",
       "      <td>4825</td>\n",
       "      <td>study22_dicom35</td>\n",
       "      <td>77</td>\n",
       "      <td>nonPDAView</td>\n",
       "      <td>2d</td>\n",
       "      <td>NaN</td>\n",
       "      <td>/mnt/data/pda/superior_views/PDA/study22_dicom...</td>\n",
       "      <td>/mnt/data/pda/model_data/20220822/pda_study22_...</td>\n",
       "    </tr>\n",
       "    <tr>\n",
       "      <th>1</th>\n",
       "      <td>01578f3a19fbf0f2</td>\n",
       "      <td>1</td>\n",
       "      <td>pda</td>\n",
       "      <td>study22</td>\n",
       "      <td>82</td>\n",
       "      <td>33</td>\n",
       "      <td>4825</td>\n",
       "      <td>study22_dicom35</td>\n",
       "      <td>77</td>\n",
       "      <td>nonPDAView</td>\n",
       "      <td>2d</td>\n",
       "      <td>NaN</td>\n",
       "      <td>/mnt/data/pda/superior_views/PDA/study22_dicom...</td>\n",
       "      <td>/mnt/data/pda/model_data/20220822/pda_study22_...</td>\n",
       "    </tr>\n",
       "    <tr>\n",
       "      <th>2</th>\n",
       "      <td>01578f3a19fbf0f2</td>\n",
       "      <td>1</td>\n",
       "      <td>pda</td>\n",
       "      <td>study22</td>\n",
       "      <td>82</td>\n",
       "      <td>33</td>\n",
       "      <td>4825</td>\n",
       "      <td>study22_dicom35</td>\n",
       "      <td>77</td>\n",
       "      <td>nonPDAView</td>\n",
       "      <td>2d</td>\n",
       "      <td>NaN</td>\n",
       "      <td>/mnt/data/pda/superior_views/PDA/study22_dicom...</td>\n",
       "      <td>/mnt/data/pda/model_data/20220822/pda_study22_...</td>\n",
       "    </tr>\n",
       "    <tr>\n",
       "      <th>3</th>\n",
       "      <td>01578f3a19fbf0f2</td>\n",
       "      <td>1</td>\n",
       "      <td>pda</td>\n",
       "      <td>study22</td>\n",
       "      <td>82</td>\n",
       "      <td>33</td>\n",
       "      <td>4825</td>\n",
       "      <td>study22_dicom35</td>\n",
       "      <td>77</td>\n",
       "      <td>nonPDAView</td>\n",
       "      <td>2d</td>\n",
       "      <td>NaN</td>\n",
       "      <td>/mnt/data/pda/superior_views/PDA/study22_dicom...</td>\n",
       "      <td>/mnt/data/pda/model_data/20220822/pda_study22_...</td>\n",
       "    </tr>\n",
       "    <tr>\n",
       "      <th>4</th>\n",
       "      <td>01578f3a19fbf0f2</td>\n",
       "      <td>1</td>\n",
       "      <td>pda</td>\n",
       "      <td>study22</td>\n",
       "      <td>82</td>\n",
       "      <td>33</td>\n",
       "      <td>4825</td>\n",
       "      <td>study22_dicom35</td>\n",
       "      <td>77</td>\n",
       "      <td>nonPDAView</td>\n",
       "      <td>2d</td>\n",
       "      <td>NaN</td>\n",
       "      <td>/mnt/data/pda/superior_views/PDA/study22_dicom...</td>\n",
       "      <td>/mnt/data/pda/model_data/20220822/pda_study22_...</td>\n",
       "    </tr>\n",
       "  </tbody>\n",
       "</table>\n",
       "</div>"
      ],
      "text/plain": [
       "         patient_id  num_studies patient_type    study  num_videos_x  \\\n",
       "0  01578f3a19fbf0f2            1          pda  study22            82   \n",
       "1  01578f3a19fbf0f2            1          pda  study22            82   \n",
       "2  01578f3a19fbf0f2            1          pda  study22            82   \n",
       "3  01578f3a19fbf0f2            1          pda  study22            82   \n",
       "4  01578f3a19fbf0f2            1          pda  study22            82   \n",
       "\n",
       "   num_videos_y  num_frames_x      external_id  num_frames_y        view mode  \\\n",
       "0            33          4825  study22_dicom35            77  nonPDAView   2d   \n",
       "1            33          4825  study22_dicom35            77  nonPDAView   2d   \n",
       "2            33          4825  study22_dicom35            77  nonPDAView   2d   \n",
       "3            33          4825  study22_dicom35            77  nonPDAView   2d   \n",
       "4            33          4825  study22_dicom35            77  nonPDAView   2d   \n",
       "\n",
       "  diagnosis                                           mp4_path  \\\n",
       "0       NaN  /mnt/data/pda/superior_views/PDA/study22_dicom...   \n",
       "1       NaN  /mnt/data/pda/superior_views/PDA/study22_dicom...   \n",
       "2       NaN  /mnt/data/pda/superior_views/PDA/study22_dicom...   \n",
       "3       NaN  /mnt/data/pda/superior_views/PDA/study22_dicom...   \n",
       "4       NaN  /mnt/data/pda/superior_views/PDA/study22_dicom...   \n",
       "\n",
       "                                            png_path  \n",
       "0  /mnt/data/pda/model_data/20220822/pda_study22_...  \n",
       "1  /mnt/data/pda/model_data/20220822/pda_study22_...  \n",
       "2  /mnt/data/pda/model_data/20220822/pda_study22_...  \n",
       "3  /mnt/data/pda/model_data/20220822/pda_study22_...  \n",
       "4  /mnt/data/pda/model_data/20220822/pda_study22_...  "
      ]
     },
     "execution_count": 7,
     "metadata": {},
     "output_type": "execute_result"
    }
   ],
   "source": [
    "# create datasets\n",
    "df = df_patient.merge(df_patient_study).merge(df_study, on=['patient_type', 'study']).merge(df_video, on=['patient_type', 'study']).merge(df_frame, on=['patient_type', 'external_id'])\n",
    "df.head()"
   ]
  },
  {
   "cell_type": "markdown",
   "id": "5d159edf-7ab5-40a8-8671-2afe87a7df70",
   "metadata": {},
   "source": [
    "# Examine"
   ]
  },
  {
   "cell_type": "code",
   "execution_count": 30,
   "id": "7fb2330d-1198-4f31-b8a8-919c7f8ebaae",
   "metadata": {},
   "outputs": [],
   "source": [
    "d = VideoData(df, transforms = tfms, mode_filter = modes, view_filter = views)"
   ]
  },
  {
   "cell_type": "code",
   "execution_count": 31,
   "id": "451a24b5-8e82-4d2f-889e-6253cda9437d",
   "metadata": {},
   "outputs": [
    {
     "data": {
      "text/html": [
       "<div>\n",
       "<style scoped>\n",
       "    .dataframe tbody tr th:only-of-type {\n",
       "        vertical-align: middle;\n",
       "    }\n",
       "\n",
       "    .dataframe tbody tr th {\n",
       "        vertical-align: top;\n",
       "    }\n",
       "\n",
       "    .dataframe thead th {\n",
       "        text-align: right;\n",
       "    }\n",
       "</style>\n",
       "<table border=\"1\" class=\"dataframe\">\n",
       "  <thead>\n",
       "    <tr style=\"text-align: right;\">\n",
       "      <th></th>\n",
       "      <th>study</th>\n",
       "      <th>patient_id</th>\n",
       "      <th>patient_type</th>\n",
       "      <th>external_id</th>\n",
       "      <th>mode</th>\n",
       "      <th>trg_type</th>\n",
       "      <th>trg_view</th>\n",
       "      <th>trg_mode</th>\n",
       "    </tr>\n",
       "  </thead>\n",
       "  <tbody>\n",
       "    <tr>\n",
       "      <th>2225</th>\n",
       "      <td>study22</td>\n",
       "      <td>01578f3a19fbf0f2</td>\n",
       "      <td>pda</td>\n",
       "      <td>study22_dicom58</td>\n",
       "      <td>2d</td>\n",
       "      <td>1</td>\n",
       "      <td>1</td>\n",
       "      <td>0</td>\n",
       "    </tr>\n",
       "    <tr>\n",
       "      <th>2296</th>\n",
       "      <td>study22</td>\n",
       "      <td>01578f3a19fbf0f2</td>\n",
       "      <td>pda</td>\n",
       "      <td>study22_dicom59</td>\n",
       "      <td>color_compare</td>\n",
       "      <td>1</td>\n",
       "      <td>1</td>\n",
       "      <td>2</td>\n",
       "    </tr>\n",
       "    <tr>\n",
       "      <th>2383</th>\n",
       "      <td>study22</td>\n",
       "      <td>01578f3a19fbf0f2</td>\n",
       "      <td>pda</td>\n",
       "      <td>study22_dicom63</td>\n",
       "      <td>color_compare</td>\n",
       "      <td>1</td>\n",
       "      <td>2</td>\n",
       "      <td>2</td>\n",
       "    </tr>\n",
       "    <tr>\n",
       "      <th>2480</th>\n",
       "      <td>study22</td>\n",
       "      <td>01578f3a19fbf0f2</td>\n",
       "      <td>pda</td>\n",
       "      <td>study22_dicom67</td>\n",
       "      <td>color_compare</td>\n",
       "      <td>1</td>\n",
       "      <td>2</td>\n",
       "      <td>2</td>\n",
       "    </tr>\n",
       "    <tr>\n",
       "      <th>2745</th>\n",
       "      <td>study22</td>\n",
       "      <td>01578f3a19fbf0f2</td>\n",
       "      <td>pda</td>\n",
       "      <td>study22_dicom69</td>\n",
       "      <td>2d</td>\n",
       "      <td>1</td>\n",
       "      <td>1</td>\n",
       "      <td>0</td>\n",
       "    </tr>\n",
       "    <tr>\n",
       "      <th>...</th>\n",
       "      <td>...</td>\n",
       "      <td>...</td>\n",
       "      <td>...</td>\n",
       "      <td>...</td>\n",
       "      <td>...</td>\n",
       "      <td>...</td>\n",
       "      <td>...</td>\n",
       "      <td>...</td>\n",
       "    </tr>\n",
       "    <tr>\n",
       "      <th>204109</th>\n",
       "      <td>study36</td>\n",
       "      <td>f8dd48f1f7946612</td>\n",
       "      <td>pda</td>\n",
       "      <td>study36_dicom50</td>\n",
       "      <td>2d</td>\n",
       "      <td>1</td>\n",
       "      <td>2</td>\n",
       "      <td>0</td>\n",
       "    </tr>\n",
       "    <tr>\n",
       "      <th>204139</th>\n",
       "      <td>study36</td>\n",
       "      <td>f8dd48f1f7946612</td>\n",
       "      <td>pda</td>\n",
       "      <td>study36_dicom52</td>\n",
       "      <td>color</td>\n",
       "      <td>1</td>\n",
       "      <td>2</td>\n",
       "      <td>1</td>\n",
       "    </tr>\n",
       "    <tr>\n",
       "      <th>205192</th>\n",
       "      <td>study36</td>\n",
       "      <td>f8dd48f1f7946612</td>\n",
       "      <td>pda</td>\n",
       "      <td>study36_dicom69</td>\n",
       "      <td>2d</td>\n",
       "      <td>1</td>\n",
       "      <td>1</td>\n",
       "      <td>0</td>\n",
       "    </tr>\n",
       "    <tr>\n",
       "      <th>205273</th>\n",
       "      <td>study36</td>\n",
       "      <td>f8dd48f1f7946612</td>\n",
       "      <td>pda</td>\n",
       "      <td>study36_dicom70</td>\n",
       "      <td>color</td>\n",
       "      <td>1</td>\n",
       "      <td>1</td>\n",
       "      <td>1</td>\n",
       "    </tr>\n",
       "    <tr>\n",
       "      <th>205358</th>\n",
       "      <td>study36</td>\n",
       "      <td>f8dd48f1f7946612</td>\n",
       "      <td>pda</td>\n",
       "      <td>study36_dicom73</td>\n",
       "      <td>color</td>\n",
       "      <td>1</td>\n",
       "      <td>2</td>\n",
       "      <td>1</td>\n",
       "    </tr>\n",
       "  </tbody>\n",
       "</table>\n",
       "<p>765 rows × 8 columns</p>\n",
       "</div>"
      ],
      "text/plain": [
       "          study        patient_id patient_type      external_id  \\\n",
       "2225    study22  01578f3a19fbf0f2          pda  study22_dicom58   \n",
       "2296    study22  01578f3a19fbf0f2          pda  study22_dicom59   \n",
       "2383    study22  01578f3a19fbf0f2          pda  study22_dicom63   \n",
       "2480    study22  01578f3a19fbf0f2          pda  study22_dicom67   \n",
       "2745    study22  01578f3a19fbf0f2          pda  study22_dicom69   \n",
       "...         ...               ...          ...              ...   \n",
       "204109  study36  f8dd48f1f7946612          pda  study36_dicom50   \n",
       "204139  study36  f8dd48f1f7946612          pda  study36_dicom52   \n",
       "205192  study36  f8dd48f1f7946612          pda  study36_dicom69   \n",
       "205273  study36  f8dd48f1f7946612          pda  study36_dicom70   \n",
       "205358  study36  f8dd48f1f7946612          pda  study36_dicom73   \n",
       "\n",
       "                 mode  trg_type  trg_view  trg_mode  \n",
       "2225               2d         1         1         0  \n",
       "2296    color_compare         1         1         2  \n",
       "2383    color_compare         1         2         2  \n",
       "2480    color_compare         1         2         2  \n",
       "2745               2d         1         1         0  \n",
       "...               ...       ...       ...       ...  \n",
       "204109             2d         1         2         0  \n",
       "204139          color         1         2         1  \n",
       "205192             2d         1         1         0  \n",
       "205273          color         1         1         1  \n",
       "205358          color         1         2         1  \n",
       "\n",
       "[765 rows x 8 columns]"
      ]
     },
     "execution_count": 31,
     "metadata": {},
     "output_type": "execute_result"
    }
   ],
   "source": [
    "d.video_data"
   ]
  },
  {
   "cell_type": "code",
   "execution_count": 34,
   "id": "ec946a81-27db-4b96-bd38-26bcffb942c1",
   "metadata": {},
   "outputs": [],
   "source": [
    "dl = DataLoader(d, batch_size=8, num_workers=0, collate_fn = d.collate, shuffle=True)"
   ]
  },
  {
   "cell_type": "code",
   "execution_count": 35,
   "id": "62a186f7-1075-4864-b89d-d1b0976d5a31",
   "metadata": {},
   "outputs": [],
   "source": [
    "batch = next(iter(dl))"
   ]
  },
  {
   "cell_type": "code",
   "execution_count": 36,
   "id": "c0371d26-0fad-4361-bbe5-4301a01fc688",
   "metadata": {},
   "outputs": [
    {
     "data": {
      "text/plain": [
       "dict_keys(['video', 'mask', 'trg_type', 'trg_view', 'trg_mode', 'study', 'patient'])"
      ]
     },
     "execution_count": 36,
     "metadata": {},
     "output_type": "execute_result"
    }
   ],
   "source": [
    "batch.keys()"
   ]
  },
  {
   "cell_type": "code",
   "execution_count": 37,
   "id": "432fac84-27b9-4e8f-b2c4-f9dda9bc1813",
   "metadata": {},
   "outputs": [
    {
     "data": {
      "text/plain": [
       "torch.Size([910, 3, 224, 224])"
      ]
     },
     "execution_count": 37,
     "metadata": {},
     "output_type": "execute_result"
    }
   ],
   "source": [
    "batch['video'].shape"
   ]
  },
  {
   "cell_type": "code",
   "execution_count": 40,
   "id": "ad210956-776f-49fa-81ba-642a419f0b84",
   "metadata": {},
   "outputs": [
    {
     "data": {
      "text/plain": [
       "(tensor([[ True, False, False,  ..., False, False, False],\n",
       "         [ True, False, False,  ..., False, False, False],\n",
       "         [ True, False, False,  ..., False, False, False],\n",
       "         ...,\n",
       "         [False, False, False,  ..., False, False,  True],\n",
       "         [False, False, False,  ..., False, False,  True],\n",
       "         [False, False, False,  ..., False, False,  True]]),\n",
       " torch.Size([910, 8]))"
      ]
     },
     "execution_count": 40,
     "metadata": {},
     "output_type": "execute_result"
    }
   ],
   "source": [
    "batch['mask'], batch['mask'].shape"
   ]
  },
  {
   "cell_type": "code",
   "execution_count": 42,
   "id": "55f76709-5cde-4e00-87d0-b78e153f8924",
   "metadata": {},
   "outputs": [
    {
     "data": {
      "text/plain": [
       "tensor([1, 0, 1, 0, 0, 1, 0, 0])"
      ]
     },
     "execution_count": 42,
     "metadata": {},
     "output_type": "execute_result"
    }
   ],
   "source": [
    "batch['trg_type']"
   ]
  },
  {
   "cell_type": "code",
   "execution_count": 43,
   "id": "5b13e132-9f5b-4834-85ce-34341241c1b2",
   "metadata": {},
   "outputs": [
    {
     "data": {
      "text/plain": [
       "tensor([1, 1, 2, 2, 2, 1, 2, 2])"
      ]
     },
     "execution_count": 43,
     "metadata": {},
     "output_type": "execute_result"
    }
   ],
   "source": [
    "batch['trg_view']"
   ]
  },
  {
   "cell_type": "code",
   "execution_count": 44,
   "id": "db0459e4-2734-4584-81b7-b6e7c3767671",
   "metadata": {},
   "outputs": [
    {
     "data": {
      "text/plain": [
       "tensor([0, 0, 1, 0, 1, 1, 2, 2])"
      ]
     },
     "execution_count": 44,
     "metadata": {},
     "output_type": "execute_result"
    }
   ],
   "source": [
    "batch['trg_mode']"
   ]
  },
  {
   "cell_type": "code",
   "execution_count": 45,
   "id": "393e659a-8408-4ca9-92be-137bfbe008c5",
   "metadata": {},
   "outputs": [
    {
     "data": {
      "text/plain": [
       "['study7',\n",
       " 'study4',\n",
       " 'study21',\n",
       " 'study55',\n",
       " 'study69',\n",
       " 'study1',\n",
       " 'study2',\n",
       " 'study61']"
      ]
     },
     "execution_count": 45,
     "metadata": {},
     "output_type": "execute_result"
    }
   ],
   "source": [
    "batch['study']"
   ]
  },
  {
   "cell_type": "code",
   "execution_count": 46,
   "id": "616786a3-df33-4780-9838-6bf28a2be5a5",
   "metadata": {},
   "outputs": [
    {
     "data": {
      "text/plain": [
       "['0a3d6256c8e10c73',\n",
       " '627e389054c339f5',\n",
       " '17a19a86d4e64b41',\n",
       " 'efa3614c94506474',\n",
       " 'f1a239968416da4a',\n",
       " '3e70e49acc535a20',\n",
       " '07a6b40fa32bef68',\n",
       " 'f0f5983a3b8324e2']"
      ]
     },
     "execution_count": 46,
     "metadata": {},
     "output_type": "execute_result"
    }
   ],
   "source": [
    "batch['patient']"
   ]
  },
  {
   "cell_type": "code",
   "execution_count": null,
   "id": "9436a94f-9de1-4cbd-8618-ab338c270a01",
   "metadata": {},
   "outputs": [],
   "source": []
  }
 ],
 "metadata": {
  "kernelspec": {
   "display_name": "Python 3 (ipykernel)",
   "language": "python",
   "name": "python3"
  },
  "language_info": {
   "codemirror_mode": {
    "name": "ipython",
    "version": 3
   },
   "file_extension": ".py",
   "mimetype": "text/x-python",
   "name": "python",
   "nbconvert_exporter": "python",
   "pygments_lexer": "ipython3",
   "version": "3.9.12"
  }
 },
 "nbformat": 4,
 "nbformat_minor": 5
}
