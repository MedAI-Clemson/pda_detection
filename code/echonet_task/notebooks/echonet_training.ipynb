{
 "cells": [
  {
   "cell_type": "code",
   "execution_count": 3,
   "id": "a0aac422-8493-4880-8477-bbeb508b6e36",
   "metadata": {},
   "outputs": [],
   "source": [
    "from utils import video"
   ]
  },
  {
   "cell_type": "code",
   "execution_count": 2,
   "id": "7a057a32-4009-455c-b152-f719c0045596",
   "metadata": {
    "tags": []
   },
   "outputs": [],
   "source": [
    "# video.run(data_dir=\"/zfs/wficai/Data/echonet_data/EchoNet-Dynamic/\", batch_size=20, num_workers=30, run_test=True)"
   ]
  },
  {
   "cell_type": "markdown",
   "id": "3a6ce212-f258-4dfb-9a08-22883f9bbf2c",
   "metadata": {
    "jp-MarkdownHeadingCollapsed": true,
    "tags": []
   },
   "source": [
    "# First Round Tests"
   ]
  },
  {
   "cell_type": "code",
   "execution_count": 3,
   "id": "98b5b16e-2b42-4dff-b9c5-037669125b25",
   "metadata": {
    "tags": []
   },
   "outputs": [
    {
     "name": "stderr",
     "output_type": "stream",
     "text": [
      "ERROR:root:Internal Python error in the inspect module.\n",
      "Below is the traceback from this internal error.\n",
      "\n"
     ]
    },
    {
     "name": "stdout",
     "output_type": "stream",
     "text": [
      "Traceback (most recent call last):\n",
      "  File \"/home/jplineb/.conda/envs/echonet_oldp/lib/python3.7/site-packages/IPython/core/interactiveshell.py\", line 3553, in run_code\n",
      "    exec(code_obj, self.user_global_ns, self.user_ns)\n",
      "  File \"/local_scratch/pbs.241805.pbs02/ipykernel_3100724/3117040369.py\", line 7, in <module>\n",
      "    run_test=True)\n",
      "  File \"/home/jplineb/echonet/dynamic/echonet/utils/video.py\", line 128, in run\n",
      "    model = torch.nn.DataParallel(model)\n",
      "  File \"/home/jplineb/.conda/envs/echonet_oldp/lib/python3.7/site-packages/torch/nn/parallel/data_parallel.py\", line 145, in __init__\n",
      "    self.module.to(self.src_device_obj)\n",
      "  File \"/home/jplineb/.conda/envs/echonet_oldp/lib/python3.7/site-packages/torch/nn/modules/module.py\", line 673, in to\n",
      "    return self._apply(convert)\n",
      "  File \"/home/jplineb/.conda/envs/echonet_oldp/lib/python3.7/site-packages/torch/nn/modules/module.py\", line 387, in _apply\n",
      "    module._apply(fn)\n",
      "  File \"/home/jplineb/.conda/envs/echonet_oldp/lib/python3.7/site-packages/torch/nn/modules/module.py\", line 387, in _apply\n",
      "    module._apply(fn)\n",
      "  File \"/home/jplineb/.conda/envs/echonet_oldp/lib/python3.7/site-packages/torch/nn/modules/module.py\", line 409, in _apply\n",
      "    param_applied = fn(param)\n",
      "  File \"/home/jplineb/.conda/envs/echonet_oldp/lib/python3.7/site-packages/torch/nn/modules/module.py\", line 671, in convert\n",
      "    return t.to(device, dtype if t.is_floating_point() or t.is_complex() else None, non_blocking)\n",
      "KeyboardInterrupt\n",
      "\n",
      "During handling of the above exception, another exception occurred:\n",
      "\n",
      "Traceback (most recent call last):\n",
      "  File \"/home/jplineb/.conda/envs/echonet_oldp/lib/python3.7/site-packages/IPython/core/interactiveshell.py\", line 2099, in showtraceback\n",
      "    stb = value._render_traceback_()\n",
      "AttributeError: 'KeyboardInterrupt' object has no attribute '_render_traceback_'\n",
      "\n",
      "During handling of the above exception, another exception occurred:\n",
      "\n",
      "Traceback (most recent call last):\n",
      "  File \"/home/jplineb/.conda/envs/echonet_oldp/lib/python3.7/site-packages/IPython/core/ultratb.py\", line 1101, in get_records\n",
      "    return _fixed_getinnerframes(etb, number_of_lines_of_context, tb_offset)\n",
      "  File \"/home/jplineb/.conda/envs/echonet_oldp/lib/python3.7/site-packages/IPython/core/ultratb.py\", line 248, in wrapped\n",
      "    return f(*args, **kwargs)\n",
      "  File \"/home/jplineb/.conda/envs/echonet_oldp/lib/python3.7/site-packages/IPython/core/ultratb.py\", line 281, in _fixed_getinnerframes\n",
      "    records = fix_frame_records_filenames(inspect.getinnerframes(etb, context))\n",
      "  File \"/home/jplineb/.conda/envs/echonet_oldp/lib/python3.7/inspect.py\", line 1502, in getinnerframes\n",
      "    frameinfo = (tb.tb_frame,) + getframeinfo(tb, context)\n",
      "  File \"/home/jplineb/.conda/envs/echonet_oldp/lib/python3.7/inspect.py\", line 1460, in getframeinfo\n",
      "    filename = getsourcefile(frame) or getfile(frame)\n",
      "  File \"/home/jplineb/.conda/envs/echonet_oldp/lib/python3.7/inspect.py\", line 696, in getsourcefile\n",
      "    if getattr(getmodule(object, filename), '__loader__', None) is not None:\n",
      "  File \"/home/jplineb/.conda/envs/echonet_oldp/lib/python3.7/inspect.py\", line 742, in getmodule\n",
      "    os.path.realpath(f)] = module.__name__\n",
      "  File \"/home/jplineb/.conda/envs/echonet_oldp/lib/python3.7/posixpath.py\", line 395, in realpath\n",
      "    path, ok = _joinrealpath(filename[:0], filename, {})\n",
      "  File \"/home/jplineb/.conda/envs/echonet_oldp/lib/python3.7/posixpath.py\", line 429, in _joinrealpath\n",
      "    if not islink(newpath):\n",
      "  File \"/home/jplineb/.conda/envs/echonet_oldp/lib/python3.7/posixpath.py\", line 171, in islink\n",
      "    st = os.lstat(path)\n",
      "KeyboardInterrupt\n"
     ]
    },
    {
     "ename": "TypeError",
     "evalue": "object of type 'NoneType' has no len()",
     "output_type": "error",
     "traceback": [
      "\u001b[0;31m---------------------------------------------------------------------------\u001b[0m",
      "\u001b[0;31mKeyboardInterrupt\u001b[0m                         Traceback (most recent call last)",
      "    \u001b[0;31m[... skipping hidden 1 frame]\u001b[0m\n",
      "\u001b[0;32m/local_scratch/pbs.241805.pbs02/ipykernel_3100724/3117040369.py\u001b[0m in \u001b[0;36m<module>\u001b[0;34m\u001b[0m\n\u001b[1;32m      6\u001b[0m           \u001b[0mpretrained\u001b[0m\u001b[0;34m=\u001b[0m\u001b[0;32mFalse\u001b[0m\u001b[0;34m,\u001b[0m\u001b[0;34m\u001b[0m\u001b[0;34m\u001b[0m\u001b[0m\n\u001b[0;32m----> 7\u001b[0;31m           run_test=True)\n\u001b[0m",
      "\u001b[0;32m~/echonet/dynamic/echonet/utils/video.py\u001b[0m in \u001b[0;36mrun\u001b[0;34m(data_dir, output, file_list, task, model_name, pretrained, weights, run_test, num_epochs, lr, weight_decay, lr_step_period, frames, period, num_train_patients, num_workers, batch_size, device, seed)\u001b[0m\n\u001b[1;32m    127\u001b[0m     \u001b[0;32mif\u001b[0m \u001b[0mdevice\u001b[0m\u001b[0;34m.\u001b[0m\u001b[0mtype\u001b[0m \u001b[0;34m==\u001b[0m \u001b[0;34m\"cuda\"\u001b[0m\u001b[0;34m:\u001b[0m\u001b[0;34m\u001b[0m\u001b[0;34m\u001b[0m\u001b[0m\n\u001b[0;32m--> 128\u001b[0;31m         \u001b[0mmodel\u001b[0m \u001b[0;34m=\u001b[0m \u001b[0mtorch\u001b[0m\u001b[0;34m.\u001b[0m\u001b[0mnn\u001b[0m\u001b[0;34m.\u001b[0m\u001b[0mDataParallel\u001b[0m\u001b[0;34m(\u001b[0m\u001b[0mmodel\u001b[0m\u001b[0;34m)\u001b[0m\u001b[0;34m\u001b[0m\u001b[0;34m\u001b[0m\u001b[0m\n\u001b[0m\u001b[1;32m    129\u001b[0m     \u001b[0mmodel\u001b[0m\u001b[0;34m.\u001b[0m\u001b[0mto\u001b[0m\u001b[0;34m(\u001b[0m\u001b[0mdevice\u001b[0m\u001b[0;34m)\u001b[0m\u001b[0;34m\u001b[0m\u001b[0;34m\u001b[0m\u001b[0m\n",
      "\u001b[0;32m~/.conda/envs/echonet_oldp/lib/python3.7/site-packages/torch/nn/parallel/data_parallel.py\u001b[0m in \u001b[0;36m__init__\u001b[0;34m(self, module, device_ids, output_device, dim)\u001b[0m\n\u001b[1;32m    144\u001b[0m         \u001b[0;32mif\u001b[0m \u001b[0mlen\u001b[0m\u001b[0;34m(\u001b[0m\u001b[0mself\u001b[0m\u001b[0;34m.\u001b[0m\u001b[0mdevice_ids\u001b[0m\u001b[0;34m)\u001b[0m \u001b[0;34m==\u001b[0m \u001b[0;36m1\u001b[0m\u001b[0;34m:\u001b[0m\u001b[0;34m\u001b[0m\u001b[0;34m\u001b[0m\u001b[0m\n\u001b[0;32m--> 145\u001b[0;31m             \u001b[0mself\u001b[0m\u001b[0;34m.\u001b[0m\u001b[0mmodule\u001b[0m\u001b[0;34m.\u001b[0m\u001b[0mto\u001b[0m\u001b[0;34m(\u001b[0m\u001b[0mself\u001b[0m\u001b[0;34m.\u001b[0m\u001b[0msrc_device_obj\u001b[0m\u001b[0;34m)\u001b[0m\u001b[0;34m\u001b[0m\u001b[0;34m\u001b[0m\u001b[0m\n\u001b[0m\u001b[1;32m    146\u001b[0m \u001b[0;34m\u001b[0m\u001b[0m\n",
      "\u001b[0;32m~/.conda/envs/echonet_oldp/lib/python3.7/site-packages/torch/nn/modules/module.py\u001b[0m in \u001b[0;36mto\u001b[0;34m(self, *args, **kwargs)\u001b[0m\n\u001b[1;32m    672\u001b[0m \u001b[0;34m\u001b[0m\u001b[0m\n\u001b[0;32m--> 673\u001b[0;31m         \u001b[0;32mreturn\u001b[0m \u001b[0mself\u001b[0m\u001b[0;34m.\u001b[0m\u001b[0m_apply\u001b[0m\u001b[0;34m(\u001b[0m\u001b[0mconvert\u001b[0m\u001b[0;34m)\u001b[0m\u001b[0;34m\u001b[0m\u001b[0;34m\u001b[0m\u001b[0m\n\u001b[0m\u001b[1;32m    674\u001b[0m \u001b[0;34m\u001b[0m\u001b[0m\n",
      "\u001b[0;32m~/.conda/envs/echonet_oldp/lib/python3.7/site-packages/torch/nn/modules/module.py\u001b[0m in \u001b[0;36m_apply\u001b[0;34m(self, fn)\u001b[0m\n\u001b[1;32m    386\u001b[0m         \u001b[0;32mfor\u001b[0m \u001b[0mmodule\u001b[0m \u001b[0;32min\u001b[0m \u001b[0mself\u001b[0m\u001b[0;34m.\u001b[0m\u001b[0mchildren\u001b[0m\u001b[0;34m(\u001b[0m\u001b[0;34m)\u001b[0m\u001b[0;34m:\u001b[0m\u001b[0;34m\u001b[0m\u001b[0;34m\u001b[0m\u001b[0m\n\u001b[0;32m--> 387\u001b[0;31m             \u001b[0mmodule\u001b[0m\u001b[0;34m.\u001b[0m\u001b[0m_apply\u001b[0m\u001b[0;34m(\u001b[0m\u001b[0mfn\u001b[0m\u001b[0;34m)\u001b[0m\u001b[0;34m\u001b[0m\u001b[0;34m\u001b[0m\u001b[0m\n\u001b[0m\u001b[1;32m    388\u001b[0m \u001b[0;34m\u001b[0m\u001b[0m\n",
      "\u001b[0;32m~/.conda/envs/echonet_oldp/lib/python3.7/site-packages/torch/nn/modules/module.py\u001b[0m in \u001b[0;36m_apply\u001b[0;34m(self, fn)\u001b[0m\n\u001b[1;32m    386\u001b[0m         \u001b[0;32mfor\u001b[0m \u001b[0mmodule\u001b[0m \u001b[0;32min\u001b[0m \u001b[0mself\u001b[0m\u001b[0;34m.\u001b[0m\u001b[0mchildren\u001b[0m\u001b[0;34m(\u001b[0m\u001b[0;34m)\u001b[0m\u001b[0;34m:\u001b[0m\u001b[0;34m\u001b[0m\u001b[0;34m\u001b[0m\u001b[0m\n\u001b[0;32m--> 387\u001b[0;31m             \u001b[0mmodule\u001b[0m\u001b[0;34m.\u001b[0m\u001b[0m_apply\u001b[0m\u001b[0;34m(\u001b[0m\u001b[0mfn\u001b[0m\u001b[0;34m)\u001b[0m\u001b[0;34m\u001b[0m\u001b[0;34m\u001b[0m\u001b[0m\n\u001b[0m\u001b[1;32m    388\u001b[0m \u001b[0;34m\u001b[0m\u001b[0m\n",
      "\u001b[0;32m~/.conda/envs/echonet_oldp/lib/python3.7/site-packages/torch/nn/modules/module.py\u001b[0m in \u001b[0;36m_apply\u001b[0;34m(self, fn)\u001b[0m\n\u001b[1;32m    408\u001b[0m                 \u001b[0;32mwith\u001b[0m \u001b[0mtorch\u001b[0m\u001b[0;34m.\u001b[0m\u001b[0mno_grad\u001b[0m\u001b[0;34m(\u001b[0m\u001b[0;34m)\u001b[0m\u001b[0;34m:\u001b[0m\u001b[0;34m\u001b[0m\u001b[0;34m\u001b[0m\u001b[0m\n\u001b[0;32m--> 409\u001b[0;31m                     \u001b[0mparam_applied\u001b[0m \u001b[0;34m=\u001b[0m \u001b[0mfn\u001b[0m\u001b[0;34m(\u001b[0m\u001b[0mparam\u001b[0m\u001b[0;34m)\u001b[0m\u001b[0;34m\u001b[0m\u001b[0;34m\u001b[0m\u001b[0m\n\u001b[0m\u001b[1;32m    410\u001b[0m                 \u001b[0mshould_use_set_data\u001b[0m \u001b[0;34m=\u001b[0m \u001b[0mcompute_should_use_set_data\u001b[0m\u001b[0;34m(\u001b[0m\u001b[0mparam\u001b[0m\u001b[0;34m,\u001b[0m \u001b[0mparam_applied\u001b[0m\u001b[0;34m)\u001b[0m\u001b[0;34m\u001b[0m\u001b[0;34m\u001b[0m\u001b[0m\n",
      "\u001b[0;32m~/.conda/envs/echonet_oldp/lib/python3.7/site-packages/torch/nn/modules/module.py\u001b[0m in \u001b[0;36mconvert\u001b[0;34m(t)\u001b[0m\n\u001b[1;32m    670\u001b[0m                             non_blocking, memory_format=convert_to_format)\n\u001b[0;32m--> 671\u001b[0;31m             \u001b[0;32mreturn\u001b[0m \u001b[0mt\u001b[0m\u001b[0;34m.\u001b[0m\u001b[0mto\u001b[0m\u001b[0;34m(\u001b[0m\u001b[0mdevice\u001b[0m\u001b[0;34m,\u001b[0m \u001b[0mdtype\u001b[0m \u001b[0;32mif\u001b[0m \u001b[0mt\u001b[0m\u001b[0;34m.\u001b[0m\u001b[0mis_floating_point\u001b[0m\u001b[0;34m(\u001b[0m\u001b[0;34m)\u001b[0m \u001b[0;32mor\u001b[0m \u001b[0mt\u001b[0m\u001b[0;34m.\u001b[0m\u001b[0mis_complex\u001b[0m\u001b[0;34m(\u001b[0m\u001b[0;34m)\u001b[0m \u001b[0;32melse\u001b[0m \u001b[0;32mNone\u001b[0m\u001b[0;34m,\u001b[0m \u001b[0mnon_blocking\u001b[0m\u001b[0;34m)\u001b[0m\u001b[0;34m\u001b[0m\u001b[0;34m\u001b[0m\u001b[0m\n\u001b[0m\u001b[1;32m    672\u001b[0m \u001b[0;34m\u001b[0m\u001b[0m\n",
      "\u001b[0;31mKeyboardInterrupt\u001b[0m: ",
      "\nDuring handling of the above exception, another exception occurred:\n",
      "\u001b[0;31mAttributeError\u001b[0m                            Traceback (most recent call last)",
      "\u001b[0;32m~/.conda/envs/echonet_oldp/lib/python3.7/site-packages/IPython/core/interactiveshell.py\u001b[0m in \u001b[0;36mshowtraceback\u001b[0;34m(self, exc_tuple, filename, tb_offset, exception_only, running_compiled_code)\u001b[0m\n\u001b[1;32m   2098\u001b[0m                         \u001b[0;31m# in the engines. This should return a list of strings.\u001b[0m\u001b[0;34m\u001b[0m\u001b[0;34m\u001b[0m\u001b[0;34m\u001b[0m\u001b[0m\n\u001b[0;32m-> 2099\u001b[0;31m                         \u001b[0mstb\u001b[0m \u001b[0;34m=\u001b[0m \u001b[0mvalue\u001b[0m\u001b[0;34m.\u001b[0m\u001b[0m_render_traceback_\u001b[0m\u001b[0;34m(\u001b[0m\u001b[0;34m)\u001b[0m\u001b[0;34m\u001b[0m\u001b[0;34m\u001b[0m\u001b[0m\n\u001b[0m\u001b[1;32m   2100\u001b[0m                     \u001b[0;32mexcept\u001b[0m \u001b[0mException\u001b[0m\u001b[0;34m:\u001b[0m\u001b[0;34m\u001b[0m\u001b[0;34m\u001b[0m\u001b[0m\n",
      "\u001b[0;31mAttributeError\u001b[0m: 'KeyboardInterrupt' object has no attribute '_render_traceback_'",
      "\nDuring handling of the above exception, another exception occurred:\n",
      "\u001b[0;31mTypeError\u001b[0m                                 Traceback (most recent call last)",
      "    \u001b[0;31m[... skipping hidden 1 frame]\u001b[0m\n",
      "\u001b[0;32m~/.conda/envs/echonet_oldp/lib/python3.7/site-packages/IPython/core/interactiveshell.py\u001b[0m in \u001b[0;36mshowtraceback\u001b[0;34m(self, exc_tuple, filename, tb_offset, exception_only, running_compiled_code)\u001b[0m\n\u001b[1;32m   2100\u001b[0m                     \u001b[0;32mexcept\u001b[0m \u001b[0mException\u001b[0m\u001b[0;34m:\u001b[0m\u001b[0;34m\u001b[0m\u001b[0;34m\u001b[0m\u001b[0m\n\u001b[1;32m   2101\u001b[0m                         stb = self.InteractiveTB.structured_traceback(etype,\n\u001b[0;32m-> 2102\u001b[0;31m                                             value, tb, tb_offset=tb_offset)\n\u001b[0m\u001b[1;32m   2103\u001b[0m \u001b[0;34m\u001b[0m\u001b[0m\n\u001b[1;32m   2104\u001b[0m                     \u001b[0mself\u001b[0m\u001b[0;34m.\u001b[0m\u001b[0m_showtraceback\u001b[0m\u001b[0;34m(\u001b[0m\u001b[0metype\u001b[0m\u001b[0;34m,\u001b[0m \u001b[0mvalue\u001b[0m\u001b[0;34m,\u001b[0m \u001b[0mstb\u001b[0m\u001b[0;34m)\u001b[0m\u001b[0;34m\u001b[0m\u001b[0;34m\u001b[0m\u001b[0m\n",
      "\u001b[0;32m~/.conda/envs/echonet_oldp/lib/python3.7/site-packages/IPython/core/ultratb.py\u001b[0m in \u001b[0;36mstructured_traceback\u001b[0;34m(self, etype, value, tb, tb_offset, number_of_lines_of_context)\u001b[0m\n\u001b[1;32m   1366\u001b[0m             \u001b[0mself\u001b[0m\u001b[0;34m.\u001b[0m\u001b[0mtb\u001b[0m \u001b[0;34m=\u001b[0m \u001b[0mtb\u001b[0m\u001b[0;34m\u001b[0m\u001b[0;34m\u001b[0m\u001b[0m\n\u001b[1;32m   1367\u001b[0m         return FormattedTB.structured_traceback(\n\u001b[0;32m-> 1368\u001b[0;31m             self, etype, value, tb, tb_offset, number_of_lines_of_context)\n\u001b[0m\u001b[1;32m   1369\u001b[0m \u001b[0;34m\u001b[0m\u001b[0m\n\u001b[1;32m   1370\u001b[0m \u001b[0;34m\u001b[0m\u001b[0m\n",
      "\u001b[0;32m~/.conda/envs/echonet_oldp/lib/python3.7/site-packages/IPython/core/ultratb.py\u001b[0m in \u001b[0;36mstructured_traceback\u001b[0;34m(self, etype, value, tb, tb_offset, number_of_lines_of_context)\u001b[0m\n\u001b[1;32m   1266\u001b[0m             \u001b[0;31m# Verbose modes need a full traceback\u001b[0m\u001b[0;34m\u001b[0m\u001b[0;34m\u001b[0m\u001b[0;34m\u001b[0m\u001b[0m\n\u001b[1;32m   1267\u001b[0m             return VerboseTB.structured_traceback(\n\u001b[0;32m-> 1268\u001b[0;31m                 \u001b[0mself\u001b[0m\u001b[0;34m,\u001b[0m \u001b[0metype\u001b[0m\u001b[0;34m,\u001b[0m \u001b[0mvalue\u001b[0m\u001b[0;34m,\u001b[0m \u001b[0mtb\u001b[0m\u001b[0;34m,\u001b[0m \u001b[0mtb_offset\u001b[0m\u001b[0;34m,\u001b[0m \u001b[0mnumber_of_lines_of_context\u001b[0m\u001b[0;34m\u001b[0m\u001b[0;34m\u001b[0m\u001b[0m\n\u001b[0m\u001b[1;32m   1269\u001b[0m             )\n\u001b[1;32m   1270\u001b[0m         \u001b[0;32melif\u001b[0m \u001b[0mmode\u001b[0m \u001b[0;34m==\u001b[0m \u001b[0;34m'Minimal'\u001b[0m\u001b[0;34m:\u001b[0m\u001b[0;34m\u001b[0m\u001b[0;34m\u001b[0m\u001b[0m\n",
      "\u001b[0;32m~/.conda/envs/echonet_oldp/lib/python3.7/site-packages/IPython/core/ultratb.py\u001b[0m in \u001b[0;36mstructured_traceback\u001b[0;34m(self, etype, evalue, etb, tb_offset, number_of_lines_of_context)\u001b[0m\n\u001b[1;32m   1123\u001b[0m \u001b[0;34m\u001b[0m\u001b[0m\n\u001b[1;32m   1124\u001b[0m         formatted_exception = self.format_exception_as_a_whole(etype, evalue, etb, number_of_lines_of_context,\n\u001b[0;32m-> 1125\u001b[0;31m                                                                tb_offset)\n\u001b[0m\u001b[1;32m   1126\u001b[0m \u001b[0;34m\u001b[0m\u001b[0m\n\u001b[1;32m   1127\u001b[0m         \u001b[0mcolors\u001b[0m \u001b[0;34m=\u001b[0m \u001b[0mself\u001b[0m\u001b[0;34m.\u001b[0m\u001b[0mColors\u001b[0m  \u001b[0;31m# just a shorthand + quicker name lookup\u001b[0m\u001b[0;34m\u001b[0m\u001b[0;34m\u001b[0m\u001b[0m\n",
      "\u001b[0;32m~/.conda/envs/echonet_oldp/lib/python3.7/site-packages/IPython/core/ultratb.py\u001b[0m in \u001b[0;36mformat_exception_as_a_whole\u001b[0;34m(self, etype, evalue, etb, number_of_lines_of_context, tb_offset)\u001b[0m\n\u001b[1;32m   1080\u001b[0m \u001b[0;34m\u001b[0m\u001b[0m\n\u001b[1;32m   1081\u001b[0m \u001b[0;34m\u001b[0m\u001b[0m\n\u001b[0;32m-> 1082\u001b[0;31m         \u001b[0mlast_unique\u001b[0m\u001b[0;34m,\u001b[0m \u001b[0mrecursion_repeat\u001b[0m \u001b[0;34m=\u001b[0m \u001b[0mfind_recursion\u001b[0m\u001b[0;34m(\u001b[0m\u001b[0morig_etype\u001b[0m\u001b[0;34m,\u001b[0m \u001b[0mevalue\u001b[0m\u001b[0;34m,\u001b[0m \u001b[0mrecords\u001b[0m\u001b[0;34m)\u001b[0m\u001b[0;34m\u001b[0m\u001b[0;34m\u001b[0m\u001b[0m\n\u001b[0m\u001b[1;32m   1083\u001b[0m \u001b[0;34m\u001b[0m\u001b[0m\n\u001b[1;32m   1084\u001b[0m         \u001b[0mframes\u001b[0m \u001b[0;34m=\u001b[0m \u001b[0mself\u001b[0m\u001b[0;34m.\u001b[0m\u001b[0mformat_records\u001b[0m\u001b[0;34m(\u001b[0m\u001b[0mrecords\u001b[0m\u001b[0;34m,\u001b[0m \u001b[0mlast_unique\u001b[0m\u001b[0;34m,\u001b[0m \u001b[0mrecursion_repeat\u001b[0m\u001b[0;34m)\u001b[0m\u001b[0;34m\u001b[0m\u001b[0;34m\u001b[0m\u001b[0m\n",
      "\u001b[0;32m~/.conda/envs/echonet_oldp/lib/python3.7/site-packages/IPython/core/ultratb.py\u001b[0m in \u001b[0;36mfind_recursion\u001b[0;34m(etype, value, records)\u001b[0m\n\u001b[1;32m    380\u001b[0m     \u001b[0;31m# first frame (from in to out) that looks different.\u001b[0m\u001b[0;34m\u001b[0m\u001b[0;34m\u001b[0m\u001b[0;34m\u001b[0m\u001b[0m\n\u001b[1;32m    381\u001b[0m     \u001b[0;32mif\u001b[0m \u001b[0;32mnot\u001b[0m \u001b[0mis_recursion_error\u001b[0m\u001b[0;34m(\u001b[0m\u001b[0metype\u001b[0m\u001b[0;34m,\u001b[0m \u001b[0mvalue\u001b[0m\u001b[0;34m,\u001b[0m \u001b[0mrecords\u001b[0m\u001b[0;34m)\u001b[0m\u001b[0;34m:\u001b[0m\u001b[0;34m\u001b[0m\u001b[0;34m\u001b[0m\u001b[0m\n\u001b[0;32m--> 382\u001b[0;31m         \u001b[0;32mreturn\u001b[0m \u001b[0mlen\u001b[0m\u001b[0;34m(\u001b[0m\u001b[0mrecords\u001b[0m\u001b[0;34m)\u001b[0m\u001b[0;34m,\u001b[0m \u001b[0;36m0\u001b[0m\u001b[0;34m\u001b[0m\u001b[0;34m\u001b[0m\u001b[0m\n\u001b[0m\u001b[1;32m    383\u001b[0m \u001b[0;34m\u001b[0m\u001b[0m\n\u001b[1;32m    384\u001b[0m     \u001b[0;31m# Select filename, lineno, func_name to track frames with\u001b[0m\u001b[0;34m\u001b[0m\u001b[0;34m\u001b[0m\u001b[0;34m\u001b[0m\u001b[0m\n",
      "\u001b[0;31mTypeError\u001b[0m: object of type 'NoneType' has no len()"
     ]
    }
   ],
   "source": [
    "video.run(data_dir=\"/zfs/wficai/Data/echonet_data/EchoNet-Dynamic/\",\n",
    "          file_list = \"/zfs/wficai/Data/echonet_data/train_val_test_0.05.csv\",\n",
    "          output = \"output_5per_notpretrained\",\n",
    "          batch_size=20,\n",
    "          num_workers=30,\n",
    "          pretrained=False,\n",
    "          run_test=True)"
   ]
  },
  {
   "cell_type": "code",
   "execution_count": 5,
   "id": "8526bb79-0a70-458b-a4e4-a5e48bf97e36",
   "metadata": {},
   "outputs": [
    {
     "name": "stderr",
     "output_type": "stream",
     "text": [
      "100%|██████████| 16/16 [00:01<00:00,  8.03it/s]\n",
      "100%|██████████| 7/7 [00:06<00:00,  1.02it/s, 60.63 (30.90) / 142.24]\n",
      "100%|██████████| 128/128 [05:57<00:00,  2.80s/it, 57.43 (0.18) / 28.80]  \n"
     ]
    },
    {
     "name": "stdout",
     "output_type": "stream",
     "text": [
      "35 0.9838983050847459\n",
      "40 0.9806034482758621\n",
      "45 0.8881822999470058\n",
      "50 0.8807766990291263\n"
     ]
    },
    {
     "name": "stderr",
     "output_type": "stream",
     "text": [
      "100%|██████████| 64/64 [00:35<00:00,  1.82it/s, 69.88 (20.03) / 149.54] \n",
      "100%|██████████| 1276/1276 [56:57<00:00,  2.68s/it, 63.82 (208.88) / 27.75] \n"
     ]
    },
    {
     "name": "stdout",
     "output_type": "stream",
     "text": [
      "35 0.9375840053763441\n",
      "40 0.911295922939068\n",
      "45 0.895513242610477\n",
      "50 0.8764813142847028\n"
     ]
    }
   ],
   "source": [
    "video.run(data_dir=\"/zfs/wficai/Data/echonet_data/EchoNet-Dynamic/\",\n",
    "          file_list = \"/zfs/wficai/Data/echonet_data/train_val_test_0.1.csv\",\n",
    "          output = \"output_10per\",\n",
    "          batch_size=20,\n",
    "          num_workers=30,\n",
    "          run_test=True)"
   ]
  },
  {
   "cell_type": "code",
   "execution_count": null,
   "id": "3386e3d8-224d-4d5e-bf7f-5092f7b6c911",
   "metadata": {},
   "outputs": [],
   "source": [
    "video.run(data_dir=\"/zfs/wficai/Data/echonet_data/EchoNet-Dynamic/\",\n",
    "          file_list = \"/zfs/wficai/Data/echonet_data/train_val_test_0.25.csv\",\n",
    "          output = \"output_25per\",\n",
    "          batch_size=20,\n",
    "          num_workers=40,\n",
    "          run_test=True)"
   ]
  },
  {
   "cell_type": "code",
   "execution_count": 4,
   "id": "9a284441-baee-4175-ad50-b211f888f131",
   "metadata": {},
   "outputs": [
    {
     "name": "stderr",
     "output_type": "stream",
     "text": [
      "100%|██████████| 16/16 [00:04<00:00,  3.91it/s]\n"
     ]
    },
    {
     "name": "stdout",
     "output_type": "stream",
     "text": [
      "Epoch #37\n"
     ]
    },
    {
     "name": "stderr",
     "output_type": "stream",
     "text": [
      "100%|██████████| 186/186 [05:10<00:00,  1.67s/it, 6.72 (12.81) / 157.38]\n",
      "100%|██████████| 33/33 [00:20<00:00,  1.61it/s, 33.63 (19.18) / 144.53]\n"
     ]
    },
    {
     "name": "stdout",
     "output_type": "stream",
     "text": [
      "Epoch #38\n"
     ]
    },
    {
     "name": "stderr",
     "output_type": "stream",
     "text": [
      "100%|██████████| 186/186 [05:01<00:00,  1.62s/it, 6.27 (8.85) / 157.60] \n",
      "100%|██████████| 33/33 [00:19<00:00,  1.71it/s, 34.39 (91.42) / 144.53]\n"
     ]
    },
    {
     "name": "stdout",
     "output_type": "stream",
     "text": [
      "Epoch #39\n"
     ]
    },
    {
     "name": "stderr",
     "output_type": "stream",
     "text": [
      "100%|██████████| 186/186 [05:00<00:00,  1.61s/it, 6.84 (4.86) / 157.77] \n",
      "100%|██████████| 33/33 [00:20<00:00,  1.62it/s, 32.72 (43.78) / 144.52]\n"
     ]
    },
    {
     "name": "stdout",
     "output_type": "stream",
     "text": [
      "Epoch #40\n"
     ]
    },
    {
     "name": "stderr",
     "output_type": "stream",
     "text": [
      "100%|██████████| 186/186 [05:01<00:00,  1.62s/it, 6.47 (6.15) / 157.63] \n",
      "100%|██████████| 33/33 [00:19<00:00,  1.69it/s, 32.47 (17.29) / 144.53]\n"
     ]
    },
    {
     "name": "stdout",
     "output_type": "stream",
     "text": [
      "Epoch #41\n"
     ]
    },
    {
     "name": "stderr",
     "output_type": "stream",
     "text": [
      "100%|██████████| 186/186 [05:02<00:00,  1.63s/it, 7.19 (9.93) / 157.80] \n",
      "100%|██████████| 33/33 [00:20<00:00,  1.60it/s, 33.47 (30.12) / 144.52]\n"
     ]
    },
    {
     "name": "stdout",
     "output_type": "stream",
     "text": [
      "Epoch #42\n"
     ]
    },
    {
     "name": "stderr",
     "output_type": "stream",
     "text": [
      "100%|██████████| 186/186 [05:03<00:00,  1.63s/it, 6.61 (4.61) / 157.52] \n",
      "100%|██████████| 33/33 [00:20<00:00,  1.63it/s, 33.23 (28.58) / 144.52]\n"
     ]
    },
    {
     "name": "stdout",
     "output_type": "stream",
     "text": [
      "Epoch #43\n"
     ]
    },
    {
     "name": "stderr",
     "output_type": "stream",
     "text": [
      "100%|██████████| 186/186 [05:01<00:00,  1.62s/it, 6.45 (5.39) / 157.75] \n",
      "100%|██████████| 33/33 [00:20<00:00,  1.62it/s, 35.54 (39.89) / 144.53] \n"
     ]
    },
    {
     "name": "stdout",
     "output_type": "stream",
     "text": [
      "Epoch #44\n"
     ]
    },
    {
     "name": "stderr",
     "output_type": "stream",
     "text": [
      "100%|██████████| 186/186 [05:02<00:00,  1.63s/it, 6.58 (5.77) / 157.42] \n",
      "100%|██████████| 33/33 [00:20<00:00,  1.60it/s, 34.39 (19.01) / 144.53]\n",
      "100%|██████████| 33/33 [00:20<00:00,  1.57it/s, 33.98 (8.47) / 144.52] \n",
      "100%|██████████| 644/644 [29:46<00:00,  2.77s/it, 30.02 (54.34) / 28.44] \n"
     ]
    },
    {
     "name": "stdout",
     "output_type": "stream",
     "text": [
      "35 0.9838608446157985\n",
      "40 0.9824988324361527\n",
      "45 0.9676211657863034\n",
      "50 0.958653973485573\n"
     ]
    },
    {
     "name": "stderr",
     "output_type": "stream",
     "text": [
      "100%|██████████| 64/64 [00:36<00:00,  1.77it/s, 35.58 (66.73) / 149.54]\n",
      "100%|██████████| 1276/1276 [57:30<00:00,  2.70s/it, 31.14 (0.66) / 27.75]   \n"
     ]
    },
    {
     "name": "stdout",
     "output_type": "stream",
     "text": [
      "35 0.9753654233870968\n",
      "40 0.9717741935483869\n",
      "45 0.9727694249341527\n",
      "50 0.9569139802078355\n"
     ]
    }
   ],
   "source": [
    "video.run(data_dir=\"/zfs/wficai/Data/echonet_data/EchoNet-Dynamic/\",\n",
    "          file_list = \"/zfs/wficai/Data/echonet_data/train_val_test_0.5.csv\",\n",
    "          output = \"output_50per\",\n",
    "          batch_size=20,\n",
    "          num_workers=40,\n",
    "          run_test=True)"
   ]
  },
  {
   "cell_type": "code",
   "execution_count": 3,
   "id": "b9194a19-a66f-4a69-b63f-c2f0bdff66c8",
   "metadata": {},
   "outputs": [
    {
     "name": "stderr",
     "output_type": "stream",
     "text": [
      "100%|██████████| 16/16 [00:03<00:00,  4.05it/s]\n"
     ]
    },
    {
     "name": "stdout",
     "output_type": "stream",
     "text": [
      "Epoch #28\n"
     ]
    },
    {
     "name": "stderr",
     "output_type": "stream",
     "text": [
      "100%|██████████| 279/279 [07:39<00:00,  1.65s/it, 7.39 (9.05) / 152.19] \n",
      "100%|██████████| 49/49 [00:30<00:00,  1.63it/s, 30.96 (63.37) / 146.02]\n"
     ]
    },
    {
     "name": "stdout",
     "output_type": "stream",
     "text": [
      "Epoch #29\n"
     ]
    },
    {
     "name": "stderr",
     "output_type": "stream",
     "text": [
      "100%|██████████| 279/279 [07:31<00:00,  1.62s/it, 7.30 (5.22) / 151.86] \n",
      "100%|██████████| 49/49 [00:28<00:00,  1.71it/s, 30.98 (18.12) / 146.02]\n"
     ]
    },
    {
     "name": "stdout",
     "output_type": "stream",
     "text": [
      "Epoch #30\n"
     ]
    },
    {
     "name": "stderr",
     "output_type": "stream",
     "text": [
      "100%|██████████| 279/279 [07:29<00:00,  1.61s/it, 6.77 (9.44) / 152.20] \n",
      "100%|██████████| 49/49 [00:29<00:00,  1.68it/s, 30.64 (82.53) / 146.02]\n"
     ]
    },
    {
     "name": "stdout",
     "output_type": "stream",
     "text": [
      "Epoch #31\n"
     ]
    },
    {
     "name": "stderr",
     "output_type": "stream",
     "text": [
      "100%|██████████| 279/279 [07:30<00:00,  1.61s/it, 6.66 (5.41) / 152.22] \n",
      "100%|██████████| 49/49 [00:28<00:00,  1.72it/s, 31.79 (22.25) / 146.02]\n"
     ]
    },
    {
     "name": "stdout",
     "output_type": "stream",
     "text": [
      "Epoch #32\n"
     ]
    },
    {
     "name": "stderr",
     "output_type": "stream",
     "text": [
      "100%|██████████| 279/279 [07:29<00:00,  1.61s/it, 6.76 (4.02) / 152.18] \n",
      "100%|██████████| 49/49 [00:28<00:00,  1.75it/s, 31.90 (38.68) / 146.02]\n"
     ]
    },
    {
     "name": "stdout",
     "output_type": "stream",
     "text": [
      "Epoch #33\n"
     ]
    },
    {
     "name": "stderr",
     "output_type": "stream",
     "text": [
      "100%|██████████| 279/279 [07:30<00:00,  1.61s/it, 6.59 (5.27) / 152.30] \n",
      "100%|██████████| 49/49 [00:28<00:00,  1.70it/s, 31.26 (23.80) / 146.02]\n"
     ]
    },
    {
     "name": "stdout",
     "output_type": "stream",
     "text": [
      "Epoch #34\n"
     ]
    },
    {
     "name": "stderr",
     "output_type": "stream",
     "text": [
      "100%|██████████| 279/279 [07:29<00:00,  1.61s/it, 6.47 (3.80) / 152.15] \n",
      "100%|██████████| 49/49 [00:28<00:00,  1.72it/s, 31.11 (9.51) / 146.02] \n"
     ]
    },
    {
     "name": "stdout",
     "output_type": "stream",
     "text": [
      "Epoch #35\n"
     ]
    },
    {
     "name": "stderr",
     "output_type": "stream",
     "text": [
      "100%|██████████| 279/279 [07:31<00:00,  1.62s/it, 6.08 (4.48) / 151.95] \n",
      "100%|██████████| 49/49 [00:29<00:00,  1.69it/s, 29.46 (42.58) / 146.02]\n"
     ]
    },
    {
     "name": "stdout",
     "output_type": "stream",
     "text": [
      "Epoch #36\n"
     ]
    },
    {
     "name": "stderr",
     "output_type": "stream",
     "text": [
      "100%|██████████| 279/279 [07:30<00:00,  1.62s/it, 5.96 (9.84) / 152.17] \n",
      "100%|██████████| 49/49 [00:29<00:00,  1.67it/s, 30.89 (13.60) / 146.02]\n"
     ]
    },
    {
     "name": "stdout",
     "output_type": "stream",
     "text": [
      "Epoch #37\n"
     ]
    },
    {
     "name": "stderr",
     "output_type": "stream",
     "text": [
      "100%|██████████| 279/279 [07:31<00:00,  1.62s/it, 6.01 (4.96) / 152.41] \n",
      "100%|██████████| 49/49 [00:28<00:00,  1.73it/s, 31.69 (65.91) / 146.02]\n"
     ]
    },
    {
     "name": "stdout",
     "output_type": "stream",
     "text": [
      "Epoch #38\n"
     ]
    },
    {
     "name": "stderr",
     "output_type": "stream",
     "text": [
      "100%|██████████| 279/279 [07:29<00:00,  1.61s/it, 5.73 (4.53) / 152.03] \n",
      "100%|██████████| 49/49 [00:28<00:00,  1.71it/s, 31.13 (37.43) / 146.02]\n"
     ]
    },
    {
     "name": "stdout",
     "output_type": "stream",
     "text": [
      "Epoch #39\n"
     ]
    },
    {
     "name": "stderr",
     "output_type": "stream",
     "text": [
      "100%|██████████| 279/279 [07:31<00:00,  1.62s/it, 5.51 (9.40) / 152.30] \n",
      "100%|██████████| 49/49 [00:29<00:00,  1.69it/s, 31.02 (95.63) / 146.02]\n"
     ]
    },
    {
     "name": "stdout",
     "output_type": "stream",
     "text": [
      "Epoch #40\n"
     ]
    },
    {
     "name": "stderr",
     "output_type": "stream",
     "text": [
      "100%|██████████| 279/279 [07:31<00:00,  1.62s/it, 5.45 (4.18) / 152.41] \n",
      "100%|██████████| 49/49 [00:28<00:00,  1.69it/s, 31.33 (19.58) / 146.02]\n"
     ]
    },
    {
     "name": "stdout",
     "output_type": "stream",
     "text": [
      "Epoch #41\n"
     ]
    },
    {
     "name": "stderr",
     "output_type": "stream",
     "text": [
      "100%|██████████| 279/279 [07:29<00:00,  1.61s/it, 5.51 (3.93) / 152.07] \n",
      "100%|██████████| 49/49 [00:29<00:00,  1.68it/s, 30.93 (66.08) / 146.02]\n"
     ]
    },
    {
     "name": "stdout",
     "output_type": "stream",
     "text": [
      "Epoch #42\n"
     ]
    },
    {
     "name": "stderr",
     "output_type": "stream",
     "text": [
      "100%|██████████| 279/279 [07:31<00:00,  1.62s/it, 4.92 (10.56) / 152.25]\n",
      "100%|██████████| 49/49 [00:28<00:00,  1.72it/s, 32.91 (65.06) / 146.02]\n"
     ]
    },
    {
     "name": "stdout",
     "output_type": "stream",
     "text": [
      "Epoch #43\n"
     ]
    },
    {
     "name": "stderr",
     "output_type": "stream",
     "text": [
      "100%|██████████| 279/279 [07:31<00:00,  1.62s/it, 6.37 (6.19) / 152.27] \n",
      "100%|██████████| 49/49 [00:28<00:00,  1.71it/s, 31.12 (194.75) / 146.02]\n"
     ]
    },
    {
     "name": "stdout",
     "output_type": "stream",
     "text": [
      "Epoch #44\n"
     ]
    },
    {
     "name": "stderr",
     "output_type": "stream",
     "text": [
      "100%|██████████| 279/279 [07:31<00:00,  1.62s/it, 6.29 (4.73) / 152.12] \n",
      "100%|██████████| 49/49 [00:29<00:00,  1.65it/s, 31.02 (40.05) / 146.02]\n",
      "100%|██████████| 49/49 [00:28<00:00,  1.71it/s, 31.79 (14.29) / 146.02]\n",
      "100%|██████████| 966/966 [44:12<00:00,  2.75s/it, 28.31 (116.41) / 28.23] \n"
     ]
    },
    {
     "name": "stdout",
     "output_type": "stream",
     "text": [
      "35 0.9851285730051871\n",
      "40 0.982477253628526\n",
      "45 0.9743144490268432\n",
      "50 0.9625263213481811\n"
     ]
    },
    {
     "name": "stderr",
     "output_type": "stream",
     "text": [
      "100%|██████████| 64/64 [00:37<00:00,  1.71it/s, 34.67 (32.54) / 149.54]\n",
      "100%|██████████| 1276/1276 [57:16<00:00,  2.69s/it, 29.39 (0.06) / 27.75]   \n"
     ]
    },
    {
     "name": "stdout",
     "output_type": "stream",
     "text": [
      "35 0.9769895273297491\n",
      "40 0.9733982974910395\n",
      "45 0.973263279192274\n",
      "50 0.9553525589958751\n"
     ]
    }
   ],
   "source": [
    "video.run(data_dir=\"/zfs/wficai/Data/echonet_data/EchoNet-Dynamic/\",\n",
    "          file_list = \"/zfs/wficai/Data/echonet_data/train_val_test_0.75.csv\",\n",
    "          output = \"output_75per\",\n",
    "          batch_size=20,\n",
    "          num_workers=40,\n",
    "          run_test=True)"
   ]
  },
  {
   "cell_type": "code",
   "execution_count": 2,
   "id": "9bcbf650-9018-4fa6-9a2d-95392d0808b6",
   "metadata": {},
   "outputs": [
    {
     "name": "stderr",
     "output_type": "stream",
     "text": [
      "100%|██████████| 10/10 [00:01<00:00,  7.56it/s]\n"
     ]
    },
    {
     "name": "stdout",
     "output_type": "stream",
     "text": [
      "Epoch #0\n"
     ]
    },
    {
     "name": "stderr",
     "output_type": "stream",
     "text": [
      "100%|██████████| 3/3 [00:10<00:00,  3.37s/it, 106.34 (120.50) / 105.24]\n",
      "100%|██████████| 1/1 [00:04<00:00,  4.19s/it, 206.25 (206.25) / 177.59]\n"
     ]
    },
    {
     "name": "stdout",
     "output_type": "stream",
     "text": [
      "Epoch #1\n"
     ]
    },
    {
     "name": "stderr",
     "output_type": "stream",
     "text": [
      "100%|██████████| 3/3 [00:09<00:00,  3.02s/it, 100.49 (132.16) / 99.40] \n",
      "100%|██████████| 1/1 [00:04<00:00,  4.02s/it, 197.00 (197.00) / 177.59]\n"
     ]
    },
    {
     "name": "stdout",
     "output_type": "stream",
     "text": [
      "Epoch #2\n"
     ]
    },
    {
     "name": "stderr",
     "output_type": "stream",
     "text": [
      "100%|██████████| 3/3 [00:09<00:00,  3.02s/it, 101.46 (101.86) / 102.70]\n",
      "100%|██████████| 1/1 [00:04<00:00,  4.01s/it, 193.77 (193.77) / 177.58]\n"
     ]
    },
    {
     "name": "stdout",
     "output_type": "stream",
     "text": [
      "Epoch #3\n"
     ]
    },
    {
     "name": "stderr",
     "output_type": "stream",
     "text": [
      "100%|██████████| 3/3 [00:08<00:00,  2.92s/it, 66.71 (92.84) / 68.02]\n",
      "100%|██████████| 1/1 [00:04<00:00,  4.01s/it, 189.47 (189.47) / 177.59]\n"
     ]
    },
    {
     "name": "stdout",
     "output_type": "stream",
     "text": [
      "Epoch #4\n"
     ]
    },
    {
     "name": "stderr",
     "output_type": "stream",
     "text": [
      "100%|██████████| 3/3 [00:09<00:00,  3.13s/it, 88.44 (62.98) / 93.48]   \n",
      "100%|██████████| 1/1 [00:03<00:00,  3.82s/it, 186.14 (186.14) / 177.58]\n"
     ]
    },
    {
     "name": "stdout",
     "output_type": "stream",
     "text": [
      "Epoch #5\n"
     ]
    },
    {
     "name": "stderr",
     "output_type": "stream",
     "text": [
      "100%|██████████| 3/3 [00:08<00:00,  2.97s/it, 70.92 (45.37) / 73.26]   \n",
      "100%|██████████| 1/1 [00:04<00:00,  4.04s/it, 186.75 (186.75) / 177.58]\n"
     ]
    },
    {
     "name": "stdout",
     "output_type": "stream",
     "text": [
      "Epoch #6\n"
     ]
    },
    {
     "name": "stderr",
     "output_type": "stream",
     "text": [
      "100%|██████████| 3/3 [00:08<00:00,  2.98s/it, 81.75 (77.95) / 92.86]   \n",
      "100%|██████████| 1/1 [00:04<00:00,  4.04s/it, 178.42 (178.42) / 177.58]\n"
     ]
    },
    {
     "name": "stdout",
     "output_type": "stream",
     "text": [
      "Epoch #7\n"
     ]
    },
    {
     "name": "stderr",
     "output_type": "stream",
     "text": [
      "100%|██████████| 3/3 [00:09<00:00,  3.05s/it, 74.46 (50.78) / 86.41]   \n",
      "100%|██████████| 1/1 [00:04<00:00,  4.30s/it, 173.76 (173.76) / 177.58]\n"
     ]
    },
    {
     "name": "stdout",
     "output_type": "stream",
     "text": [
      "Epoch #8\n"
     ]
    },
    {
     "name": "stderr",
     "output_type": "stream",
     "text": [
      "100%|██████████| 3/3 [00:08<00:00,  2.92s/it, 94.35 (117.26) / 111.94]\n",
      "100%|██████████| 1/1 [00:03<00:00,  3.82s/it, 163.81 (163.81) / 177.59]\n"
     ]
    },
    {
     "name": "stdout",
     "output_type": "stream",
     "text": [
      "Epoch #9\n"
     ]
    },
    {
     "name": "stderr",
     "output_type": "stream",
     "text": [
      "100%|██████████| 3/3 [00:09<00:00,  3.07s/it, 51.20 (34.95) / 72.21] \n",
      "100%|██████████| 1/1 [00:03<00:00,  3.95s/it, 161.71 (161.71) / 177.59]\n"
     ]
    },
    {
     "name": "stdout",
     "output_type": "stream",
     "text": [
      "Epoch #10\n"
     ]
    },
    {
     "name": "stderr",
     "output_type": "stream",
     "text": [
      "100%|██████████| 3/3 [00:08<00:00,  2.98s/it, 67.58 (51.73) / 102.57]\n",
      "100%|██████████| 1/1 [00:03<00:00,  3.93s/it, 166.63 (166.63) / 177.59]\n"
     ]
    },
    {
     "name": "stdout",
     "output_type": "stream",
     "text": [
      "Epoch #11\n"
     ]
    },
    {
     "name": "stderr",
     "output_type": "stream",
     "text": [
      "100%|██████████| 3/3 [00:08<00:00,  2.94s/it, 44.32 (75.93) / 81.07]\n",
      "100%|██████████| 1/1 [00:04<00:00,  4.02s/it, 163.40 (163.40) / 177.58]\n"
     ]
    },
    {
     "name": "stdout",
     "output_type": "stream",
     "text": [
      "Epoch #12\n"
     ]
    },
    {
     "name": "stderr",
     "output_type": "stream",
     "text": [
      "100%|██████████| 3/3 [00:08<00:00,  2.95s/it, 45.16 (38.97) / 96.32] \n",
      "100%|██████████| 1/1 [00:04<00:00,  4.13s/it, 152.88 (152.88) / 177.59]\n"
     ]
    },
    {
     "name": "stdout",
     "output_type": "stream",
     "text": [
      "Epoch #13\n"
     ]
    },
    {
     "name": "stderr",
     "output_type": "stream",
     "text": [
      "100%|██████████| 3/3 [00:09<00:00,  3.05s/it, 40.17 (19.04) / 112.65]\n",
      "100%|██████████| 1/1 [00:03<00:00,  3.79s/it, 161.20 (161.20) / 177.58]\n"
     ]
    },
    {
     "name": "stdout",
     "output_type": "stream",
     "text": [
      "Epoch #14\n"
     ]
    },
    {
     "name": "stderr",
     "output_type": "stream",
     "text": [
      "100%|██████████| 3/3 [00:08<00:00,  2.86s/it, 22.65 (11.78) / 103.41]\n",
      "100%|██████████| 1/1 [00:03<00:00,  3.99s/it, 160.10 (160.10) / 177.59]\n"
     ]
    },
    {
     "name": "stdout",
     "output_type": "stream",
     "text": [
      "Epoch #15\n"
     ]
    },
    {
     "name": "stderr",
     "output_type": "stream",
     "text": [
      "100%|██████████| 3/3 [00:09<00:00,  3.01s/it, 8.83 (6.62) / 102.09] \n",
      "100%|██████████| 1/1 [00:04<00:00,  4.08s/it, 145.88 (145.88) / 177.59]\n"
     ]
    },
    {
     "name": "stdout",
     "output_type": "stream",
     "text": [
      "Epoch #16\n"
     ]
    },
    {
     "name": "stderr",
     "output_type": "stream",
     "text": [
      "100%|██████████| 3/3 [00:08<00:00,  2.88s/it, 13.98 (19.87) / 102.45]\n",
      "100%|██████████| 1/1 [00:03<00:00,  3.44s/it, 137.50 (137.50) / 177.58]\n"
     ]
    },
    {
     "name": "stdout",
     "output_type": "stream",
     "text": [
      "Epoch #17\n"
     ]
    },
    {
     "name": "stderr",
     "output_type": "stream",
     "text": [
      "100%|██████████| 3/3 [00:09<00:00,  3.06s/it, 13.68 (17.06) / 84.51] \n",
      "100%|██████████| 1/1 [00:03<00:00,  3.72s/it, 141.91 (141.91) / 177.59]\n"
     ]
    },
    {
     "name": "stdout",
     "output_type": "stream",
     "text": [
      "Epoch #18\n"
     ]
    },
    {
     "name": "stderr",
     "output_type": "stream",
     "text": [
      "100%|██████████| 3/3 [00:09<00:00,  3.12s/it, 15.88 (14.06) / 84.24] \n",
      "100%|██████████| 1/1 [00:03<00:00,  3.68s/it, 145.56 (145.56) / 177.58]\n"
     ]
    },
    {
     "name": "stdout",
     "output_type": "stream",
     "text": [
      "Epoch #19\n"
     ]
    },
    {
     "name": "stderr",
     "output_type": "stream",
     "text": [
      "100%|██████████| 3/3 [00:08<00:00,  2.89s/it, 14.39 (6.36) / 109.98] \n",
      "100%|██████████| 1/1 [00:03<00:00,  3.76s/it, 143.03 (143.03) / 177.59]\n"
     ]
    },
    {
     "name": "stdout",
     "output_type": "stream",
     "text": [
      "Epoch #20\n"
     ]
    },
    {
     "name": "stderr",
     "output_type": "stream",
     "text": [
      "100%|██████████| 3/3 [00:08<00:00,  2.94s/it, 8.02 (2.17) / 107.36]  \n",
      "100%|██████████| 1/1 [00:03<00:00,  3.99s/it, 143.23 (143.23) / 177.58]\n"
     ]
    },
    {
     "name": "stdout",
     "output_type": "stream",
     "text": [
      "Epoch #21\n"
     ]
    },
    {
     "name": "stderr",
     "output_type": "stream",
     "text": [
      "100%|██████████| 3/3 [00:08<00:00,  2.96s/it, 10.74 (4.69) / 71.72] \n",
      "100%|██████████| 1/1 [00:03<00:00,  3.78s/it, 147.46 (147.46) / 177.59]\n"
     ]
    },
    {
     "name": "stdout",
     "output_type": "stream",
     "text": [
      "Epoch #22\n"
     ]
    },
    {
     "name": "stderr",
     "output_type": "stream",
     "text": [
      "100%|██████████| 3/3 [00:08<00:00,  2.96s/it, 6.46 (4.90) / 93.65]\n",
      "100%|██████████| 1/1 [00:03<00:00,  3.75s/it, 142.63 (142.63) / 177.58]\n"
     ]
    },
    {
     "name": "stdout",
     "output_type": "stream",
     "text": [
      "Epoch #23\n"
     ]
    },
    {
     "name": "stderr",
     "output_type": "stream",
     "text": [
      "100%|██████████| 3/3 [00:09<00:00,  3.06s/it, 15.32 (16.81) / 85.88]\n",
      "100%|██████████| 1/1 [00:03<00:00,  3.98s/it, 143.41 (143.41) / 177.59]\n"
     ]
    },
    {
     "name": "stdout",
     "output_type": "stream",
     "text": [
      "Epoch #24\n"
     ]
    },
    {
     "name": "stderr",
     "output_type": "stream",
     "text": [
      "100%|██████████| 3/3 [00:09<00:00,  3.00s/it, 7.09 (6.71) / 87.92] \n",
      "100%|██████████| 1/1 [00:04<00:00,  4.12s/it, 137.07 (137.07) / 177.59]\n"
     ]
    },
    {
     "name": "stdout",
     "output_type": "stream",
     "text": [
      "Epoch #25\n"
     ]
    },
    {
     "name": "stderr",
     "output_type": "stream",
     "text": [
      "100%|██████████| 3/3 [00:08<00:00,  2.90s/it, 18.47 (33.47) / 94.25] \n",
      "100%|██████████| 1/1 [00:03<00:00,  3.98s/it, 142.58 (142.58) / 177.59]\n"
     ]
    },
    {
     "name": "stdout",
     "output_type": "stream",
     "text": [
      "Epoch #26\n"
     ]
    },
    {
     "name": "stderr",
     "output_type": "stream",
     "text": [
      "100%|██████████| 3/3 [00:08<00:00,  2.99s/it, 10.03 (15.18) / 109.32]\n",
      "100%|██████████| 1/1 [00:03<00:00,  3.66s/it, 146.34 (146.34) / 177.59]\n"
     ]
    },
    {
     "name": "stdout",
     "output_type": "stream",
     "text": [
      "Epoch #27\n"
     ]
    },
    {
     "name": "stderr",
     "output_type": "stream",
     "text": [
      "100%|██████████| 3/3 [00:08<00:00,  2.94s/it, 14.00 (3.57) / 114.19] \n",
      "100%|██████████| 1/1 [00:03<00:00,  3.74s/it, 128.13 (128.13) / 177.58]\n"
     ]
    },
    {
     "name": "stdout",
     "output_type": "stream",
     "text": [
      "Epoch #28\n"
     ]
    },
    {
     "name": "stderr",
     "output_type": "stream",
     "text": [
      "100%|██████████| 3/3 [00:09<00:00,  3.01s/it, 7.68 (4.02) / 112.08]\n",
      "100%|██████████| 1/1 [00:03<00:00,  3.99s/it, 141.86 (141.86) / 177.58]\n"
     ]
    },
    {
     "name": "stdout",
     "output_type": "stream",
     "text": [
      "Epoch #29\n"
     ]
    },
    {
     "name": "stderr",
     "output_type": "stream",
     "text": [
      "100%|██████████| 3/3 [00:09<00:00,  3.03s/it, 5.94 (3.92) / 84.50]  \n",
      "100%|██████████| 1/1 [00:03<00:00,  3.71s/it, 131.58 (131.58) / 177.58]\n"
     ]
    },
    {
     "name": "stdout",
     "output_type": "stream",
     "text": [
      "Epoch #30\n"
     ]
    },
    {
     "name": "stderr",
     "output_type": "stream",
     "text": [
      "100%|██████████| 3/3 [00:09<00:00,  3.03s/it, 25.80 (6.87) / 107.56] \n",
      "100%|██████████| 1/1 [00:03<00:00,  3.75s/it, 132.05 (132.05) / 177.59]\n"
     ]
    },
    {
     "name": "stdout",
     "output_type": "stream",
     "text": [
      "Epoch #31\n"
     ]
    },
    {
     "name": "stderr",
     "output_type": "stream",
     "text": [
      "100%|██████████| 3/3 [00:08<00:00,  2.90s/it, 7.67 (8.53) / 91.96] \n",
      "100%|██████████| 1/1 [00:03<00:00,  4.00s/it, 144.49 (144.49) / 177.58]\n"
     ]
    },
    {
     "name": "stdout",
     "output_type": "stream",
     "text": [
      "Epoch #32\n"
     ]
    },
    {
     "name": "stderr",
     "output_type": "stream",
     "text": [
      "100%|██████████| 3/3 [00:08<00:00,  2.98s/it, 16.93 (23.70) / 109.33]\n",
      "100%|██████████| 1/1 [00:04<00:00,  4.02s/it, 143.28 (143.28) / 177.59]\n"
     ]
    },
    {
     "name": "stdout",
     "output_type": "stream",
     "text": [
      "Epoch #33\n"
     ]
    },
    {
     "name": "stderr",
     "output_type": "stream",
     "text": [
      "100%|██████████| 3/3 [00:09<00:00,  3.01s/it, 11.39 (4.28) / 112.51] \n",
      "100%|██████████| 1/1 [00:04<00:00,  4.11s/it, 136.07 (136.07) / 177.59]\n"
     ]
    },
    {
     "name": "stdout",
     "output_type": "stream",
     "text": [
      "Epoch #34\n"
     ]
    },
    {
     "name": "stderr",
     "output_type": "stream",
     "text": [
      "100%|██████████| 3/3 [00:09<00:00,  3.12s/it, 6.94 (7.02) / 88.66]   \n",
      "100%|██████████| 1/1 [00:04<00:00,  4.04s/it, 150.67 (150.67) / 177.58]\n"
     ]
    },
    {
     "name": "stdout",
     "output_type": "stream",
     "text": [
      "Epoch #35\n"
     ]
    },
    {
     "name": "stderr",
     "output_type": "stream",
     "text": [
      "100%|██████████| 3/3 [00:09<00:00,  3.04s/it, 18.16 (11.67) / 108.39]\n",
      "100%|██████████| 1/1 [00:04<00:00,  4.08s/it, 127.74 (127.74) / 177.58]\n"
     ]
    },
    {
     "name": "stdout",
     "output_type": "stream",
     "text": [
      "Epoch #36\n"
     ]
    },
    {
     "name": "stderr",
     "output_type": "stream",
     "text": [
      "100%|██████████| 3/3 [00:09<00:00,  3.08s/it, 18.57 (10.63) / 84.63]\n",
      "100%|██████████| 1/1 [00:04<00:00,  4.12s/it, 149.58 (149.58) / 177.59]\n"
     ]
    },
    {
     "name": "stdout",
     "output_type": "stream",
     "text": [
      "Epoch #37\n"
     ]
    },
    {
     "name": "stderr",
     "output_type": "stream",
     "text": [
      "100%|██████████| 3/3 [00:09<00:00,  3.02s/it, 8.30 (7.60) / 102.89]  \n",
      "100%|██████████| 1/1 [00:04<00:00,  4.06s/it, 132.15 (132.15) / 177.59]\n"
     ]
    },
    {
     "name": "stdout",
     "output_type": "stream",
     "text": [
      "Epoch #38\n"
     ]
    },
    {
     "name": "stderr",
     "output_type": "stream",
     "text": [
      "100%|██████████| 3/3 [00:09<00:00,  3.01s/it, 8.42 (13.55) / 97.36]\n",
      "100%|██████████| 1/1 [00:04<00:00,  4.22s/it, 126.81 (126.81) / 177.59]\n"
     ]
    },
    {
     "name": "stdout",
     "output_type": "stream",
     "text": [
      "Epoch #39\n"
     ]
    },
    {
     "name": "stderr",
     "output_type": "stream",
     "text": [
      "100%|██████████| 3/3 [00:09<00:00,  3.05s/it, 14.26 (12.31) / 95.49] \n",
      "100%|██████████| 1/1 [00:03<00:00,  3.88s/it, 145.16 (145.16) / 177.58]\n"
     ]
    },
    {
     "name": "stdout",
     "output_type": "stream",
     "text": [
      "Epoch #40\n"
     ]
    },
    {
     "name": "stderr",
     "output_type": "stream",
     "text": [
      "100%|██████████| 3/3 [00:09<00:00,  3.03s/it, 9.60 (10.96) / 101.95]\n",
      "100%|██████████| 1/1 [00:04<00:00,  4.07s/it, 141.45 (141.45) / 177.58]\n"
     ]
    },
    {
     "name": "stdout",
     "output_type": "stream",
     "text": [
      "Epoch #41\n"
     ]
    },
    {
     "name": "stderr",
     "output_type": "stream",
     "text": [
      "100%|██████████| 3/3 [00:09<00:00,  3.04s/it, 21.33 (30.11) / 111.70]\n",
      "100%|██████████| 1/1 [00:04<00:00,  4.13s/it, 144.68 (144.68) / 177.59]\n"
     ]
    },
    {
     "name": "stdout",
     "output_type": "stream",
     "text": [
      "Epoch #42\n"
     ]
    },
    {
     "name": "stderr",
     "output_type": "stream",
     "text": [
      "100%|██████████| 3/3 [00:08<00:00,  2.91s/it, 18.17 (22.32) / 94.71] \n",
      "100%|██████████| 1/1 [00:04<00:00,  4.12s/it, 152.05 (152.05) / 177.58]\n"
     ]
    },
    {
     "name": "stdout",
     "output_type": "stream",
     "text": [
      "Epoch #43\n"
     ]
    },
    {
     "name": "stderr",
     "output_type": "stream",
     "text": [
      "100%|██████████| 3/3 [00:09<00:00,  3.02s/it, 12.40 (9.03) / 95.25]  \n",
      "100%|██████████| 1/1 [00:04<00:00,  4.14s/it, 151.14 (151.14) / 177.58]\n"
     ]
    },
    {
     "name": "stdout",
     "output_type": "stream",
     "text": [
      "Epoch #44\n"
     ]
    },
    {
     "name": "stderr",
     "output_type": "stream",
     "text": [
      "100%|██████████| 3/3 [00:09<00:00,  3.02s/it, 10.08 (6.56) / 92.73]  \n",
      "100%|██████████| 1/1 [00:03<00:00,  3.99s/it, 142.88 (142.88) / 177.58]\n",
      "100%|██████████| 1/1 [00:03<00:00,  3.93s/it, 138.39 (138.39) / 177.59]\n"
     ]
    },
    {
     "name": "stdout",
     "output_type": "stream",
     "text": [
      "35 1.0\n",
      "40 1.0\n",
      "45 1.0\n",
      "50 1.0\n"
     ]
    },
    {
     "name": "stderr",
     "output_type": "stream",
     "text": [
      "100%|██████████| 64/64 [00:40<00:00,  1.60it/s, 133.18 (165.47) / 149.54]\n"
     ]
    },
    {
     "name": "stdout",
     "output_type": "stream",
     "text": [
      "35 0.7291456653225807\n",
      "40 0.717198700716846\n",
      "45 0.7252798507462686\n",
      "50 0.6868907890311045\n"
     ]
    }
   ],
   "source": [
    "video.run(data_dir=\"/zfs/wficai/Data/echonet_data/EchoNet-Dynamic/\",\n",
    "          file_list = \"/zfs/wficai/Data/echonet_data/train_val_test_0.01.csv\",\n",
    "          output = \"output_1per_seed1\",\n",
    "          batch_size=20,\n",
    "          num_workers=40,\n",
    "          run_test=True)"
   ]
  },
  {
   "cell_type": "markdown",
   "id": "7d4b9351-2b43-470c-a253-ab9180c81642",
   "metadata": {},
   "source": [
    "# Second Round Tests"
   ]
  },
  {
   "cell_type": "code",
   "execution_count": 4,
   "id": "26d6cf68-40f1-45a1-a8b0-4801adbfeb09",
   "metadata": {},
   "outputs": [],
   "source": [
    "files = [\n",
    "    \"train_fullval_test_0.01.csv\",\n",
    "    \"train_fullval_test_0.05.csv\",\n",
    "    \"train_fullval_test_0.1.csv\",\n",
    "    \"train_fullval_test_0.25.csv\",\n",
    "    \"train_fullval_test_0.5.csv\",\n",
    "    \"train_fullval_test_0.75.csv\"\n",
    "]\n",
    "\n",
    "output_folders = [\n",
    "    \"output_1per\",\n",
    "    \"output_5per\",\n",
    "    \"output_10per\",\n",
    "    \"output_25per\",\n",
    "    \"output_50per\",\n",
    "    \"output_75per\"\n",
    "    \n",
    "]\n"
   ]
  },
  {
   "cell_type": "code",
   "execution_count": null,
   "id": "e6c8415c-c871-4ab0-9df4-745e1b51cc6b",
   "metadata": {},
   "outputs": [
    {
     "name": "stdout",
     "output_type": "stream",
     "text": [
      "Starting train_fullval_test_0.01.csv \n",
      " will save to output_1per\n"
     ]
    },
    {
     "name": "stderr",
     "output_type": "stream",
     "text": [
      "100%|██████████| 10/10 [00:02<00:00,  3.88it/s]\n"
     ]
    },
    {
     "name": "stdout",
     "output_type": "stream",
     "text": [
      "Epoch #0\n"
     ]
    },
    {
     "name": "stderr",
     "output_type": "stream",
     "text": [
      "100%|██████████| 3/3 [00:08<00:00,  2.69s/it, 106.34 (120.50) / 105.24]\n",
      "100%|██████████| 65/65 [00:39<00:00,  1.66it/s, 151.99 (160.44) / 151.41]\n"
     ]
    },
    {
     "name": "stdout",
     "output_type": "stream",
     "text": [
      "Epoch #1\n"
     ]
    },
    {
     "name": "stderr",
     "output_type": "stream",
     "text": [
      "100%|██████████| 3/3 [00:07<00:00,  2.53s/it, 109.54 (171.97) / 110.68]\n",
      "100%|██████████| 65/65 [00:35<00:00,  1.83it/s, 152.91 (51.99) / 151.41] \n"
     ]
    },
    {
     "name": "stdout",
     "output_type": "stream",
     "text": [
      "Epoch #2\n"
     ]
    },
    {
     "name": "stderr",
     "output_type": "stream",
     "text": [
      "100%|██████████| 3/3 [00:07<00:00,  2.51s/it, 107.97 (114.10) / 110.28]\n",
      "100%|██████████| 65/65 [00:34<00:00,  1.87it/s, 152.37 (228.32) / 151.42]\n"
     ]
    },
    {
     "name": "stdout",
     "output_type": "stream",
     "text": [
      "Epoch #3\n"
     ]
    },
    {
     "name": "stderr",
     "output_type": "stream",
     "text": [
      "100%|██████████| 3/3 [00:07<00:00,  2.53s/it, 102.25 (118.28) / 105.57]\n",
      "100%|██████████| 65/65 [00:34<00:00,  1.89it/s, 151.84 (56.78) / 151.42] \n"
     ]
    },
    {
     "name": "stdout",
     "output_type": "stream",
     "text": [
      "Epoch #4\n"
     ]
    },
    {
     "name": "stderr",
     "output_type": "stream",
     "text": [
      "100%|██████████| 3/3 [00:07<00:00,  2.52s/it, 95.96 (70.13) / 102.24]  \n",
      "100%|██████████| 65/65 [00:34<00:00,  1.88it/s, 153.38 (49.82) / 151.41] \n"
     ]
    },
    {
     "name": "stdout",
     "output_type": "stream",
     "text": [
      "Epoch #5\n"
     ]
    },
    {
     "name": "stderr",
     "output_type": "stream",
     "text": [
      "100%|██████████| 3/3 [00:07<00:00,  2.61s/it, 81.64 (43.48) / 89.66]   \n",
      "100%|██████████| 65/65 [00:35<00:00,  1.84it/s, 154.10 (84.32) / 151.41] \n"
     ]
    },
    {
     "name": "stdout",
     "output_type": "stream",
     "text": [
      "Epoch #6\n"
     ]
    },
    {
     "name": "stderr",
     "output_type": "stream",
     "text": [
      "100%|██████████| 3/3 [00:07<00:00,  2.56s/it, 99.99 (89.87) / 112.35]  \n",
      "100%|██████████| 65/65 [00:34<00:00,  1.90it/s, 152.32 (101.14) / 151.41]\n"
     ]
    },
    {
     "name": "stdout",
     "output_type": "stream",
     "text": [
      "Epoch #7\n"
     ]
    },
    {
     "name": "stderr",
     "output_type": "stream",
     "text": [
      "100%|██████████| 3/3 [00:07<00:00,  2.52s/it, 93.45 (131.03) / 115.08]\n",
      "100%|██████████| 65/65 [00:35<00:00,  1.85it/s, 148.16 (28.11) / 151.41] \n"
     ]
    },
    {
     "name": "stdout",
     "output_type": "stream",
     "text": [
      "Epoch #8\n"
     ]
    },
    {
     "name": "stderr",
     "output_type": "stream",
     "text": [
      "100%|██████████| 3/3 [00:07<00:00,  2.61s/it, 66.96 (67.94) / 96.80] \n",
      "100%|██████████| 65/65 [00:34<00:00,  1.91it/s, 142.73 (214.57) / 151.41]\n"
     ]
    },
    {
     "name": "stdout",
     "output_type": "stream",
     "text": [
      "Epoch #9\n"
     ]
    },
    {
     "name": "stderr",
     "output_type": "stream",
     "text": [
      "100%|██████████| 3/3 [00:07<00:00,  2.55s/it, 59.88 (97.42) / 93.59]\n",
      "100%|██████████| 65/65 [00:34<00:00,  1.91it/s, 140.52 (208.41) / 151.41]\n"
     ]
    },
    {
     "name": "stdout",
     "output_type": "stream",
     "text": [
      "Epoch #10\n"
     ]
    },
    {
     "name": "stderr",
     "output_type": "stream",
     "text": [
      "100%|██████████| 3/3 [00:07<00:00,  2.54s/it, 63.27 (15.57) / 113.61]\n",
      "100%|██████████| 65/65 [00:34<00:00,  1.86it/s, 132.99 (92.19) / 151.41] \n"
     ]
    },
    {
     "name": "stdout",
     "output_type": "stream",
     "text": [
      "Epoch #11\n"
     ]
    },
    {
     "name": "stderr",
     "output_type": "stream",
     "text": [
      "100%|██████████| 3/3 [00:07<00:00,  2.58s/it, 50.76 (34.57) / 113.46]\n",
      "100%|██████████| 65/65 [00:35<00:00,  1.84it/s, 133.98 (159.67) / 151.41]\n"
     ]
    },
    {
     "name": "stdout",
     "output_type": "stream",
     "text": [
      "Epoch #12\n"
     ]
    },
    {
     "name": "stderr",
     "output_type": "stream",
     "text": [
      "100%|██████████| 3/3 [00:07<00:00,  2.59s/it, 25.46 (38.11) / 106.29]\n",
      "100%|██████████| 65/65 [00:34<00:00,  1.88it/s, 133.01 (158.01) / 151.42]\n"
     ]
    },
    {
     "name": "stdout",
     "output_type": "stream",
     "text": [
      "Epoch #13\n"
     ]
    },
    {
     "name": "stderr",
     "output_type": "stream",
     "text": [
      "100%|██████████| 3/3 [00:07<00:00,  2.60s/it, 18.56 (12.23) / 81.84] \n",
      "100%|██████████| 65/65 [00:35<00:00,  1.85it/s, 135.49 (111.58) / 151.41]\n"
     ]
    },
    {
     "name": "stdout",
     "output_type": "stream",
     "text": [
      "Epoch #14\n"
     ]
    },
    {
     "name": "stderr",
     "output_type": "stream",
     "text": [
      "100%|██████████| 3/3 [00:07<00:00,  2.62s/it, 18.25 (34.25) / 94.33] \n",
      "100%|██████████| 65/65 [00:34<00:00,  1.87it/s, 132.78 (73.40) / 151.41] \n"
     ]
    },
    {
     "name": "stdout",
     "output_type": "stream",
     "text": [
      "Epoch #15\n"
     ]
    },
    {
     "name": "stderr",
     "output_type": "stream",
     "text": [
      "100%|██████████| 3/3 [00:07<00:00,  2.63s/it, 6.86 (4.44) / 103.93]\n",
      "100%|██████████| 65/65 [00:34<00:00,  1.87it/s, 132.84 (74.75) / 151.41] \n"
     ]
    },
    {
     "name": "stdout",
     "output_type": "stream",
     "text": [
      "Epoch #16\n"
     ]
    },
    {
     "name": "stderr",
     "output_type": "stream",
     "text": [
      "100%|██████████| 3/3 [00:08<00:00,  2.70s/it, 5.69 (6.89) / 89.56]\n",
      "100%|██████████| 65/65 [00:35<00:00,  1.85it/s, 129.66 (115.91) / 151.42]\n"
     ]
    },
    {
     "name": "stdout",
     "output_type": "stream",
     "text": [
      "Epoch #17\n"
     ]
    },
    {
     "name": "stderr",
     "output_type": "stream",
     "text": [
      "100%|██████████| 3/3 [00:07<00:00,  2.56s/it, 19.83 (30.40) / 88.36] \n",
      "100%|██████████| 65/65 [00:35<00:00,  1.83it/s, 129.22 (48.70) / 151.42] \n"
     ]
    },
    {
     "name": "stdout",
     "output_type": "stream",
     "text": [
      "Epoch #18\n"
     ]
    },
    {
     "name": "stderr",
     "output_type": "stream",
     "text": [
      "100%|██████████| 3/3 [00:08<00:00,  2.68s/it, 13.68 (11.35) / 62.78]\n",
      "100%|██████████| 65/65 [00:34<00:00,  1.88it/s, 128.74 (68.98) / 151.41] \n"
     ]
    },
    {
     "name": "stdout",
     "output_type": "stream",
     "text": [
      "Epoch #19\n"
     ]
    },
    {
     "name": "stderr",
     "output_type": "stream",
     "text": [
      "100%|██████████| 3/3 [00:07<00:00,  2.63s/it, 6.61 (6.45) / 87.15] \n",
      "100%|██████████| 65/65 [00:35<00:00,  1.83it/s, 129.28 (185.85) / 151.42]\n"
     ]
    },
    {
     "name": "stdout",
     "output_type": "stream",
     "text": [
      "Epoch #20\n"
     ]
    },
    {
     "name": "stderr",
     "output_type": "stream",
     "text": [
      "100%|██████████| 3/3 [00:07<00:00,  2.55s/it, 7.79 (9.05) / 93.73] \n",
      "100%|██████████| 65/65 [00:33<00:00,  1.92it/s, 130.49 (122.12) / 151.41]\n"
     ]
    },
    {
     "name": "stdout",
     "output_type": "stream",
     "text": [
      "Epoch #21\n"
     ]
    },
    {
     "name": "stderr",
     "output_type": "stream",
     "text": [
      "100%|██████████| 3/3 [00:07<00:00,  2.63s/it, 10.45 (7.24) / 91.30] \n",
      "100%|██████████| 65/65 [00:35<00:00,  1.84it/s, 130.49 (22.02) / 151.41] \n"
     ]
    },
    {
     "name": "stdout",
     "output_type": "stream",
     "text": [
      "Epoch #22\n"
     ]
    },
    {
     "name": "stderr",
     "output_type": "stream",
     "text": [
      "100%|██████████| 3/3 [00:07<00:00,  2.59s/it, 11.03 (11.15) / 100.72]\n",
      "100%|██████████| 65/65 [00:35<00:00,  1.85it/s, 130.41 (50.66) / 151.41] \n"
     ]
    },
    {
     "name": "stdout",
     "output_type": "stream",
     "text": [
      "Epoch #23\n"
     ]
    },
    {
     "name": "stderr",
     "output_type": "stream",
     "text": [
      "100%|██████████| 3/3 [00:07<00:00,  2.59s/it, 10.54 (12.86) / 112.97]\n",
      "100%|██████████| 65/65 [00:33<00:00,  1.93it/s, 130.84 (22.63) / 151.41] \n"
     ]
    },
    {
     "name": "stdout",
     "output_type": "stream",
     "text": [
      "Epoch #24\n"
     ]
    },
    {
     "name": "stderr",
     "output_type": "stream",
     "text": [
      "100%|██████████| 3/3 [00:07<00:00,  2.59s/it, 11.46 (3.80) / 106.25] \n",
      "100%|██████████| 65/65 [00:34<00:00,  1.87it/s, 132.51 (283.34) / 151.41]\n"
     ]
    },
    {
     "name": "stdout",
     "output_type": "stream",
     "text": [
      "Epoch #25\n"
     ]
    },
    {
     "name": "stderr",
     "output_type": "stream",
     "text": [
      "100%|██████████| 3/3 [00:07<00:00,  2.59s/it, 15.08 (9.44) / 109.05] \n",
      "100%|██████████| 65/65 [00:35<00:00,  1.85it/s, 132.24 (137.60) / 151.41]\n"
     ]
    },
    {
     "name": "stdout",
     "output_type": "stream",
     "text": [
      "Epoch #26\n"
     ]
    },
    {
     "name": "stderr",
     "output_type": "stream",
     "text": [
      "100%|██████████| 3/3 [00:07<00:00,  2.67s/it, 9.53 (15.39) / 90.65]\n",
      "100%|██████████| 65/65 [00:34<00:00,  1.88it/s, 131.18 (44.24) / 151.42] \n"
     ]
    },
    {
     "name": "stdout",
     "output_type": "stream",
     "text": [
      "Epoch #27\n"
     ]
    },
    {
     "name": "stderr",
     "output_type": "stream",
     "text": [
      "100%|██████████| 3/3 [00:07<00:00,  2.64s/it, 7.61 (3.75) / 68.94] \n",
      "100%|██████████| 65/65 [00:34<00:00,  1.88it/s, 132.57 (32.54) / 151.42] \n"
     ]
    },
    {
     "name": "stdout",
     "output_type": "stream",
     "text": [
      "Epoch #28\n"
     ]
    },
    {
     "name": "stderr",
     "output_type": "stream",
     "text": [
      "100%|██████████| 3/3 [00:07<00:00,  2.62s/it, 6.92 (7.33) / 115.54]\n",
      "100%|██████████| 65/65 [00:35<00:00,  1.83it/s, 132.20 (47.50) / 151.41] \n"
     ]
    },
    {
     "name": "stdout",
     "output_type": "stream",
     "text": [
      "Epoch #29\n"
     ]
    },
    {
     "name": "stderr",
     "output_type": "stream",
     "text": [
      "100%|██████████| 3/3 [00:07<00:00,  2.61s/it, 18.34 (5.41) / 102.88] \n",
      "100%|██████████| 65/65 [00:34<00:00,  1.86it/s, 131.02 (50.74) / 151.41] \n"
     ]
    },
    {
     "name": "stdout",
     "output_type": "stream",
     "text": [
      "Epoch #30\n"
     ]
    },
    {
     "name": "stderr",
     "output_type": "stream",
     "text": [
      "100%|██████████| 3/3 [00:07<00:00,  2.64s/it, 4.93 (3.73) / 80.38]\n",
      "100%|██████████| 65/65 [00:35<00:00,  1.83it/s, 130.96 (45.45) / 151.41] \n"
     ]
    },
    {
     "name": "stdout",
     "output_type": "stream",
     "text": [
      "Epoch #31\n"
     ]
    },
    {
     "name": "stderr",
     "output_type": "stream",
     "text": [
      "100%|██████████| 3/3 [00:07<00:00,  2.46s/it, 6.41 (4.73) / 82.85] \n",
      "100%|██████████| 65/65 [00:34<00:00,  1.88it/s, 134.11 (230.60) / 151.41]\n"
     ]
    },
    {
     "name": "stdout",
     "output_type": "stream",
     "text": [
      "Epoch #32\n"
     ]
    },
    {
     "name": "stderr",
     "output_type": "stream",
     "text": [
      "100%|██████████| 3/3 [00:07<00:00,  2.55s/it, 19.29 (22.89) / 105.24]\n",
      "100%|██████████| 65/65 [00:35<00:00,  1.85it/s, 131.41 (170.91) / 151.42]\n"
     ]
    },
    {
     "name": "stdout",
     "output_type": "stream",
     "text": [
      "Epoch #33\n"
     ]
    },
    {
     "name": "stderr",
     "output_type": "stream",
     "text": [
      "100%|██████████| 3/3 [00:07<00:00,  2.52s/it, 10.01 (15.72) / 110.13]\n",
      "100%|██████████| 65/65 [00:34<00:00,  1.91it/s, 132.63 (109.81) / 151.42]\n"
     ]
    },
    {
     "name": "stdout",
     "output_type": "stream",
     "text": [
      "Epoch #34\n"
     ]
    },
    {
     "name": "stderr",
     "output_type": "stream",
     "text": [
      "100%|██████████| 3/3 [00:07<00:00,  2.51s/it, 5.10 (3.97) / 97.85]\n",
      "100%|██████████| 65/65 [00:34<00:00,  1.90it/s, 132.35 (213.85) / 151.41]\n"
     ]
    },
    {
     "name": "stdout",
     "output_type": "stream",
     "text": [
      "Epoch #35\n"
     ]
    },
    {
     "name": "stderr",
     "output_type": "stream",
     "text": [
      "100%|██████████| 3/3 [00:07<00:00,  2.55s/it, 9.16 (10.00) / 95.53] \n",
      "100%|██████████| 65/65 [00:34<00:00,  1.86it/s, 132.21 (297.81) / 151.41]\n"
     ]
    },
    {
     "name": "stdout",
     "output_type": "stream",
     "text": [
      "Epoch #36\n"
     ]
    },
    {
     "name": "stderr",
     "output_type": "stream",
     "text": [
      "100%|██████████| 3/3 [00:07<00:00,  2.66s/it, 23.84 (11.54) / 82.89]\n",
      "100%|██████████| 65/65 [00:34<00:00,  1.89it/s, 132.36 (125.63) / 151.41]\n"
     ]
    },
    {
     "name": "stdout",
     "output_type": "stream",
     "text": [
      "Epoch #37\n"
     ]
    },
    {
     "name": "stderr",
     "output_type": "stream",
     "text": [
      "100%|██████████| 3/3 [00:07<00:00,  2.54s/it, 16.20 (10.29) / 113.05]\n",
      "100%|██████████| 65/65 [00:34<00:00,  1.89it/s, 132.54 (23.65) / 151.41] \n"
     ]
    },
    {
     "name": "stdout",
     "output_type": "stream",
     "text": [
      "Epoch #38\n"
     ]
    },
    {
     "name": "stderr",
     "output_type": "stream",
     "text": [
      "100%|██████████| 3/3 [00:07<00:00,  2.57s/it, 10.54 (8.70) / 112.24] \n",
      "100%|██████████| 65/65 [00:35<00:00,  1.85it/s, 133.94 (149.19) / 151.41]\n"
     ]
    },
    {
     "name": "stdout",
     "output_type": "stream",
     "text": [
      "Epoch #39\n"
     ]
    },
    {
     "name": "stderr",
     "output_type": "stream",
     "text": [
      "100%|██████████| 3/3 [00:07<00:00,  2.52s/it, 9.43 (5.30) / 85.56]  \n",
      "100%|██████████| 65/65 [00:34<00:00,  1.87it/s, 131.90 (44.93) / 151.41] \n"
     ]
    },
    {
     "name": "stdout",
     "output_type": "stream",
     "text": [
      "Epoch #40\n"
     ]
    },
    {
     "name": "stderr",
     "output_type": "stream",
     "text": [
      "100%|██████████| 3/3 [00:07<00:00,  2.58s/it, 8.54 (19.09) / 71.10]\n",
      "100%|██████████| 65/65 [00:33<00:00,  1.91it/s, 130.90 (72.66) / 151.41] \n"
     ]
    },
    {
     "name": "stdout",
     "output_type": "stream",
     "text": [
      "Epoch #41\n"
     ]
    },
    {
     "name": "stderr",
     "output_type": "stream",
     "text": [
      "100%|██████████| 3/3 [00:07<00:00,  2.51s/it, 18.73 (25.14) / 93.99]\n",
      "100%|██████████| 65/65 [00:34<00:00,  1.87it/s, 132.61 (214.30) / 151.42]\n"
     ]
    },
    {
     "name": "stdout",
     "output_type": "stream",
     "text": [
      "Epoch #42\n"
     ]
    },
    {
     "name": "stderr",
     "output_type": "stream",
     "text": [
      "100%|██████████| 3/3 [00:07<00:00,  2.53s/it, 8.16 (18.28) / 71.90]\n",
      "100%|██████████| 65/65 [00:34<00:00,  1.87it/s, 132.39 (123.66) / 151.42]\n"
     ]
    },
    {
     "name": "stdout",
     "output_type": "stream",
     "text": [
      "Epoch #43\n"
     ]
    },
    {
     "name": "stderr",
     "output_type": "stream",
     "text": [
      "100%|██████████| 3/3 [00:07<00:00,  2.52s/it, 3.14 (3.82) / 93.87] \n",
      "100%|██████████| 65/65 [00:34<00:00,  1.89it/s, 131.86 (38.95) / 151.42] \n"
     ]
    },
    {
     "name": "stdout",
     "output_type": "stream",
     "text": [
      "Epoch #44\n"
     ]
    },
    {
     "name": "stderr",
     "output_type": "stream",
     "text": [
      "100%|██████████| 3/3 [00:07<00:00,  2.58s/it, 16.10 (11.97) / 114.01]\n",
      "100%|██████████| 65/65 [00:34<00:00,  1.89it/s, 132.24 (160.60) / 151.41]\n",
      "100%|██████████| 65/65 [00:34<00:00,  1.88it/s, 129.34 (74.62) / 151.41] \n"
     ]
    },
    {
     "name": "stdout",
     "output_type": "stream",
     "text": [
      "35 0.7806098797624221\n",
      "40 0.7741856935761529\n",
      "45 0.7490861447756305\n",
      "50 0.7145207491228251\n"
     ]
    },
    {
     "name": "stderr",
     "output_type": "stream",
     "text": [
      "100%|██████████| 64/64 [00:36<00:00,  1.77it/s, 136.94 (250.70) / 149.54]\n"
     ]
    },
    {
     "name": "stdout",
     "output_type": "stream",
     "text": [
      "35 0.7271995407706092\n",
      "40 0.7121471774193548\n",
      "45 0.7187957272461223\n",
      "50 0.6938162763113638\n",
      "Starting train_fullval_test_0.05.csv \n",
      " will save to output_5per\n"
     ]
    },
    {
     "name": "stderr",
     "output_type": "stream",
     "text": [
      "100%|██████████| 16/16 [00:03<00:00,  5.31it/s]\n"
     ]
    },
    {
     "name": "stdout",
     "output_type": "stream",
     "text": [
      "Epoch #0\n"
     ]
    },
    {
     "name": "stderr",
     "output_type": "stream",
     "text": [
      "100%|██████████| 18/18 [00:32<00:00,  1.82s/it, 142.12 (157.27) / 142.08]\n",
      "100%|██████████| 65/65 [00:35<00:00,  1.83it/s, 150.40 (310.46) / 151.41]\n"
     ]
    },
    {
     "name": "stdout",
     "output_type": "stream",
     "text": [
      "Epoch #1\n"
     ]
    },
    {
     "name": "stderr",
     "output_type": "stream",
     "text": [
      "100%|██████████| 18/18 [00:32<00:00,  1.80s/it, 130.01 (107.05) / 140.91]\n",
      "100%|██████████| 65/65 [00:35<00:00,  1.85it/s, 133.01 (154.28) / 151.41]\n"
     ]
    },
    {
     "name": "stdout",
     "output_type": "stream",
     "text": [
      "Epoch #2\n"
     ]
    },
    {
     "name": "stderr",
     "output_type": "stream",
     "text": [
      "100%|██████████| 18/18 [00:32<00:00,  1.79s/it, 89.22 (126.08) / 141.29]\n",
      "100%|██████████| 65/65 [00:35<00:00,  1.86it/s, 123.26 (29.36) / 151.41] \n"
     ]
    },
    {
     "name": "stdout",
     "output_type": "stream",
     "text": [
      "Epoch #3\n"
     ]
    },
    {
     "name": "stderr",
     "output_type": "stream",
     "text": [
      "100%|██████████| 18/18 [00:32<00:00,  1.79s/it, 78.21 (131.36) / 143.55]\n",
      "100%|██████████| 65/65 [00:34<00:00,  1.91it/s, 142.98 (38.60) / 151.41] \n"
     ]
    },
    {
     "name": "stdout",
     "output_type": "stream",
     "text": [
      "Epoch #4\n"
     ]
    },
    {
     "name": "stderr",
     "output_type": "stream",
     "text": [
      "100%|██████████| 18/18 [00:32<00:00,  1.81s/it, 89.43 (95.72) / 144.21] \n",
      "100%|██████████| 65/65 [00:35<00:00,  1.83it/s, 149.42 (110.45) / 151.41]\n"
     ]
    },
    {
     "name": "stdout",
     "output_type": "stream",
     "text": [
      "Epoch #5\n"
     ]
    },
    {
     "name": "stderr",
     "output_type": "stream",
     "text": [
      "100%|██████████| 18/18 [00:32<00:00,  1.82s/it, 67.50 (80.17) / 138.78] \n",
      "100%|██████████| 65/65 [00:34<00:00,  1.90it/s, 256.96 (206.45) / 151.42]\n"
     ]
    },
    {
     "name": "stdout",
     "output_type": "stream",
     "text": [
      "Epoch #6\n"
     ]
    },
    {
     "name": "stderr",
     "output_type": "stream",
     "text": [
      "100%|██████████| 18/18 [00:32<00:00,  1.79s/it, 60.08 (32.68) / 143.96] \n",
      "100%|██████████| 65/65 [00:35<00:00,  1.84it/s, 107.53 (37.12) / 151.41] \n"
     ]
    },
    {
     "name": "stdout",
     "output_type": "stream",
     "text": [
      "Epoch #7\n"
     ]
    },
    {
     "name": "stderr",
     "output_type": "stream",
     "text": [
      "100%|██████████| 18/18 [00:32<00:00,  1.79s/it, 47.62 (28.20) / 136.48] \n",
      "100%|██████████| 65/65 [00:34<00:00,  1.89it/s, 99.52 (126.15) / 151.41] \n"
     ]
    },
    {
     "name": "stdout",
     "output_type": "stream",
     "text": [
      "Epoch #8\n"
     ]
    },
    {
     "name": "stderr",
     "output_type": "stream",
     "text": [
      "100%|██████████| 18/18 [00:32<00:00,  1.80s/it, 35.40 (15.57) / 137.79]\n",
      "100%|██████████| 65/65 [00:34<00:00,  1.87it/s, 100.89 (23.63) / 151.42] \n"
     ]
    },
    {
     "name": "stdout",
     "output_type": "stream",
     "text": [
      "Epoch #9\n"
     ]
    },
    {
     "name": "stderr",
     "output_type": "stream",
     "text": [
      "100%|██████████| 18/18 [00:32<00:00,  1.82s/it, 29.43 (43.09) / 143.92]\n",
      "100%|██████████| 65/65 [00:33<00:00,  1.92it/s, 101.53 (152.70) / 151.41]\n"
     ]
    },
    {
     "name": "stdout",
     "output_type": "stream",
     "text": [
      "Epoch #10\n"
     ]
    },
    {
     "name": "stderr",
     "output_type": "stream",
     "text": [
      "100%|██████████| 18/18 [00:32<00:00,  1.79s/it, 24.72 (4.91) / 144.59] \n",
      "100%|██████████| 65/65 [00:35<00:00,  1.84it/s, 86.50 (30.18) / 151.41] \n"
     ]
    },
    {
     "name": "stdout",
     "output_type": "stream",
     "text": [
      "Epoch #11\n"
     ]
    },
    {
     "name": "stderr",
     "output_type": "stream",
     "text": [
      "100%|██████████| 18/18 [00:32<00:00,  1.78s/it, 18.92 (17.65) / 138.48]\n",
      "100%|██████████| 65/65 [00:34<00:00,  1.87it/s, 84.29 (128.87) / 151.41] \n"
     ]
    },
    {
     "name": "stdout",
     "output_type": "stream",
     "text": [
      "Epoch #12\n"
     ]
    },
    {
     "name": "stderr",
     "output_type": "stream",
     "text": [
      "100%|██████████| 18/18 [00:32<00:00,  1.79s/it, 19.82 (8.54) / 144.39] \n",
      "100%|██████████| 65/65 [00:35<00:00,  1.86it/s, 84.26 (25.17) / 151.41] \n"
     ]
    },
    {
     "name": "stdout",
     "output_type": "stream",
     "text": [
      "Epoch #13\n"
     ]
    },
    {
     "name": "stderr",
     "output_type": "stream",
     "text": [
      "100%|██████████| 18/18 [00:32<00:00,  1.79s/it, 17.72 (7.58) / 143.40] \n",
      "100%|██████████| 65/65 [00:35<00:00,  1.84it/s, 97.47 (16.36) / 151.41]  \n"
     ]
    },
    {
     "name": "stdout",
     "output_type": "stream",
     "text": [
      "Epoch #14\n"
     ]
    },
    {
     "name": "stderr",
     "output_type": "stream",
     "text": [
      "100%|██████████| 18/18 [00:32<00:00,  1.78s/it, 18.81 (27.76) / 139.10]\n",
      "100%|██████████| 65/65 [00:34<00:00,  1.89it/s, 80.62 (60.66) / 151.42] \n"
     ]
    },
    {
     "name": "stdout",
     "output_type": "stream",
     "text": [
      "Epoch #15\n"
     ]
    },
    {
     "name": "stderr",
     "output_type": "stream",
     "text": [
      "100%|██████████| 18/18 [00:32<00:00,  1.79s/it, 14.16 (12.35) / 143.34]\n",
      "100%|██████████| 65/65 [00:35<00:00,  1.83it/s, 82.82 (30.27) / 151.41] \n"
     ]
    },
    {
     "name": "stdout",
     "output_type": "stream",
     "text": [
      "Epoch #16\n"
     ]
    },
    {
     "name": "stderr",
     "output_type": "stream",
     "text": [
      "100%|██████████| 18/18 [00:32<00:00,  1.80s/it, 9.57 (9.88) / 140.55]  \n",
      "100%|██████████| 65/65 [00:35<00:00,  1.83it/s, 83.70 (6.05) / 151.41]  \n"
     ]
    },
    {
     "name": "stdout",
     "output_type": "stream",
     "text": [
      "Epoch #17\n"
     ]
    },
    {
     "name": "stderr",
     "output_type": "stream",
     "text": [
      "100%|██████████| 18/18 [00:32<00:00,  1.80s/it, 10.99 (31.47) / 141.03]\n",
      "100%|██████████| 65/65 [00:34<00:00,  1.91it/s, 81.70 (105.37) / 151.41]\n"
     ]
    },
    {
     "name": "stdout",
     "output_type": "stream",
     "text": [
      "Epoch #18\n"
     ]
    },
    {
     "name": "stderr",
     "output_type": "stream",
     "text": [
      "100%|██████████| 18/18 [00:32<00:00,  1.79s/it, 13.18 (5.02) / 144.61] \n",
      " 31%|███       | 20/65 [00:13<00:20,  2.16it/s, 79.59 (48.47) / 141.70] "
     ]
    }
   ],
   "source": [
    "for file, folder in zip(files, output_folders):\n",
    "    # Print statement for test being ran\n",
    "    print(f\"Starting {file} \\n will save to {folder}\")\n",
    "    file = f\"/zfs/wficai/Data/echonet_data/{file}\"\n",
    "    video.run(data_dir=\"/zfs/wficai/Data/echonet_data/EchoNet-Dynamic/\",\n",
    "          file_list = file,\n",
    "          output = folder,\n",
    "          batch_size=20,\n",
    "          num_workers=40,\n",
    "          run_test=True)"
   ]
  },
  {
   "cell_type": "code",
   "execution_count": null,
   "id": "f5bedf3c-0b6e-4a05-9088-cfaa04989be2",
   "metadata": {},
   "outputs": [],
   "source": []
  }
 ],
 "metadata": {
  "kernelspec": {
   "display_name": "echonet_oldp",
   "language": "python",
   "name": "echonet_oldp"
  },
  "language_info": {
   "codemirror_mode": {
    "name": "ipython",
    "version": 3
   },
   "file_extension": ".py",
   "mimetype": "text/x-python",
   "name": "python",
   "nbconvert_exporter": "python",
   "pygments_lexer": "ipython3",
   "version": "3.7.4"
  }
 },
 "nbformat": 4,
 "nbformat_minor": 5
}
