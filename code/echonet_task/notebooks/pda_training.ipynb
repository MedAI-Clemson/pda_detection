{
 "cells": [
  {
   "cell_type": "code",
   "execution_count": 1,
   "id": "f5a216ef-4451-46d7-b55d-f4845c190138",
   "metadata": {},
   "outputs": [],
   "source": [
    "%load_ext autoreload\n",
    "%autoreload 2"
   ]
  },
  {
   "cell_type": "markdown",
   "id": "84220cd2-56c6-4a55-a794-86cf097e5a48",
   "metadata": {},
   "source": [
    "# Close Cache just in case"
   ]
  },
  {
   "cell_type": "code",
   "execution_count": 2,
   "id": "f5f0a40f-1ad6-4cb9-8f2a-20301606a11c",
   "metadata": {},
   "outputs": [
    {
     "name": "stdout",
     "output_type": "stream",
     "text": [
      "|===========================================================================|\n",
      "|                  PyTorch CUDA memory summary, device ID 0                 |\n",
      "|---------------------------------------------------------------------------|\n",
      "|            CUDA OOMs: 0            |        cudaMalloc retries: 0         |\n",
      "|===========================================================================|\n",
      "|        Metric         | Cur Usage  | Peak Usage | Tot Alloc  | Tot Freed  |\n",
      "|---------------------------------------------------------------------------|\n",
      "| Allocated memory      |       0 B  |       0 B  |       0 B  |       0 B  |\n",
      "|       from large pool |       0 B  |       0 B  |       0 B  |       0 B  |\n",
      "|       from small pool |       0 B  |       0 B  |       0 B  |       0 B  |\n",
      "|---------------------------------------------------------------------------|\n",
      "| Active memory         |       0 B  |       0 B  |       0 B  |       0 B  |\n",
      "|       from large pool |       0 B  |       0 B  |       0 B  |       0 B  |\n",
      "|       from small pool |       0 B  |       0 B  |       0 B  |       0 B  |\n",
      "|---------------------------------------------------------------------------|\n",
      "| GPU reserved memory   |       0 B  |       0 B  |       0 B  |       0 B  |\n",
      "|       from large pool |       0 B  |       0 B  |       0 B  |       0 B  |\n",
      "|       from small pool |       0 B  |       0 B  |       0 B  |       0 B  |\n",
      "|---------------------------------------------------------------------------|\n",
      "| Non-releasable memory |       0 B  |       0 B  |       0 B  |       0 B  |\n",
      "|       from large pool |       0 B  |       0 B  |       0 B  |       0 B  |\n",
      "|       from small pool |       0 B  |       0 B  |       0 B  |       0 B  |\n",
      "|---------------------------------------------------------------------------|\n",
      "| Allocations           |       0    |       0    |       0    |       0    |\n",
      "|       from large pool |       0    |       0    |       0    |       0    |\n",
      "|       from small pool |       0    |       0    |       0    |       0    |\n",
      "|---------------------------------------------------------------------------|\n",
      "| Active allocs         |       0    |       0    |       0    |       0    |\n",
      "|       from large pool |       0    |       0    |       0    |       0    |\n",
      "|       from small pool |       0    |       0    |       0    |       0    |\n",
      "|---------------------------------------------------------------------------|\n",
      "| GPU reserved segments |       0    |       0    |       0    |       0    |\n",
      "|       from large pool |       0    |       0    |       0    |       0    |\n",
      "|       from small pool |       0    |       0    |       0    |       0    |\n",
      "|---------------------------------------------------------------------------|\n",
      "| Non-releasable allocs |       0    |       0    |       0    |       0    |\n",
      "|       from large pool |       0    |       0    |       0    |       0    |\n",
      "|       from small pool |       0    |       0    |       0    |       0    |\n",
      "|===========================================================================|\n",
      "\n"
     ]
    }
   ],
   "source": [
    "import torch\n",
    "torch.cuda.empty_cache()\n",
    "print(torch.cuda.memory_summary())"
   ]
  },
  {
   "cell_type": "markdown",
   "id": "c93348f7-d891-4577-878f-dbc63fda90de",
   "metadata": {
    "jp-MarkdownHeadingCollapsed": true,
    "tags": []
   },
   "source": [
    "# Training"
   ]
  },
  {
   "cell_type": "code",
   "execution_count": 3,
   "id": "34ea0e6a-afdb-4f7e-be29-c9083da7d7a0",
   "metadata": {},
   "outputs": [],
   "source": [
    "# from utils import video"
   ]
  },
  {
   "cell_type": "code",
   "execution_count": 4,
   "id": "f075699f-e0f7-4251-87a8-1846de2d7345",
   "metadata": {},
   "outputs": [],
   "source": [
    "# video.runPDA(\n",
    "#     file_list=\"pda_like_echonet_round2.csv\",\n",
    "#     task=\"Label\",\n",
    "#     run_test=True,\n",
    "#     output = \"pda_output_round2\",\n",
    "#     batch_size=10,\n",
    "#     num_workers=30)"
   ]
  },
  {
   "cell_type": "code",
   "execution_count": 5,
   "id": "774b0132-84c9-466a-aef3-591df5a1628c",
   "metadata": {},
   "outputs": [
    {
     "name": "stderr",
     "output_type": "stream",
     "text": [
      "ERROR:root:No traceback has been produced, nothing to debug.\n"
     ]
    }
   ],
   "source": [
    "%debug"
   ]
  },
  {
   "cell_type": "markdown",
   "id": "6d5137c4-3866-41aa-8918-3ceafbc0651c",
   "metadata": {},
   "source": [
    "# New splits"
   ]
  },
  {
   "cell_type": "code",
   "execution_count": 6,
   "id": "db82b3ce-86c2-4696-8331-ca542848a814",
   "metadata": {},
   "outputs": [],
   "source": [
    "from utils import video"
   ]
  },
  {
   "cell_type": "code",
   "execution_count": 7,
   "id": "546716b5-41f2-443b-980a-67432e4057f8",
   "metadata": {},
   "outputs": [],
   "source": [
    "distrib = [\"patient_sample_5\",\"patient_sample_12\",\"patient_sample_20\",\"patient_sample_28\", \"patient_sample_36\", \"patient_sample_44\"]"
   ]
  },
  {
   "cell_type": "code",
   "execution_count": null,
   "id": "9831d50d-4b4a-4d45-bc73-dac4fee89ac4",
   "metadata": {},
   "outputs": [
    {
     "name": "stdout",
     "output_type": "stream",
     "text": [
      "#####################\n",
      "Performing split patient_sample_5\n"
     ]
    },
    {
     "name": "stderr",
     "output_type": "stream",
     "text": [
      "100%|██████████| 6/6 [00:08<00:00,  1.47s/it]"
     ]
    },
    {
     "name": "stdout",
     "output_type": "stream",
     "text": [
      "Epoch #0\n"
     ]
    },
    {
     "name": "stderr",
     "output_type": "stream",
     "text": [
      "\n",
      "100%|██████████| 4/4 [00:10<00:00,  2.70s/it, 0.84 (0.86) / 0.21]\n",
      "100%|██████████| 12/12 [00:11<00:00,  1.05it/s, 0.64 (0.55) / 0.20]\n"
     ]
    },
    {
     "name": "stdout",
     "output_type": "stream",
     "text": [
      "Loss on val:0.640161199084783 for epoch 0\n",
      "Epoch #1\n"
     ]
    },
    {
     "name": "stderr",
     "output_type": "stream",
     "text": [
      "100%|██████████| 4/4 [00:10<00:00,  2.51s/it, 0.76 (0.79) / 0.23]\n",
      "100%|██████████| 12/12 [00:10<00:00,  1.11it/s, 0.67 (0.71) / 0.20]\n"
     ]
    },
    {
     "name": "stdout",
     "output_type": "stream",
     "text": [
      "Loss on val:0.669542978375645 for epoch 1\n",
      "Epoch #2\n"
     ]
    },
    {
     "name": "stderr",
     "output_type": "stream",
     "text": [
      "100%|██████████| 4/4 [00:10<00:00,  2.63s/it, 0.73 (0.73) / 0.24]\n",
      "100%|██████████| 12/12 [00:10<00:00,  1.14it/s, 0.70 (0.80) / 0.20]\n"
     ]
    },
    {
     "name": "stdout",
     "output_type": "stream",
     "text": [
      "Loss on val:0.7026903023154049 for epoch 2\n",
      "Epoch #3\n"
     ]
    },
    {
     "name": "stderr",
     "output_type": "stream",
     "text": [
      "100%|██████████| 4/4 [00:10<00:00,  2.59s/it, 0.69 (0.72) / 0.24]\n",
      "100%|██████████| 12/12 [00:10<00:00,  1.20it/s, 0.74 (0.77) / 0.20]\n"
     ]
    },
    {
     "name": "stdout",
     "output_type": "stream",
     "text": [
      "Loss on val:0.738517701625824 for epoch 3\n",
      "Epoch #4\n"
     ]
    },
    {
     "name": "stderr",
     "output_type": "stream",
     "text": [
      "100%|██████████| 4/4 [00:09<00:00,  2.37s/it, 0.67 (0.68) / 0.22]\n",
      "100%|██████████| 12/12 [00:10<00:00,  1.14it/s, 0.79 (0.86) / 0.20]\n"
     ]
    },
    {
     "name": "stdout",
     "output_type": "stream",
     "text": [
      "Loss on val:0.78730727050264 for epoch 4\n",
      "Epoch #5\n"
     ]
    },
    {
     "name": "stderr",
     "output_type": "stream",
     "text": [
      "100%|██████████| 4/4 [00:10<00:00,  2.59s/it, 0.63 (0.63) / 0.23]\n",
      "100%|██████████| 12/12 [00:10<00:00,  1.15it/s, 0.84 (0.91) / 0.20]\n"
     ]
    },
    {
     "name": "stdout",
     "output_type": "stream",
     "text": [
      "Loss on val:0.8439806134013806 for epoch 5\n",
      "Epoch #6\n"
     ]
    },
    {
     "name": "stderr",
     "output_type": "stream",
     "text": [
      "100%|██████████| 4/4 [00:10<00:00,  2.59s/it, 0.62 (0.52) / 0.22]\n",
      "100%|██████████| 12/12 [00:10<00:00,  1.14it/s, 0.88 (0.83) / 0.20]\n"
     ]
    },
    {
     "name": "stdout",
     "output_type": "stream",
     "text": [
      "Loss on val:0.8793634095434415 for epoch 6\n",
      "Epoch #7\n"
     ]
    },
    {
     "name": "stderr",
     "output_type": "stream",
     "text": [
      "100%|██████████| 4/4 [00:10<00:00,  2.52s/it, 0.64 (0.59) / 0.23]\n",
      "100%|██████████| 12/12 [00:10<00:00,  1.13it/s, 0.91 (0.71) / 0.20]\n"
     ]
    },
    {
     "name": "stdout",
     "output_type": "stream",
     "text": [
      "Loss on val:0.9114525995012057 for epoch 7\n",
      "Epoch #8\n"
     ]
    },
    {
     "name": "stderr",
     "output_type": "stream",
     "text": [
      "100%|██████████| 4/4 [00:09<00:00,  2.44s/it, 0.57 (0.51) / 0.21]\n",
      "100%|██████████| 12/12 [00:10<00:00,  1.18it/s, 0.92 (0.70) / 0.20]\n"
     ]
    },
    {
     "name": "stdout",
     "output_type": "stream",
     "text": [
      "Loss on val:0.9167772006180327 for epoch 8\n",
      "Epoch #9\n"
     ]
    },
    {
     "name": "stderr",
     "output_type": "stream",
     "text": [
      "100%|██████████| 4/4 [00:10<00:00,  2.52s/it, 0.66 (0.63) / 0.24]\n",
      "100%|██████████| 12/12 [00:10<00:00,  1.14it/s, 0.94 (1.14) / 0.20]\n"
     ]
    },
    {
     "name": "stdout",
     "output_type": "stream",
     "text": [
      "Loss on val:0.9397710733494516 for epoch 9\n",
      "Epoch #10\n"
     ]
    },
    {
     "name": "stderr",
     "output_type": "stream",
     "text": [
      "100%|██████████| 4/4 [00:10<00:00,  2.62s/it, 0.62 (0.83) / 0.23]\n",
      "100%|██████████| 12/12 [00:10<00:00,  1.15it/s, 0.92 (0.95) / 0.20]\n"
     ]
    },
    {
     "name": "stdout",
     "output_type": "stream",
     "text": [
      "Loss on val:0.920136930578846 for epoch 10\n",
      "Epoch #11\n"
     ]
    },
    {
     "name": "stderr",
     "output_type": "stream",
     "text": [
      "100%|██████████| 4/4 [00:09<00:00,  2.42s/it, 0.60 (0.59) / 0.23]\n",
      "100%|██████████| 12/12 [00:10<00:00,  1.14it/s, 0.91 (0.93) / 0.20]\n"
     ]
    },
    {
     "name": "stdout",
     "output_type": "stream",
     "text": [
      "Loss on val:0.9066869121486858 for epoch 11\n",
      "Epoch #12\n"
     ]
    },
    {
     "name": "stderr",
     "output_type": "stream",
     "text": [
      "100%|██████████| 4/4 [00:11<00:00,  2.78s/it, 0.60 (0.79) / 0.23]\n",
      "100%|██████████| 12/12 [00:10<00:00,  1.14it/s, 0.90 (0.96) / 0.20]\n"
     ]
    },
    {
     "name": "stdout",
     "output_type": "stream",
     "text": [
      "Loss on val:0.8969762002007436 for epoch 12\n",
      "Epoch #13\n"
     ]
    },
    {
     "name": "stderr",
     "output_type": "stream",
     "text": [
      "100%|██████████| 4/4 [00:10<00:00,  2.64s/it, 0.54 (0.47) / 0.21]\n",
      "100%|██████████| 12/12 [00:11<00:00,  1.08it/s, 0.88 (1.07) / 0.20]\n"
     ]
    },
    {
     "name": "stdout",
     "output_type": "stream",
     "text": [
      "Loss on val:0.8810332498307956 for epoch 13\n",
      "Epoch #14\n"
     ]
    },
    {
     "name": "stderr",
     "output_type": "stream",
     "text": [
      "100%|██████████| 4/4 [00:10<00:00,  2.71s/it, 0.59 (0.56) / 0.24]\n",
      "100%|██████████| 12/12 [00:10<00:00,  1.13it/s, 0.87 (0.85) / 0.20]\n"
     ]
    },
    {
     "name": "stdout",
     "output_type": "stream",
     "text": [
      "Loss on val:0.8685483710240509 for epoch 14\n",
      "Epoch #15\n"
     ]
    },
    {
     "name": "stderr",
     "output_type": "stream",
     "text": [
      "100%|██████████| 4/4 [00:10<00:00,  2.53s/it, 0.57 (0.55) / 0.23]\n",
      "100%|██████████| 12/12 [00:10<00:00,  1.14it/s, 0.86 (0.94) / 0.20]\n"
     ]
    },
    {
     "name": "stdout",
     "output_type": "stream",
     "text": [
      "Loss on val:0.8611817925663318 for epoch 15\n",
      "Epoch #16\n"
     ]
    },
    {
     "name": "stderr",
     "output_type": "stream",
     "text": [
      "100%|██████████| 4/4 [00:10<00:00,  2.57s/it, 0.60 (0.68) / 0.24]\n",
      "100%|██████████| 12/12 [00:10<00:00,  1.14it/s, 0.86 (0.84) / 0.20]\n"
     ]
    },
    {
     "name": "stdout",
     "output_type": "stream",
     "text": [
      "Loss on val:0.8578868740696018 for epoch 16\n",
      "Epoch #17\n"
     ]
    },
    {
     "name": "stderr",
     "output_type": "stream",
     "text": [
      "100%|██████████| 4/4 [00:11<00:00,  2.80s/it, 0.60 (0.48) / 0.23]\n",
      "100%|██████████| 12/12 [00:10<00:00,  1.20it/s, 0.85 (0.96) / 0.20]\n"
     ]
    },
    {
     "name": "stdout",
     "output_type": "stream",
     "text": [
      "Loss on val:0.8469160451727399 for epoch 17\n",
      "Epoch #18\n"
     ]
    },
    {
     "name": "stderr",
     "output_type": "stream",
     "text": [
      "100%|██████████| 4/4 [00:10<00:00,  2.71s/it, 0.60 (0.59) / 0.24]\n",
      "100%|██████████| 12/12 [00:11<00:00,  1.09it/s, 0.86 (0.85) / 0.20]\n"
     ]
    },
    {
     "name": "stdout",
     "output_type": "stream",
     "text": [
      "Loss on val:0.8561836289147199 for epoch 18\n",
      "Epoch #19\n"
     ]
    },
    {
     "name": "stderr",
     "output_type": "stream",
     "text": [
      "100%|██████████| 4/4 [00:09<00:00,  2.47s/it, 0.57 (0.66) / 0.23]\n",
      "100%|██████████| 12/12 [00:10<00:00,  1.10it/s, 0.85 (0.84) / 0.20]\n"
     ]
    },
    {
     "name": "stdout",
     "output_type": "stream",
     "text": [
      "Loss on val:0.8539464564646705 for epoch 19\n",
      "Epoch #20\n"
     ]
    },
    {
     "name": "stderr",
     "output_type": "stream",
     "text": [
      "100%|██████████| 4/4 [00:11<00:00,  2.82s/it, 0.57 (0.56) / 0.23]\n",
      "100%|██████████| 12/12 [00:10<00:00,  1.09it/s, 0.85 (0.75) / 0.20]\n"
     ]
    },
    {
     "name": "stdout",
     "output_type": "stream",
     "text": [
      "Loss on val:0.8532316351340989 for epoch 20\n",
      "Epoch #21\n"
     ]
    },
    {
     "name": "stderr",
     "output_type": "stream",
     "text": [
      "100%|██████████| 4/4 [00:10<00:00,  2.59s/it, 0.58 (0.61) / 0.23]\n",
      "100%|██████████| 12/12 [00:11<00:00,  1.08it/s, 0.85 (0.91) / 0.20]\n"
     ]
    },
    {
     "name": "stdout",
     "output_type": "stream",
     "text": [
      "Loss on val:0.8537438077441717 for epoch 21\n",
      "Epoch #22\n"
     ]
    },
    {
     "name": "stderr",
     "output_type": "stream",
     "text": [
      "100%|██████████| 4/4 [00:11<00:00,  2.78s/it, 0.54 (0.49) / 0.21]\n",
      "100%|██████████| 12/12 [00:10<00:00,  1.15it/s, 0.85 (0.96) / 0.20]\n"
     ]
    },
    {
     "name": "stdout",
     "output_type": "stream",
     "text": [
      "Loss on val:0.8523836358118866 for epoch 22\n",
      "Epoch #23\n"
     ]
    },
    {
     "name": "stderr",
     "output_type": "stream",
     "text": [
      "100%|██████████| 4/4 [00:10<00:00,  2.67s/it, 0.57 (0.53) / 0.23]\n",
      "100%|██████████| 12/12 [00:10<00:00,  1.13it/s, 0.84 (0.72) / 0.20]\n"
     ]
    },
    {
     "name": "stdout",
     "output_type": "stream",
     "text": [
      "Loss on val:0.8406776614108328 for epoch 23\n",
      "Epoch #24\n"
     ]
    },
    {
     "name": "stderr",
     "output_type": "stream",
     "text": [
      "100%|██████████| 4/4 [00:10<00:00,  2.73s/it, 0.58 (0.59) / 0.23]\n",
      "100%|██████████| 12/12 [00:10<00:00,  1.16it/s, 0.85 (0.97) / 0.20]\n"
     ]
    },
    {
     "name": "stdout",
     "output_type": "stream",
     "text": [
      "Loss on val:0.8450070518558308 for epoch 24\n",
      "Epoch #25\n"
     ]
    },
    {
     "name": "stderr",
     "output_type": "stream",
     "text": [
      "100%|██████████| 4/4 [00:11<00:00,  2.78s/it, 0.62 (0.59) / 0.24]\n",
      "100%|██████████| 12/12 [00:10<00:00,  1.12it/s, 0.85 (0.76) / 0.20]\n"
     ]
    },
    {
     "name": "stdout",
     "output_type": "stream",
     "text": [
      "Loss on val:0.8491527882672972 for epoch 25\n",
      "Epoch #26\n"
     ]
    },
    {
     "name": "stderr",
     "output_type": "stream",
     "text": [
      "100%|██████████| 4/4 [00:09<00:00,  2.45s/it, 0.58 (0.47) / 0.23]\n",
      "100%|██████████| 12/12 [00:11<00:00,  1.09it/s, 0.85 (0.88) / 0.20]\n"
     ]
    },
    {
     "name": "stdout",
     "output_type": "stream",
     "text": [
      "Loss on val:0.8512376233682795 for epoch 26\n",
      "Epoch #27\n"
     ]
    },
    {
     "name": "stderr",
     "output_type": "stream",
     "text": [
      "100%|██████████| 4/4 [00:10<00:00,  2.51s/it, 0.56 (0.70) / 0.23]\n",
      "100%|██████████| 12/12 [00:11<00:00,  1.09it/s, 0.85 (0.91) / 0.20]\n"
     ]
    },
    {
     "name": "stdout",
     "output_type": "stream",
     "text": [
      "Loss on val:0.8520364690635164 for epoch 27\n",
      "Epoch #28\n"
     ]
    },
    {
     "name": "stderr",
     "output_type": "stream",
     "text": [
      "100%|██████████| 4/4 [00:09<00:00,  2.48s/it, 0.57 (0.60) / 0.24]\n",
      "100%|██████████| 12/12 [00:10<00:00,  1.12it/s, 0.85 (0.77) / 0.20]\n"
     ]
    },
    {
     "name": "stdout",
     "output_type": "stream",
     "text": [
      "Loss on val:0.8549610639022569 for epoch 28\n",
      "Epoch #29\n"
     ]
    },
    {
     "name": "stderr",
     "output_type": "stream",
     "text": [
      "100%|██████████| 4/4 [00:11<00:00,  2.82s/it, 0.57 (0.64) / 0.23]\n",
      "100%|██████████| 12/12 [00:10<00:00,  1.10it/s, 0.85 (0.71) / 0.20]\n"
     ]
    },
    {
     "name": "stdout",
     "output_type": "stream",
     "text": [
      "Loss on val:0.8451099981695919 for epoch 29\n",
      "Epoch #30\n"
     ]
    },
    {
     "name": "stderr",
     "output_type": "stream",
     "text": [
      "100%|██████████| 4/4 [00:10<00:00,  2.72s/it, 0.58 (0.57) / 0.23]\n",
      "100%|██████████| 12/12 [00:11<00:00,  1.07it/s, 0.84 (0.77) / 0.20]\n"
     ]
    },
    {
     "name": "stdout",
     "output_type": "stream",
     "text": [
      "Loss on val:0.8430800892538943 for epoch 30\n",
      "Epoch #31\n"
     ]
    },
    {
     "name": "stderr",
     "output_type": "stream",
     "text": [
      "100%|██████████| 4/4 [00:11<00:00,  2.85s/it, 0.59 (0.58) / 0.23]\n",
      "100%|██████████| 12/12 [00:11<00:00,  1.04it/s, 0.84 (0.96) / 0.20]\n"
     ]
    },
    {
     "name": "stdout",
     "output_type": "stream",
     "text": [
      "Loss on val:0.838347100605399 for epoch 31\n",
      "Epoch #32\n"
     ]
    },
    {
     "name": "stderr",
     "output_type": "stream",
     "text": [
      "100%|██████████| 4/4 [00:10<00:00,  2.62s/it, 0.56 (0.49) / 0.22]\n",
      "100%|██████████| 12/12 [00:10<00:00,  1.14it/s, 0.84 (0.77) / 0.20]\n"
     ]
    },
    {
     "name": "stdout",
     "output_type": "stream",
     "text": [
      "Loss on val:0.8448888962551698 for epoch 32\n",
      "Epoch #33\n"
     ]
    },
    {
     "name": "stderr",
     "output_type": "stream",
     "text": [
      "100%|██████████| 4/4 [00:10<00:00,  2.66s/it, 0.54 (0.54) / 0.21]\n",
      "100%|██████████| 12/12 [00:10<00:00,  1.10it/s, 0.84 (0.88) / 0.20]\n"
     ]
    },
    {
     "name": "stdout",
     "output_type": "stream",
     "text": [
      "Loss on val:0.8402924315404083 for epoch 33\n",
      "Epoch #34\n"
     ]
    },
    {
     "name": "stderr",
     "output_type": "stream",
     "text": [
      "100%|██████████| 4/4 [00:10<00:00,  2.63s/it, 0.57 (0.50) / 0.23]\n",
      "100%|██████████| 12/12 [00:11<00:00,  1.04it/s, 0.85 (0.78) / 0.20]\n"
     ]
    },
    {
     "name": "stdout",
     "output_type": "stream",
     "text": [
      "Loss on val:0.8499772427445751 for epoch 34\n",
      "Epoch #35\n"
     ]
    },
    {
     "name": "stderr",
     "output_type": "stream",
     "text": [
      "100%|██████████| 4/4 [00:10<00:00,  2.62s/it, 0.57 (0.66) / 0.23]\n",
      "100%|██████████| 12/12 [00:10<00:00,  1.10it/s, 0.84 (0.72) / 0.20]\n"
     ]
    },
    {
     "name": "stdout",
     "output_type": "stream",
     "text": [
      "Loss on val:0.8372033531382933 for epoch 35\n",
      "Epoch #36\n"
     ]
    },
    {
     "name": "stderr",
     "output_type": "stream",
     "text": [
      "100%|██████████| 4/4 [00:09<00:00,  2.44s/it, 0.54 (0.54) / 0.23]\n",
      "100%|██████████| 12/12 [00:10<00:00,  1.14it/s, 0.85 (0.90) / 0.20]\n"
     ]
    },
    {
     "name": "stdout",
     "output_type": "stream",
     "text": [
      "Loss on val:0.849450152809337 for epoch 36\n",
      "Epoch #37\n"
     ]
    },
    {
     "name": "stderr",
     "output_type": "stream",
     "text": [
      "100%|██████████| 4/4 [00:10<00:00,  2.72s/it, 0.56 (0.56) / 0.23]\n",
      "100%|██████████| 12/12 [00:10<00:00,  1.10it/s, 0.85 (0.71) / 0.20]\n"
     ]
    },
    {
     "name": "stdout",
     "output_type": "stream",
     "text": [
      "Loss on val:0.8509653533919382 for epoch 37\n",
      "Epoch #38\n"
     ]
    },
    {
     "name": "stderr",
     "output_type": "stream",
     "text": [
      "100%|██████████| 4/4 [00:10<00:00,  2.64s/it, 0.59 (0.63) / 0.23]\n",
      "100%|██████████| 12/12 [00:10<00:00,  1.17it/s, 0.85 (0.87) / 0.20]\n"
     ]
    },
    {
     "name": "stdout",
     "output_type": "stream",
     "text": [
      "Loss on val:0.8480949805954755 for epoch 38\n",
      "Epoch #39\n"
     ]
    },
    {
     "name": "stderr",
     "output_type": "stream",
     "text": [
      "100%|██████████| 4/4 [00:10<00:00,  2.62s/it, 0.56 (0.61) / 0.22]\n",
      "100%|██████████| 12/12 [00:11<00:00,  1.08it/s, 0.84 (0.80) / 0.20]\n"
     ]
    },
    {
     "name": "stdout",
     "output_type": "stream",
     "text": [
      "Loss on val:0.8352250820499355 for epoch 39\n",
      "Epoch #40\n"
     ]
    },
    {
     "name": "stderr",
     "output_type": "stream",
     "text": [
      "100%|██████████| 4/4 [00:11<00:00,  2.84s/it, 0.58 (0.64) / 0.23]\n",
      "100%|██████████| 12/12 [00:11<00:00,  1.07it/s, 0.84 (0.88) / 0.20]\n"
     ]
    },
    {
     "name": "stdout",
     "output_type": "stream",
     "text": [
      "Loss on val:0.8376587306038809 for epoch 40\n",
      "Epoch #41\n"
     ]
    },
    {
     "name": "stderr",
     "output_type": "stream",
     "text": [
      "100%|██████████| 4/4 [00:11<00:00,  2.84s/it, 0.60 (0.59) / 0.24]\n",
      "100%|██████████| 12/12 [00:11<00:00,  1.04it/s, 0.85 (0.85) / 0.20]\n"
     ]
    },
    {
     "name": "stdout",
     "output_type": "stream",
     "text": [
      "Loss on val:0.851610826233686 for epoch 41\n",
      "Epoch #42\n"
     ]
    },
    {
     "name": "stderr",
     "output_type": "stream",
     "text": [
      "100%|██████████| 4/4 [00:10<00:00,  2.63s/it, 0.54 (0.64) / 0.22]\n",
      "100%|██████████| 12/12 [00:10<00:00,  1.13it/s, 0.85 (0.70) / 0.20]\n"
     ]
    },
    {
     "name": "stdout",
     "output_type": "stream",
     "text": [
      "Loss on val:0.845454967628091 for epoch 42\n",
      "Epoch #43\n"
     ]
    },
    {
     "name": "stderr",
     "output_type": "stream",
     "text": [
      "100%|██████████| 4/4 [00:09<00:00,  2.50s/it, 0.56 (0.50) / 0.23]\n",
      "100%|██████████| 12/12 [00:10<00:00,  1.13it/s, 0.84 (0.86) / 0.20]\n"
     ]
    },
    {
     "name": "stdout",
     "output_type": "stream",
     "text": [
      "Loss on val:0.8428142202102532 for epoch 43\n",
      "Epoch #44\n"
     ]
    },
    {
     "name": "stderr",
     "output_type": "stream",
     "text": [
      "100%|██████████| 4/4 [00:10<00:00,  2.72s/it, 0.58 (0.60) / 0.23]\n",
      "100%|██████████| 12/12 [00:11<00:00,  1.08it/s, 0.84 (0.66) / 0.20]\n"
     ]
    },
    {
     "name": "stdout",
     "output_type": "stream",
     "text": [
      "Loss on val:0.8405464342084982 for epoch 44\n"
     ]
    },
    {
     "name": "stderr",
     "output_type": "stream",
     "text": [
      "100%|██████████| 12/12 [00:10<00:00,  1.11it/s, 0.65 (0.54) / 0.20]\n",
      "100%|██████████| 28/28 [00:17<00:00,  1.60it/s, 0.60 (0.74) / 0.18]\n"
     ]
    },
    {
     "name": "stdout",
     "output_type": "stream",
     "text": [
      "#####################\n",
      "Performing split patient_sample_12\n"
     ]
    },
    {
     "name": "stderr",
     "output_type": "stream",
     "text": [
      "100%|██████████| 16/16 [00:17<00:00,  1.11s/it]"
     ]
    },
    {
     "name": "stdout",
     "output_type": "stream",
     "text": [
      "Epoch #0\n"
     ]
    },
    {
     "name": "stderr",
     "output_type": "stream",
     "text": [
      "\n",
      "100%|██████████| 14/14 [00:20<00:00,  1.44s/it, 0.73 (0.71) / 0.25]\n",
      "100%|██████████| 12/12 [00:10<00:00,  1.16it/s, 0.66 (0.66) / 0.20]\n"
     ]
    },
    {
     "name": "stdout",
     "output_type": "stream",
     "text": [
      "Loss on val:0.6561356540453636 for epoch 0\n",
      "Epoch #1\n"
     ]
    },
    {
     "name": "stderr",
     "output_type": "stream",
     "text": [
      "100%|██████████| 14/14 [00:20<00:00,  1.49s/it, 0.71 (0.72) / 0.25]\n",
      "100%|██████████| 12/12 [00:10<00:00,  1.13it/s, 0.72 (0.65) / 0.20]\n"
     ]
    },
    {
     "name": "stdout",
     "output_type": "stream",
     "text": [
      "Loss on val:0.7220303082870225 for epoch 1\n",
      "Epoch #2\n"
     ]
    },
    {
     "name": "stderr",
     "output_type": "stream",
     "text": [
      "100%|██████████| 14/14 [00:19<00:00,  1.37s/it, 0.70 (0.70) / 0.25]\n",
      "100%|██████████| 12/12 [00:10<00:00,  1.12it/s, 0.71 (0.78) / 0.20]\n"
     ]
    },
    {
     "name": "stdout",
     "output_type": "stream",
     "text": [
      "Loss on val:0.7124897645691693 for epoch 2\n",
      "Epoch #3\n"
     ]
    },
    {
     "name": "stderr",
     "output_type": "stream",
     "text": [
      "100%|██████████| 14/14 [00:19<00:00,  1.39s/it, 0.69 (0.71) / 0.25]\n",
      "100%|██████████| 12/12 [00:10<00:00,  1.15it/s, 0.73 (0.75) / 0.20]\n"
     ]
    },
    {
     "name": "stdout",
     "output_type": "stream",
     "text": [
      "Loss on val:0.7325497229220503 for epoch 3\n",
      "Epoch #4\n"
     ]
    },
    {
     "name": "stderr",
     "output_type": "stream",
     "text": [
      "100%|██████████| 14/14 [00:20<00:00,  1.49s/it, 0.67 (0.72) / 0.25]\n",
      "100%|██████████| 12/12 [00:10<00:00,  1.18it/s, 0.70 (0.78) / 0.20]\n"
     ]
    },
    {
     "name": "stdout",
     "output_type": "stream",
     "text": [
      "Loss on val:0.6981410848892341 for epoch 4\n",
      "Epoch #5\n"
     ]
    },
    {
     "name": "stderr",
     "output_type": "stream",
     "text": [
      "100%|██████████| 14/14 [00:20<00:00,  1.44s/it, 0.66 (0.68) / 0.25]\n",
      "100%|██████████| 12/12 [00:10<00:00,  1.13it/s, 0.67 (0.66) / 0.20]\n"
     ]
    },
    {
     "name": "stdout",
     "output_type": "stream",
     "text": [
      "Loss on val:0.6743575385061361 for epoch 5\n",
      "Epoch #6\n"
     ]
    },
    {
     "name": "stderr",
     "output_type": "stream",
     "text": [
      "100%|██████████| 14/14 [00:19<00:00,  1.41s/it, 0.66 (0.64) / 0.25]\n",
      "100%|██████████| 12/12 [00:10<00:00,  1.16it/s, 0.67 (0.63) / 0.20]\n"
     ]
    },
    {
     "name": "stdout",
     "output_type": "stream",
     "text": [
      "Loss on val:0.6726563037452051 for epoch 6\n",
      "Epoch #7\n"
     ]
    },
    {
     "name": "stderr",
     "output_type": "stream",
     "text": [
      "100%|██████████| 14/14 [00:19<00:00,  1.42s/it, 0.64 (0.68) / 0.25]\n",
      "100%|██████████| 12/12 [00:10<00:00,  1.12it/s, 0.69 (0.72) / 0.20]\n"
     ]
    },
    {
     "name": "stdout",
     "output_type": "stream",
     "text": [
      "Loss on val:0.6850626307018732 for epoch 7\n",
      "Epoch #8\n"
     ]
    },
    {
     "name": "stderr",
     "output_type": "stream",
     "text": [
      "100%|██████████| 14/14 [00:20<00:00,  1.46s/it, 0.64 (0.69) / 0.25]\n",
      "100%|██████████| 12/12 [00:10<00:00,  1.16it/s, 0.67 (0.67) / 0.20]\n"
     ]
    },
    {
     "name": "stdout",
     "output_type": "stream",
     "text": [
      "Loss on val:0.665455087766809 for epoch 8\n",
      "Epoch #9\n"
     ]
    },
    {
     "name": "stderr",
     "output_type": "stream",
     "text": [
      "100%|██████████| 14/14 [00:19<00:00,  1.41s/it, 0.62 (0.61) / 0.25]\n",
      "100%|██████████| 12/12 [00:10<00:00,  1.11it/s, 0.68 (0.82) / 0.20]\n"
     ]
    },
    {
     "name": "stdout",
     "output_type": "stream",
     "text": [
      "Loss on val:0.682601529662892 for epoch 9\n",
      "Epoch #10\n"
     ]
    },
    {
     "name": "stderr",
     "output_type": "stream",
     "text": [
      "100%|██████████| 14/14 [00:20<00:00,  1.44s/it, 0.63 (0.67) / 0.25]\n",
      "100%|██████████| 12/12 [00:10<00:00,  1.10it/s, 0.64 (0.55) / 0.20]\n"
     ]
    },
    {
     "name": "stdout",
     "output_type": "stream",
     "text": [
      "Loss on val:0.6425718533790717 for epoch 10\n",
      "Epoch #11\n"
     ]
    },
    {
     "name": "stderr",
     "output_type": "stream",
     "text": [
      "100%|██████████| 14/14 [00:19<00:00,  1.42s/it, 0.62 (0.64) / 0.25]\n",
      "100%|██████████| 12/12 [00:10<00:00,  1.10it/s, 0.67 (0.69) / 0.20]\n"
     ]
    },
    {
     "name": "stdout",
     "output_type": "stream",
     "text": [
      "Loss on val:0.667001952559261 for epoch 11\n",
      "Epoch #12\n"
     ]
    },
    {
     "name": "stderr",
     "output_type": "stream",
     "text": [
      "100%|██████████| 14/14 [00:20<00:00,  1.45s/it, 0.61 (0.69) / 0.25]\n",
      " 67%|██████▋   | 8/12 [00:09<00:01,  2.24it/s, 0.66 (0.66) / 0.18]"
     ]
    }
   ],
   "source": [
    "for split in distrib:\n",
    "    print(\"#####################\")\n",
    "    print(f\"Performing split {split}\")\n",
    "    path_to_output = f\"./output_{split}/\"\n",
    "    path_to_csv = f\"{path_to_output}{split}_file.csv\"\n",
    "    \n",
    "    video.runPDA(\n",
    "        file_list=path_to_csv,\n",
    "        task=\"Label\",\n",
    "        run_test=True,\n",
    "        output = path_to_output,\n",
    "        batch_size=10,\n",
    "        num_workers=30)"
   ]
  },
  {
   "cell_type": "code",
   "execution_count": 5,
   "id": "5cf6301f-5ea6-4563-9e27-11c908d5e440",
   "metadata": {},
   "outputs": [],
   "source": [
    "import torchvision\n",
    "model_name=\"r2plus1d_18\" \n",
    "model = torchvision.models.video.__dict__[model_name]()"
   ]
  },
  {
   "cell_type": "code",
   "execution_count": null,
   "id": "2f780f59-ea75-425b-8fe0-4c607bc9d90f",
   "metadata": {},
   "outputs": [
    {
     "data": {
      "text/plain": [
       "31505325"
      ]
     },
     "execution_count": 10,
     "metadata": {},
     "output_type": "execute_result"
    }
   ],
   "source": [
    "#Number of trainable params\n",
    "sum(p.numel() for p in model.parameters() if p.requires_grad)"
   ]
  },
  {
   "cell_type": "code",
   "execution_count": 14,
   "id": "e20bb4a7-da8b-4182-9bf2-7449ba66b4c0",
   "metadata": {},
   "outputs": [],
   "source": [
    "import torchvision.models as models\n",
    "resnet50 = models.resnet50()"
   ]
  },
  {
   "cell_type": "code",
   "execution_count": 16,
   "id": "766528df-d9e7-4036-bb9c-5c09ca37ec01",
   "metadata": {},
   "outputs": [
    {
     "data": {
      "text/plain": [
       "25557032"
      ]
     },
     "execution_count": 16,
     "metadata": {},
     "output_type": "execute_result"
    }
   ],
   "source": [
    "sum(p.numel() for p in resnet50.parameters() if p.requires_grad)"
   ]
  },
  {
   "cell_type": "code",
   "execution_count": null,
   "id": "519387e7-2932-4540-a945-a34f797fbd15",
   "metadata": {},
   "outputs": [],
   "source": []
  }
 ],
 "metadata": {
  "kernelspec": {
   "display_name": "echonet_oldp",
   "language": "python",
   "name": "echonet_oldp"
  },
  "language_info": {
   "codemirror_mode": {
    "name": "ipython",
    "version": 3
   },
   "file_extension": ".py",
   "mimetype": "text/x-python",
   "name": "python",
   "nbconvert_exporter": "python",
   "pygments_lexer": "ipython3",
   "version": "3.7.4"
  }
 },
 "nbformat": 4,
 "nbformat_minor": 5
}
