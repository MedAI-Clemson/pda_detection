{
 "metadata": {
  "language_info": {
   "codemirror_mode": {
    "name": "ipython",
    "version": 3
   },
   "file_extension": ".py",
   "mimetype": "text/x-python",
   "name": "python",
   "nbconvert_exporter": "python",
   "pygments_lexer": "ipython3",
   "version": "3.9.12"
  },
  "orig_nbformat": 2,
  "kernelspec": {
   "name": "python3912jvsc74a57bd0937296f1128d7ee11f6f4dde6b07a46838d65d5240eed6a79d3b04ffc6147c7c",
   "display_name": "Python 3.9.12 64-bit"
  }
 },
 "nbformat": 4,
 "nbformat_minor": 2,
 "cells": [
  {
   "cell_type": "code",
   "execution_count": 1,
   "metadata": {},
   "outputs": [],
   "source": [
    "import pandas as pd\n",
    "import numpy as np\n",
    "import json\n",
    "import sys\n",
    "sys.path.append('../')\n",
    "from train_pda_cv import compute_metrics"
   ]
  },
  {
   "cell_type": "code",
   "execution_count": 2,
   "metadata": {},
   "outputs": [
    {
     "output_type": "stream",
     "name": "stdout",
     "text": [
      "Index(['split', 'loss', 'metrics', 'targets', 'outputs', 'external_ids',\n       'patient_ids'],\n      dtype='object')\n"
     ]
    }
   ],
   "source": [
    "artifact_folder = '/project/rcde/datasets/pda/model_run_artifacts/pda_cvtest_/'\n",
    "\n",
    "with open(f\"{artifact_folder}/cv_results_val.json\", 'r') as f:\n",
    "    res_val = pd.DataFrame(json.load(f))\n",
    "\n",
    "with open(f\"{artifact_folder}/cv_results_test.json\", 'r') as f:\n",
    "    res_test = pd.DataFrame(json.load(f))\n",
    "\n",
    "print(res_val.keys())\n",
    "\n",
    "assert (res_val.keys() == res_test.keys()).all()"
   ]
  },
  {
   "cell_type": "code",
   "execution_count": 3,
   "metadata": {},
   "outputs": [
    {
     "output_type": "execute_result",
     "data": {
      "text/plain": [
       "   split      loss   roc_auc  accuracy  sensitivity  specificity\n",
       "0      0  0.372326  0.932634  0.869318     0.838710     0.903614\n",
       "1      1  0.414246  0.915144  0.818182     0.903226     0.722892\n",
       "2      2  0.388852  0.882972  0.819742     0.815385     0.825243\n",
       "3      3  0.369719  0.878075  0.813559     0.823529     0.787879\n",
       "4      4  0.464855  0.897167  0.852941     0.885167     0.746032\n",
       "5      5  0.426827  0.903030  0.805085     0.741176     0.969697"
      ],
      "text/html": "<div>\n<style scoped>\n    .dataframe tbody tr th:only-of-type {\n        vertical-align: middle;\n    }\n\n    .dataframe tbody tr th {\n        vertical-align: top;\n    }\n\n    .dataframe thead th {\n        text-align: right;\n    }\n</style>\n<table border=\"1\" class=\"dataframe\">\n  <thead>\n    <tr style=\"text-align: right;\">\n      <th></th>\n      <th>split</th>\n      <th>loss</th>\n      <th>roc_auc</th>\n      <th>accuracy</th>\n      <th>sensitivity</th>\n      <th>specificity</th>\n    </tr>\n  </thead>\n  <tbody>\n    <tr>\n      <th>0</th>\n      <td>0</td>\n      <td>0.372326</td>\n      <td>0.932634</td>\n      <td>0.869318</td>\n      <td>0.838710</td>\n      <td>0.903614</td>\n    </tr>\n    <tr>\n      <th>1</th>\n      <td>1</td>\n      <td>0.414246</td>\n      <td>0.915144</td>\n      <td>0.818182</td>\n      <td>0.903226</td>\n      <td>0.722892</td>\n    </tr>\n    <tr>\n      <th>2</th>\n      <td>2</td>\n      <td>0.388852</td>\n      <td>0.882972</td>\n      <td>0.819742</td>\n      <td>0.815385</td>\n      <td>0.825243</td>\n    </tr>\n    <tr>\n      <th>3</th>\n      <td>3</td>\n      <td>0.369719</td>\n      <td>0.878075</td>\n      <td>0.813559</td>\n      <td>0.823529</td>\n      <td>0.787879</td>\n    </tr>\n    <tr>\n      <th>4</th>\n      <td>4</td>\n      <td>0.464855</td>\n      <td>0.897167</td>\n      <td>0.852941</td>\n      <td>0.885167</td>\n      <td>0.746032</td>\n    </tr>\n    <tr>\n      <th>5</th>\n      <td>5</td>\n      <td>0.426827</td>\n      <td>0.903030</td>\n      <td>0.805085</td>\n      <td>0.741176</td>\n      <td>0.969697</td>\n    </tr>\n  </tbody>\n</table>\n</div>"
     },
     "metadata": {},
     "execution_count": 3
    }
   ],
   "source": [
    "df_val, df_test = [pd.concat([d[['split', 'loss']], pd.DataFrame(d.metrics.tolist())], axis=1) for d in (res_val, res_test)]\n",
    "df_val"
   ]
  },
  {
   "source": [
    "# Clip-level results"
   ],
   "cell_type": "markdown",
   "metadata": {}
  },
  {
   "cell_type": "code",
   "execution_count": 4,
   "metadata": {},
   "outputs": [
    {
     "output_type": "stream",
     "name": "stdout",
     "text": [
      "------------------------------------\nClip-level results:\n------------------------------------\n\nValidation 95% Confidence Intervals:\n------------------------------------\n       loss: [0.37, 0.44]\n    roc_auc: [0.88, 0.92]\n   accuracy: [0.80, 0.86]\nsensitivity: [0.77, 0.89]\nspecificity: [0.73, 0.93]\n\nTest 95% Confidence Intervals:\n------------------------------------\n       loss: [0.38, 0.58]\n    roc_auc: [0.83, 0.90]\n   accuracy: [0.69, 0.85]\nsensitivity: [0.71, 0.89]\nspecificity: [0.62, 0.92]\n"
     ]
    }
   ],
   "source": [
    "import statsmodels.stats.api as sms\n",
    "\n",
    "print(\"------------------------------------\")\n",
    "print(\"Clip-level results:\")\n",
    "print(\"------------------------------------\")\n",
    "print()\n",
    "print(\"Validation 95% Confidence Intervals:\")\n",
    "print(\"------------------------------------\")\n",
    "cols = ['loss', 'roc_auc', 'accuracy', 'sensitivity', 'specificity']\n",
    "for c in cols:\n",
    "    low, high = sms.DescrStatsW(df_val[c]).tconfint_mean()\n",
    "    print(f\"{c:>11}: [{low:0.2f}, {high:0.2f}]\")\n",
    "\n",
    "print()\n",
    "print(\"Test 95% Confidence Intervals:\")\n",
    "print(\"------------------------------------\")\n",
    "cols = ['loss', 'roc_auc', 'accuracy', 'sensitivity', 'specificity']\n",
    "for c in cols:\n",
    "    low, high = sms.DescrStatsW(df_test[c]).tconfint_mean()\n",
    "    print(f\"{c:>11}: [{low:0.2f}, {high:0.2f}]\")"
   ]
  },
  {
   "source": [
    "# Study-level results"
   ],
   "cell_type": "markdown",
   "metadata": {}
  },
  {
   "cell_type": "code",
   "execution_count": 6,
   "metadata": {},
   "outputs": [
    {
     "output_type": "execute_result",
     "data": {
      "text/plain": [
       "    split targets   outputs      external_ids       patient_ids    study\n",
       "0       0     1.0 -7.763616   study86_dicom65  ded498e8adf7852f  study86\n",
       "0       0     1.0 -6.304462   study86_dicom99  ded498e8adf7852f  study86\n",
       "0       0     1.0  3.787008  study86_dicom105  ded498e8adf7852f  study86\n",
       "0       0     1.0  5.327815  study86_dicom108  ded498e8adf7852f  study86\n",
       "0       0     1.0  2.038718  study86_dicom109  ded498e8adf7852f  study86\n",
       "..    ...     ...       ...               ...               ...      ...\n",
       "5       5     1.0  0.875129    study43_dicom7  f8dd48f1f7946612  study43\n",
       "5       5     1.0  1.976349    study43_dicom9  f8dd48f1f7946612  study43\n",
       "5       5     1.0  3.327712   study43_dicom13  f8dd48f1f7946612  study43\n",
       "5       5     1.0  0.723056   study43_dicom18  f8dd48f1f7946612  study43\n",
       "5       5     1.0   1.11088   study43_dicom28  f8dd48f1f7946612  study43\n",
       "\n",
       "[1093 rows x 6 columns]"
      ],
      "text/html": "<div>\n<style scoped>\n    .dataframe tbody tr th:only-of-type {\n        vertical-align: middle;\n    }\n\n    .dataframe tbody tr th {\n        vertical-align: top;\n    }\n\n    .dataframe thead th {\n        text-align: right;\n    }\n</style>\n<table border=\"1\" class=\"dataframe\">\n  <thead>\n    <tr style=\"text-align: right;\">\n      <th></th>\n      <th>split</th>\n      <th>targets</th>\n      <th>outputs</th>\n      <th>external_ids</th>\n      <th>patient_ids</th>\n      <th>study</th>\n    </tr>\n  </thead>\n  <tbody>\n    <tr>\n      <th>0</th>\n      <td>0</td>\n      <td>1.0</td>\n      <td>-7.763616</td>\n      <td>study86_dicom65</td>\n      <td>ded498e8adf7852f</td>\n      <td>study86</td>\n    </tr>\n    <tr>\n      <th>0</th>\n      <td>0</td>\n      <td>1.0</td>\n      <td>-6.304462</td>\n      <td>study86_dicom99</td>\n      <td>ded498e8adf7852f</td>\n      <td>study86</td>\n    </tr>\n    <tr>\n      <th>0</th>\n      <td>0</td>\n      <td>1.0</td>\n      <td>3.787008</td>\n      <td>study86_dicom105</td>\n      <td>ded498e8adf7852f</td>\n      <td>study86</td>\n    </tr>\n    <tr>\n      <th>0</th>\n      <td>0</td>\n      <td>1.0</td>\n      <td>5.327815</td>\n      <td>study86_dicom108</td>\n      <td>ded498e8adf7852f</td>\n      <td>study86</td>\n    </tr>\n    <tr>\n      <th>0</th>\n      <td>0</td>\n      <td>1.0</td>\n      <td>2.038718</td>\n      <td>study86_dicom109</td>\n      <td>ded498e8adf7852f</td>\n      <td>study86</td>\n    </tr>\n    <tr>\n      <th>...</th>\n      <td>...</td>\n      <td>...</td>\n      <td>...</td>\n      <td>...</td>\n      <td>...</td>\n      <td>...</td>\n    </tr>\n    <tr>\n      <th>5</th>\n      <td>5</td>\n      <td>1.0</td>\n      <td>0.875129</td>\n      <td>study43_dicom7</td>\n      <td>f8dd48f1f7946612</td>\n      <td>study43</td>\n    </tr>\n    <tr>\n      <th>5</th>\n      <td>5</td>\n      <td>1.0</td>\n      <td>1.976349</td>\n      <td>study43_dicom9</td>\n      <td>f8dd48f1f7946612</td>\n      <td>study43</td>\n    </tr>\n    <tr>\n      <th>5</th>\n      <td>5</td>\n      <td>1.0</td>\n      <td>3.327712</td>\n      <td>study43_dicom13</td>\n      <td>f8dd48f1f7946612</td>\n      <td>study43</td>\n    </tr>\n    <tr>\n      <th>5</th>\n      <td>5</td>\n      <td>1.0</td>\n      <td>0.723056</td>\n      <td>study43_dicom18</td>\n      <td>f8dd48f1f7946612</td>\n      <td>study43</td>\n    </tr>\n    <tr>\n      <th>5</th>\n      <td>5</td>\n      <td>1.0</td>\n      <td>1.11088</td>\n      <td>study43_dicom28</td>\n      <td>f8dd48f1f7946612</td>\n      <td>study43</td>\n    </tr>\n  </tbody>\n</table>\n<p>1093 rows × 6 columns</p>\n</div>"
     },
     "metadata": {},
     "execution_count": 6
    }
   ],
   "source": [
    "pat_val = res_val.drop(['loss', 'metrics'], axis=1).explode(column=['targets', 'outputs', 'external_ids', 'patient_ids'])\n",
    "pat_val['study'] = pat_val.external_ids.str.split('_').str[0]\n",
    "pat_val"
   ]
  },
  {
   "cell_type": "code",
   "execution_count": 20,
   "metadata": {},
   "outputs": [
    {
     "output_type": "execute_result",
     "data": {
      "text/plain": [
       "    split targets   outputs      external_ids       patient_ids    study\n",
       "0       0     0.0 -2.006141   study42_dicom81  d9d3ed4a1ab8b062  study42\n",
       "0       0     0.0 -2.989669   study42_dicom50  d9d3ed4a1ab8b062  study42\n",
       "0       0     0.0 -3.431382   study42_dicom67  d9d3ed4a1ab8b062  study42\n",
       "0       0     0.0 -2.483953   study42_dicom79  d9d3ed4a1ab8b062  study42\n",
       "0       0     0.0 -1.088541   study42_dicom85  d9d3ed4a1ab8b062  study42\n",
       "..    ...     ...       ...               ...               ...      ...\n",
       "5       5     0.0  0.206901  study55_dicom104  efa3614c94506474  study55\n",
       "5       5     0.0 -0.323145   study55_dicom95  efa3614c94506474  study55\n",
       "5       5     0.0 -0.939825   study55_dicom61  efa3614c94506474  study55\n",
       "5       5     0.0  0.552775  study55_dicom103  efa3614c94506474  study55\n",
       "5       5     0.0  0.573387  study55_dicom129  efa3614c94506474  study55\n",
       "\n",
       "[1145 rows x 6 columns]"
      ],
      "text/html": "<div>\n<style scoped>\n    .dataframe tbody tr th:only-of-type {\n        vertical-align: middle;\n    }\n\n    .dataframe tbody tr th {\n        vertical-align: top;\n    }\n\n    .dataframe thead th {\n        text-align: right;\n    }\n</style>\n<table border=\"1\" class=\"dataframe\">\n  <thead>\n    <tr style=\"text-align: right;\">\n      <th></th>\n      <th>split</th>\n      <th>targets</th>\n      <th>outputs</th>\n      <th>external_ids</th>\n      <th>patient_ids</th>\n      <th>study</th>\n    </tr>\n  </thead>\n  <tbody>\n    <tr>\n      <th>0</th>\n      <td>0</td>\n      <td>0.0</td>\n      <td>-2.006141</td>\n      <td>study42_dicom81</td>\n      <td>d9d3ed4a1ab8b062</td>\n      <td>study42</td>\n    </tr>\n    <tr>\n      <th>0</th>\n      <td>0</td>\n      <td>0.0</td>\n      <td>-2.989669</td>\n      <td>study42_dicom50</td>\n      <td>d9d3ed4a1ab8b062</td>\n      <td>study42</td>\n    </tr>\n    <tr>\n      <th>0</th>\n      <td>0</td>\n      <td>0.0</td>\n      <td>-3.431382</td>\n      <td>study42_dicom67</td>\n      <td>d9d3ed4a1ab8b062</td>\n      <td>study42</td>\n    </tr>\n    <tr>\n      <th>0</th>\n      <td>0</td>\n      <td>0.0</td>\n      <td>-2.483953</td>\n      <td>study42_dicom79</td>\n      <td>d9d3ed4a1ab8b062</td>\n      <td>study42</td>\n    </tr>\n    <tr>\n      <th>0</th>\n      <td>0</td>\n      <td>0.0</td>\n      <td>-1.088541</td>\n      <td>study42_dicom85</td>\n      <td>d9d3ed4a1ab8b062</td>\n      <td>study42</td>\n    </tr>\n    <tr>\n      <th>...</th>\n      <td>...</td>\n      <td>...</td>\n      <td>...</td>\n      <td>...</td>\n      <td>...</td>\n      <td>...</td>\n    </tr>\n    <tr>\n      <th>5</th>\n      <td>5</td>\n      <td>0.0</td>\n      <td>0.206901</td>\n      <td>study55_dicom104</td>\n      <td>efa3614c94506474</td>\n      <td>study55</td>\n    </tr>\n    <tr>\n      <th>5</th>\n      <td>5</td>\n      <td>0.0</td>\n      <td>-0.323145</td>\n      <td>study55_dicom95</td>\n      <td>efa3614c94506474</td>\n      <td>study55</td>\n    </tr>\n    <tr>\n      <th>5</th>\n      <td>5</td>\n      <td>0.0</td>\n      <td>-0.939825</td>\n      <td>study55_dicom61</td>\n      <td>efa3614c94506474</td>\n      <td>study55</td>\n    </tr>\n    <tr>\n      <th>5</th>\n      <td>5</td>\n      <td>0.0</td>\n      <td>0.552775</td>\n      <td>study55_dicom103</td>\n      <td>efa3614c94506474</td>\n      <td>study55</td>\n    </tr>\n    <tr>\n      <th>5</th>\n      <td>5</td>\n      <td>0.0</td>\n      <td>0.573387</td>\n      <td>study55_dicom129</td>\n      <td>efa3614c94506474</td>\n      <td>study55</td>\n    </tr>\n  </tbody>\n</table>\n<p>1145 rows × 6 columns</p>\n</div>"
     },
     "metadata": {},
     "execution_count": 20
    }
   ],
   "source": [
    "pat_test = res_test.drop(['loss', 'metrics'], axis=1).explode(column=['targets', 'outputs', 'external_ids', 'patient_ids'])\n",
    "pat_test['study'] = pat_test.external_ids.str.split('_').str[0]\n",
    "pat_test"
   ]
  },
  {
   "cell_type": "code",
   "execution_count": 21,
   "metadata": {},
   "outputs": [],
   "source": [
    "# make patient-type level prediction\n",
    "pat_lvl_preds_val = pat_val.groupby(['split', 'study', 'targets'], as_index=False).apply(lambda x: pd.Series(\n",
    "    {\n",
    "        'pred': x.outputs.astype(np.float32).mean(),\n",
    "    }))\n",
    "    \n",
    "pat_level_mets_val = pat_lvl_preds_val.groupby('split', as_index=False).apply(\n",
    "        lambda x: pd.Series(compute_metrics(x.targets.astype(int), x.pred, from_probs=True, threshold=0.5))\n",
    "    )\n",
    "\n",
    "# again for test:\n",
    "pat_lvl_preds_test = pat_test.groupby(['split', 'study', 'targets'], as_index=False).apply(lambda x: pd.Series(\n",
    "    {\n",
    "        'pred': x.outputs.astype(np.float32).mean(),\n",
    "    }))\n",
    "    \n",
    "pat_level_mets_test = pat_lvl_preds_test.groupby('split', as_index=False).apply(\n",
    "        lambda x: pd.Series(compute_metrics(x.targets.astype(int), x.pred, from_probs=True, threshold=0.5))\n",
    "    )"
   ]
  },
  {
   "cell_type": "code",
   "execution_count": 25,
   "metadata": {},
   "outputs": [
    {
     "output_type": "stream",
     "name": "stdout",
     "text": [
      "------------------------------------\nStudy-level results:\n------------------------------------\n\nValidation 95% Confidence Intervals:\n------------------------------------\n    roc_auc: [0.90, 1.00]\n   accuracy: [0.80, 0.94]\nsensitivity: [0.72, 0.97]\nspecificity: [0.81, 1.00]\n\nTest 95% Confidence Intervals:\n------------------------------------\n    roc_auc: [0.89, 0.98]\n   accuracy: [0.76, 0.97]\nsensitivity: [0.72, 0.94]\nspecificity: [0.79, 1.00]\n"
     ]
    }
   ],
   "source": [
    "import statsmodels.stats.api as sms\n",
    "\n",
    "print(\"------------------------------------\")\n",
    "print(\"Study-level results:\")\n",
    "print(\"------------------------------------\")\n",
    "print()\n",
    "print(\"Validation 95% Confidence Intervals:\")\n",
    "print(\"------------------------------------\")\n",
    "cols = ['roc_auc', 'accuracy', 'sensitivity', 'specificity']\n",
    "for c in cols:\n",
    "    low, high = sms.DescrStatsW(pat_level_mets_val[c]).tconfint_mean()\n",
    "    print(f\"{c:>11}: [{low:0.2f}, {min(high,1):0.2f}]\")\n",
    "\n",
    "print()\n",
    "print(\"Test 95% Confidence Intervals:\")\n",
    "print(\"------------------------------------\")\n",
    "cols = ['roc_auc', 'accuracy', 'sensitivity', 'specificity']\n",
    "for c in cols:\n",
    "    low, high = sms.DescrStatsW(pat_level_mets_test[c]).tconfint_mean()\n",
    "    print(f\"{c:>11}: [{low:0.2f}, {min(high,1):0.2f}]\")"
   ]
  },
  {
   "cell_type": "code",
   "execution_count": null,
   "metadata": {},
   "outputs": [],
   "source": []
  }
 ]
}