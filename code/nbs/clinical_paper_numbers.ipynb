{
 "metadata": {
  "language_info": {
   "codemirror_mode": {
    "name": "ipython",
    "version": 3
   },
   "file_extension": ".py",
   "mimetype": "text/x-python",
   "name": "python",
   "nbconvert_exporter": "python",
   "pygments_lexer": "ipython3",
   "version": "3.9.12"
  },
  "orig_nbformat": 2,
  "kernelspec": {
   "name": "python3912jvsc74a57bd0937296f1128d7ee11f6f4dde6b07a46838d65d5240eed6a79d3b04ffc6147c7c",
   "display_name": "Python 3.9.12 64-bit ('pda': conda)"
  }
 },
 "nbformat": 4,
 "nbformat_minor": 2,
 "cells": [
  {
   "cell_type": "code",
   "execution_count": 1,
   "metadata": {},
   "outputs": [],
   "source": [
    "import pandas as pd\n",
    "import numpy as np\n",
    "import sys\n",
    "import yaml\n",
    "sys.path.append('../')\n",
    "\n",
    "import transforms as my_transforms\n",
    "from dataset import PdaVideos"
   ]
  },
  {
   "cell_type": "code",
   "execution_count": 2,
   "metadata": {},
   "outputs": [],
   "source": [
    "artifact_folder = \"/project/rcde/datasets/pda/model_run_artifacts/pda_cvtest_/\"\n",
    "\n",
    "# load config\n",
    "with open(f\"{artifact_folder}/config.yaml\", 'r') as f:\n",
    "    cfg = yaml.safe_load(f)"
   ]
  },
  {
   "cell_type": "code",
   "execution_count": 3,
   "metadata": {},
   "outputs": [
    {
     "output_type": "stream",
     "name": "stdout",
     "text": [
      "Preparing datasets.\n"
     ]
    }
   ],
   "source": [
    "# transforms\n",
    "tfms = my_transforms.VideoTransforms(cfg['res'], time_downsample_kwargs = cfg['time_downsample_kwargs'])\n",
    "\n",
    "# load data\n",
    "print(\"Preparing datasets.\")\n",
    "df_frames = pd.read_csv(cfg['frame_csv'])\n",
    "\n",
    "# create dataset\n",
    "dat = PdaVideos(df_frames, subset_column=cfg['subset_column'], **cfg['dataset_kwargs'])"
   ]
  },
  {
   "cell_type": "code",
   "execution_count": 4,
   "metadata": {},
   "outputs": [
    {
     "output_type": "stream",
     "name": "stdout",
     "text": [
      "Total number of clips used: 1145\nNumber of [PDA, non-PDA] clips: [661, 484]\nShares of [PDA, non-PDA] clips: [0.5772925764192139, 0.422707423580786]\n"
     ]
    }
   ],
   "source": [
    "print(\"Total number of clips used:\", len(dat))\n",
    "print(\"Number of [PDA, non-PDA] clips:\", dat.video_data.patient_type.value_counts().tolist())\n",
    "print(\"Shares of [PDA, non-PDA] clips:\", (dat.video_data.patient_type.value_counts() / len(dat)).tolist())"
   ]
  },
  {
   "cell_type": "code",
   "execution_count": 6,
   "metadata": {},
   "outputs": [
    {
     "output_type": "execute_result",
     "data": {
      "text/plain": [
       "patient_type\n",
       "nopda    76\n",
       "pda      87\n",
       "Name: study, dtype: int64"
      ]
     },
     "metadata": {},
     "execution_count": 6
    }
   ],
   "source": [
    "dat.video_data.groupby('patient_type').study.nunique()"
   ]
  },
  {
   "cell_type": "code",
   "execution_count": 7,
   "metadata": {},
   "outputs": [
    {
     "output_type": "execute_result",
     "data": {
      "text/plain": [
       "patient_type\n",
       "nopda    0.466258\n",
       "pda      0.533742\n",
       "Name: study, dtype: float64"
      ]
     },
     "metadata": {},
     "execution_count": 7
    }
   ],
   "source": [
    "dat.video_data.groupby('patient_type').study.nunique() / dat.video_data.groupby('patient_type').study.nunique().sum()"
   ]
  },
  {
   "cell_type": "code",
   "execution_count": null,
   "metadata": {},
   "outputs": [],
   "source": []
  }
 ]
}