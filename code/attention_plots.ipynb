{
 "cells": [
  {
   "cell_type": "code",
   "execution_count": 1,
   "id": "daaa341c-0948-46ae-8454-8e47c62cf06f",
   "metadata": {},
   "outputs": [],
   "source": [
    "%load_ext autoreload\n",
    "%autoreload 1\n",
    "%config InlineBackend.print_figure_kwargs={'facecolor' : \"w\"}"
   ]
  },
  {
   "cell_type": "code",
   "execution_count": 2,
   "id": "db27084b-c3c0-4e7a-bc00-dab2262def34",
   "metadata": {},
   "outputs": [],
   "source": [
    "import pandas as pd\n",
    "import numpy as np\n",
    "from torch.utils.data import DataLoader\n",
    "import timm\n",
    "from timm import optim, scheduler\n",
    "import torch\n",
    "from torchvision import transforms as tfm\n",
    "from sklearn import metrics as skmet\n",
    "import matplotlib.pyplot as plt\n",
    "import json\n",
    "import transforms as my_transforms\n",
    "\n",
    "%aimport dataset\n",
    "%aimport models\n",
    "VideoClassifier = models.VideoClassifier\n",
    "VideoData = dataset.VideoData"
   ]
  },
  {
   "cell_type": "code",
   "execution_count": 3,
   "id": "7af05b89-c3b2-4d84-8f4a-ab907f26fe8b",
   "metadata": {},
   "outputs": [],
   "source": [
    "artifact_folder = '/zfs/wficai/pda/model_run_artifacts/aihub_results_SAVE'\n",
    "# artifact_folder = '/zfs/wficai/pda/model_run_artifacts/20220818_all_224x224'\n",
    "\n",
    "with open(artifact_folder + '/config_video.json', 'r') as f: \n",
    "    cfg = json.load(f)\n",
    "\n",
    "# put all config variables in scope to avoid the need to laboriously index cfg\n",
    "for k, v in cfg.items():\n",
    "    v = f\"'{v}'\" if type(v)==str else v\n",
    "    exec(f\"{k}={v}\")"
   ]
  },
  {
   "cell_type": "code",
   "execution_count": 4,
   "id": "2a8168f5-8efb-4cb6-a39f-a31dc61f6414",
   "metadata": {},
   "outputs": [],
   "source": [
    "# optionally override the view/mode filters\n",
    "view_filter = ['pdaView', 'pdaRelatedView']\n",
    "mode_filter = ['2d', 'color', 'color_compare']"
   ]
  },
  {
   "cell_type": "code",
   "execution_count": 5,
   "id": "c46042a3-6018-4497-ae4a-a40317232777",
   "metadata": {},
   "outputs": [],
   "source": [
    "tfms = my_transforms.VideoTransforms(res)\n",
    "tfms_test = tfms.get_transforms(transforms['test'])"
   ]
  },
  {
   "cell_type": "code",
   "execution_count": 6,
   "id": "5bd114bb-8654-42da-875d-0bb19d74fb79",
   "metadata": {},
   "outputs": [
    {
     "name": "stdout",
     "output_type": "stream",
     "text": [
      "Number of frames after filtering: 16973\n"
     ]
    }
   ],
   "source": [
    "df_test = pd.read_csv(f'{artifact_folder}/{out_paths[\"test\"]}')\n",
    "d_test = VideoData(df_test, transforms = tfms_test, mode_filter = mode_filter, view_filter = view_filter)\n",
    "dl_test = DataLoader(d_test, batch_size=bs_test, num_workers=num_workers, collate_fn = VideoData.collate)\n",
    "\n",
    "print(\"Number of frames after filtering:\", len(d_test.data))"
   ]
  },
  {
   "cell_type": "code",
   "execution_count": 7,
   "id": "11cf8802-9c07-4c6c-878c-d12f4666c3b3",
   "metadata": {},
   "outputs": [
    {
     "data": {
      "text/plain": [
       "<All keys matched successfully>"
      ]
     },
     "execution_count": 7,
     "metadata": {},
     "output_type": "execute_result"
    }
   ],
   "source": [
    "# create frame model\n",
    "m_frames = timm.create_model(model, num_classes=num_classes, in_chans=3, drop_rate=dropout)\n",
    "_ = m_frames.to(device)\n",
    "\n",
    "# create video model\n",
    "m = VideoClassifier(m_frames)\n",
    "\n",
    "# load checkpoint\n",
    "m.load_state_dict(torch.load(f\"{artifact_folder}/model_checkpoint_video.ckpt\"))"
   ]
  },
  {
   "cell_type": "code",
   "execution_count": 8,
   "id": "926f6dd1-3c45-4e6e-8db5-04568e55e161",
   "metadata": {},
   "outputs": [
    {
     "name": "stdout",
     "output_type": "stream",
     "text": [
      "Batch 29\r"
     ]
    }
   ],
   "source": [
    "loss_function = torch.functional.F.binary_cross_entropy_with_logits\n",
    "\n",
    "target_ls = []\n",
    "output_ls = []\n",
    "study_ls = []\n",
    "mask_ls = []\n",
    "externalid_ls = []\n",
    "view_ls = []\n",
    "mode_ls = []\n",
    "losses = []\n",
    "attn_ls = []\n",
    "\n",
    "for ix, batch in enumerate(dl_test):\n",
    "    print(f\"Batch {ix+1}\", end = \"\\r\")\n",
    "    vid = batch['video'].to(device)\n",
    "    mask = batch['mask'].to(device)\n",
    "    targets = batch['trg_type'].to(device).type(torch.float32)\n",
    "    \n",
    "    target_ls.append(targets.cpu().numpy())\n",
    "    view_ls.append(batch['trg_view'].numpy())\n",
    "    mode_ls.append(batch['trg_mode'].numpy())\n",
    "    study_ls += batch['study']\n",
    "    mask_ls.append(batch['mask'].numpy())\n",
    "    externalid_ls += batch['external_id']\n",
    "\n",
    "    with torch.no_grad():\n",
    "        outputs, attn = m(vid, mask)\n",
    "        output_ls.append(outputs.cpu().numpy())\n",
    "        attn_ls.append(attn.cpu().numpy())\n",
    "        loss = loss_function(outputs, targets)\n",
    "        losses.append(loss.detach().item())"
   ]
  },
  {
   "cell_type": "code",
   "execution_count": 9,
   "id": "26e49e76-b38a-4f34-97b6-25c78b76d73c",
   "metadata": {},
   "outputs": [],
   "source": [
    "df_results = pd.DataFrame(dict(\n",
    "    study = study_ls,\n",
    "    external_id = externalid_ls,\n",
    "    predicted = np.concatenate(output_ls).squeeze(),\n",
    "    target = np.concatenate(target_ls), \n",
    "    mode = np.concatenate(mode_ls),\n",
    "    view = np.concatenate(view_ls)\n",
    "))\n",
    "\n",
    "df_results['mode'] = df_results['mode'].map(VideoData.inv_mode_map)\n",
    "df_results.view = df_results.view.map(VideoData.inv_view_map)"
   ]
  },
  {
   "cell_type": "markdown",
   "id": "538774f9-bd58-4cf3-855a-f2d2975b2a71",
   "metadata": {},
   "source": [
    "# Attention"
   ]
  },
  {
   "cell_type": "code",
   "execution_count": 18,
   "id": "8cf1bb1d-dffe-4e97-bcb1-9e2727ffd761",
   "metadata": {},
   "outputs": [
    {
     "data": {
      "text/html": [
       "<div>\n",
       "<style scoped>\n",
       "    .dataframe tbody tr th:only-of-type {\n",
       "        vertical-align: middle;\n",
       "    }\n",
       "\n",
       "    .dataframe tbody tr th {\n",
       "        vertical-align: top;\n",
       "    }\n",
       "\n",
       "    .dataframe thead th {\n",
       "        text-align: right;\n",
       "    }\n",
       "</style>\n",
       "<table border=\"1\" class=\"dataframe\">\n",
       "  <thead>\n",
       "    <tr style=\"text-align: right;\">\n",
       "      <th></th>\n",
       "      <th>study</th>\n",
       "      <th>external_id</th>\n",
       "      <th>predicted</th>\n",
       "      <th>target</th>\n",
       "      <th>mode</th>\n",
       "      <th>view</th>\n",
       "    </tr>\n",
       "  </thead>\n",
       "  <tbody>\n",
       "    <tr>\n",
       "      <th>3</th>\n",
       "      <td>study24</td>\n",
       "      <td>study24_dicom117</td>\n",
       "      <td>0.086322</td>\n",
       "      <td>0.0</td>\n",
       "      <td>color</td>\n",
       "      <td>pdaView</td>\n",
       "    </tr>\n",
       "    <tr>\n",
       "      <th>27</th>\n",
       "      <td>study69</td>\n",
       "      <td>study69_dicom94</td>\n",
       "      <td>0.080704</td>\n",
       "      <td>0.0</td>\n",
       "      <td>color</td>\n",
       "      <td>pdaView</td>\n",
       "    </tr>\n",
       "    <tr>\n",
       "      <th>38</th>\n",
       "      <td>study27</td>\n",
       "      <td>study27_dicom62</td>\n",
       "      <td>0.063459</td>\n",
       "      <td>0.0</td>\n",
       "      <td>color</td>\n",
       "      <td>pdaView</td>\n",
       "    </tr>\n",
       "    <tr>\n",
       "      <th>46</th>\n",
       "      <td>study59</td>\n",
       "      <td>study59_dicom113</td>\n",
       "      <td>0.112721</td>\n",
       "      <td>0.0</td>\n",
       "      <td>color</td>\n",
       "      <td>pdaView</td>\n",
       "    </tr>\n",
       "    <tr>\n",
       "      <th>86</th>\n",
       "      <td>study2</td>\n",
       "      <td>study2_dicom3</td>\n",
       "      <td>0.171996</td>\n",
       "      <td>0.0</td>\n",
       "      <td>color</td>\n",
       "      <td>pdaView</td>\n",
       "    </tr>\n",
       "    <tr>\n",
       "      <th>97</th>\n",
       "      <td>study37</td>\n",
       "      <td>study37_dicom96</td>\n",
       "      <td>0.137148</td>\n",
       "      <td>0.0</td>\n",
       "      <td>color</td>\n",
       "      <td>pdaView</td>\n",
       "    </tr>\n",
       "    <tr>\n",
       "      <th>101</th>\n",
       "      <td>study37</td>\n",
       "      <td>study37_dicom84</td>\n",
       "      <td>0.034202</td>\n",
       "      <td>0.0</td>\n",
       "      <td>color</td>\n",
       "      <td>pdaView</td>\n",
       "    </tr>\n",
       "    <tr>\n",
       "      <th>135</th>\n",
       "      <td>study57</td>\n",
       "      <td>study57_dicom61</td>\n",
       "      <td>0.102898</td>\n",
       "      <td>0.0</td>\n",
       "      <td>color</td>\n",
       "      <td>pdaView</td>\n",
       "    </tr>\n",
       "    <tr>\n",
       "      <th>149</th>\n",
       "      <td>study32</td>\n",
       "      <td>study32_dicom83</td>\n",
       "      <td>0.008983</td>\n",
       "      <td>0.0</td>\n",
       "      <td>color</td>\n",
       "      <td>pdaView</td>\n",
       "    </tr>\n",
       "    <tr>\n",
       "      <th>156</th>\n",
       "      <td>study28</td>\n",
       "      <td>study28_dicom28</td>\n",
       "      <td>0.144379</td>\n",
       "      <td>0.0</td>\n",
       "      <td>color</td>\n",
       "      <td>pdaView</td>\n",
       "    </tr>\n",
       "    <tr>\n",
       "      <th>158</th>\n",
       "      <td>study28</td>\n",
       "      <td>study28_dicom12</td>\n",
       "      <td>0.574749</td>\n",
       "      <td>0.0</td>\n",
       "      <td>color</td>\n",
       "      <td>pdaView</td>\n",
       "    </tr>\n",
       "    <tr>\n",
       "      <th>167</th>\n",
       "      <td>study25</td>\n",
       "      <td>study25_dicom69</td>\n",
       "      <td>0.299372</td>\n",
       "      <td>0.0</td>\n",
       "      <td>color</td>\n",
       "      <td>pdaView</td>\n",
       "    </tr>\n",
       "    <tr>\n",
       "      <th>169</th>\n",
       "      <td>study25</td>\n",
       "      <td>study25_dicom64</td>\n",
       "      <td>0.062279</td>\n",
       "      <td>0.0</td>\n",
       "      <td>color</td>\n",
       "      <td>pdaView</td>\n",
       "    </tr>\n",
       "  </tbody>\n",
       "</table>\n",
       "</div>"
      ],
      "text/plain": [
       "       study       external_id  predicted  target   mode     view\n",
       "3    study24  study24_dicom117   0.086322     0.0  color  pdaView\n",
       "27   study69   study69_dicom94   0.080704     0.0  color  pdaView\n",
       "38   study27   study27_dicom62   0.063459     0.0  color  pdaView\n",
       "46   study59  study59_dicom113   0.112721     0.0  color  pdaView\n",
       "86    study2     study2_dicom3   0.171996     0.0  color  pdaView\n",
       "97   study37   study37_dicom96   0.137148     0.0  color  pdaView\n",
       "101  study37   study37_dicom84   0.034202     0.0  color  pdaView\n",
       "135  study57   study57_dicom61   0.102898     0.0  color  pdaView\n",
       "149  study32   study32_dicom83   0.008983     0.0  color  pdaView\n",
       "156  study28   study28_dicom28   0.144379     0.0  color  pdaView\n",
       "158  study28   study28_dicom12   0.574749     0.0  color  pdaView\n",
       "167  study25   study25_dicom69   0.299372     0.0  color  pdaView\n",
       "169  study25   study25_dicom64   0.062279     0.0  color  pdaView"
      ]
     },
     "execution_count": 18,
     "metadata": {},
     "output_type": "execute_result"
    }
   ],
   "source": [
    "df_results.query('target==0.0 and mode==\"color\" and view==\"pdaView\"')"
   ]
  },
  {
   "cell_type": "markdown",
   "id": "d3553992-dc63-40fe-b4d3-2ae56ec05d48",
   "metadata": {},
   "source": [
    "### PDA Plot"
   ]
  },
  {
   "cell_type": "code",
   "execution_count": 20,
   "id": "ecbe4d87-0674-456e-ab13-3500b4dea17c",
   "metadata": {},
   "outputs": [
    {
     "name": "stdout",
     "output_type": "stream",
     "text": [
      "study36_dicom45 - pda - pdaView\n"
     ]
    },
    {
     "data": {
      "image/png": "[encoded data removed]",
      "text/plain": [
       "<Figure size 900x300 with 1 Axes>"
      ]
     },
     "metadata": {},
     "output_type": "display_data"
    }
   ],
   "source": [
    "index = 115\n",
    "batch_ix = index // bs_test\n",
    "ix_in_batch = index % bs_test\n",
    "\n",
    "mask = mask_ls[batch_ix][...,ix_in_batch]\n",
    "attn = attn_ls[batch_ix][...,ix_in_batch]\n",
    "trg_type = int(target_ls[batch_ix][ix_in_batch])\n",
    "target = VideoData.inv_type_map[trg_type]\n",
    "view = VideoData.inv_view_map[int(view_ls[batch_ix][ix_in_batch])]\n",
    "external_id = externalid_ls[index]\n",
    "\n",
    "mp4_path = df_test.loc[(df_test.external_id == external_id) & (df_test.trg_type == trg_type)].mp4_path.unique().item()\n",
    "mp4_path = mp4_path.replace('/Superior Views/', '/superior_views_h264/')\n",
    "\n",
    "print(external_id, target, view, sep=' - ')\n",
    "\n",
    "plt.rcParams['font.size']=18\n",
    "points = [6, 21, 57, 66]\n",
    "plt.plot(attn[mask], linewidth=3)\n",
    "plt.plot(points, attn[mask][points], 'ko', markersize=8)\n",
    "plt.ylim(0,None)\n",
    "plt.xlabel(\"Frame Number\")\n",
    "plt.ylabel(\"Attention\")\n",
    "plt.gcf().set_size_inches(9,3)\n",
    "plt.grid()\n",
    "plt.tight_layout()\n",
    "plt.savefig('/home/dane2/Code/pda_detection/attention.png', dpi=500)\n",
    "plt.show()\n",
    "\n",
    "images = \\\n",
    "    df_test.loc[(df_test.external_id == external_id) & (df_test.trg_type == trg_type), 'png_path'].\\\n",
    "    sort_values().iloc[points].tolist()\n",
    "\n",
    "# save images\n",
    "import shutil\n",
    "for im in images:\n",
    "    shutil.copy(im, '/home/dane2/Code/pda_detection/')"
   ]
  },
  {
   "cell_type": "code",
   "execution_count": 21,
   "id": "72801bf2-aeda-4167-b496-7296119262eb",
   "metadata": {},
   "outputs": [
    {
     "data": {
      "text/plain": [
       "['/zfs/wficai/pda/model_data/20220901/pda_study36_dicom45_frame0006.jpg',\n",
       " '/zfs/wficai/pda/model_data/20220901/pda_study36_dicom45_frame0021.jpg',\n",
       " '/zfs/wficai/pda/model_data/20220901/pda_study36_dicom45_frame0057.jpg',\n",
       " '/zfs/wficai/pda/model_data/20220901/pda_study36_dicom45_frame0066.jpg']"
      ]
     },
     "execution_count": 21,
     "metadata": {},
     "output_type": "execute_result"
    }
   ],
   "source": [
    "images"
   ]
  },
  {
   "cell_type": "markdown",
   "id": "db0f2d5c-a68a-4e85-a2e6-6ce66dc71e5f",
   "metadata": {},
   "source": [
    "### Non-PDA Plot"
   ]
  },
  {
   "cell_type": "code",
   "execution_count": 28,
   "id": "c1f454db-fcdf-4660-b69a-d5598052cc6a",
   "metadata": {},
   "outputs": [
    {
     "name": "stdout",
     "output_type": "stream",
     "text": [
      "study32_dicom83 - nopda - pdaView\n"
     ]
    },
    {
     "data": {
      "image/png": "[encoded data removed]",
      "text/plain": [
       "<Figure size 900x300 with 1 Axes>"
      ]
     },
     "metadata": {},
     "output_type": "display_data"
    }
   ],
   "source": [
    "index = 149\n",
    "batch_ix = index // bs_test\n",
    "ix_in_batch = index % bs_test\n",
    "\n",
    "mask = mask_ls[batch_ix][...,ix_in_batch]\n",
    "attn = attn_ls[batch_ix][...,ix_in_batch]\n",
    "trg_type = int(target_ls[batch_ix][ix_in_batch])\n",
    "target = VideoData.inv_type_map[trg_type]\n",
    "view = VideoData.inv_view_map[int(view_ls[batch_ix][ix_in_batch])]\n",
    "external_id = externalid_ls[index]\n",
    "\n",
    "mp4_path = df_test.loc[(df_test.external_id == external_id) & (df_test.trg_type == trg_type)].mp4_path.unique().item()\n",
    "mp4_path = mp4_path.replace('/Superior Views/', '/superior_views_h264/')\n",
    "\n",
    "print(external_id, target, view, sep=' - ')\n",
    "\n",
    "plt.rcParams['font.size']=18\n",
    "points = [10, 29, 41, 65]\n",
    "plt.plot(attn[mask], linewidth=3)\n",
    "plt.plot(points, attn[mask][points], 'ko', markersize=8)\n",
    "plt.ylim(-0.003,None)\n",
    "plt.xlabel(\"Frame Number\")\n",
    "plt.ylabel(\"Attention\")\n",
    "plt.gcf().set_size_inches(9,3)\n",
    "plt.grid()\n",
    "plt.tight_layout()\n",
    "plt.savefig('/home/dane2/Code/pda_detection/attention.png', dpi=500)\n",
    "plt.show()\n",
    "\n",
    "images = \\\n",
    "    df_test.loc[(df_test.external_id == external_id) & (df_test.trg_type == trg_type), 'png_path'].\\\n",
    "    sort_values().iloc[points].tolist()\n",
    "\n",
    "# save images\n",
    "import shutil\n",
    "for im in images:\n",
    "    shutil.copy(im, '/home/dane2/Code/pda_detection/')"
   ]
  },
  {
   "cell_type": "code",
   "execution_count": null,
   "id": "738783f1-fe39-4bd9-9d5b-07b96b0e61fb",
   "metadata": {},
   "outputs": [],
   "source": [
    "# from IPython.display import FileLink\n",
    "!cp $mp4_path /home/dane2/Code/pda_detection/"
   ]
  },
  {
   "cell_type": "code",
   "execution_count": 29,
   "id": "763c539c-2c5f-4bc6-9204-828aeafd9328",
   "metadata": {},
   "outputs": [
    {
     "data": {
      "text/plain": [
       "['/zfs/wficai/pda/model_data/20220901/nopda_study32_dicom83_frame0010.jpg',\n",
       " '/zfs/wficai/pda/model_data/20220901/nopda_study32_dicom83_frame0029.jpg',\n",
       " '/zfs/wficai/pda/model_data/20220901/nopda_study32_dicom83_frame0041.jpg',\n",
       " '/zfs/wficai/pda/model_data/20220901/nopda_study32_dicom83_frame0065.jpg']"
      ]
     },
     "execution_count": 29,
     "metadata": {},
     "output_type": "execute_result"
    }
   ],
   "source": [
    "images"
   ]
  },
  {
   "cell_type": "code",
   "execution_count": null,
   "id": "f0fbadfc-99e2-462a-b87b-729ac935ad56",
   "metadata": {},
   "outputs": [],
   "source": []
  }
 ],
 "metadata": {
  "kernelspec": {
   "display_name": "PDA",
   "language": "python",
   "name": "pda"
  },
  "language_info": {
   "codemirror_mode": {
    "name": "ipython",
    "version": 3
   },
   "file_extension": ".py",
   "mimetype": "text/x-python",
   "name": "python",
   "nbconvert_exporter": "python",
   "pygments_lexer": "ipython3",
   "version": "3.9.12"
  }
 },
 "nbformat": 4,
 "nbformat_minor": 5
}
